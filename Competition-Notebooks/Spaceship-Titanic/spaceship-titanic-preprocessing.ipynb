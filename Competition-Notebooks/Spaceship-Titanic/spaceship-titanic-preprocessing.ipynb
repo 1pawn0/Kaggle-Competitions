{
 "cells": [
  {
   "cell_type": "code",
   "id": "9f21532000e7d8b9",
   "metadata": {
    "ExecuteTime": {
     "end_time": "2025-02-01T15:08:29.975969Z",
     "start_time": "2025-02-01T15:08:26.497616Z"
    }
   },
   "source": [
    "import numpy as np\n",
    "import matplotlib.pyplot as plt\n",
    "import polars as pl\n",
    "import sklearn\n",
    "import os, pathlib, shutil, zipfile\n",
    "import kaggle, kagglehub\n",
    "from pyspark.sql.connect.functions import cardinality"
   ],
   "outputs": [],
   "execution_count": 1
  },
  {
   "cell_type": "code",
   "id": "initial_id",
   "metadata": {
    "collapsed": true,
    "ExecuteTime": {
     "end_time": "2025-02-01T15:08:32.090227Z",
     "start_time": "2025-02-01T15:08:29.986027Z"
    }
   },
   "source": [
    "### Downloading the competition\n",
    "competition_name = \"spaceship-titanic\"  # Change this to the competition you want to download\n",
    "\n",
    "competition_path = pathlib.Path(\n",
    "    kagglehub.competition.competition_download(competition_name))  # Downloads the competition\n",
    "competition_files: list = os.listdir(competition_path)  # List of the files included in the competition\n",
    "\n",
    "print(competition_files)\n",
    "\n",
    "# copy `sample_submission.csv` file to current directory\n",
    "shutil.copyfile(competition_path / \"sample_submission.csv\", \"sample_submission.csv\")\n",
    "shutil.copyfile(competition_path / \"test.csv\", \"test.csv\")"
   ],
   "outputs": [
    {
     "name": "stdout",
     "output_type": "stream",
     "text": [
      "['sample_submission.csv', 'test.csv', 'train.csv']\n"
     ]
    },
    {
     "data": {
      "text/plain": [
       "'test.csv'"
      ]
     },
     "execution_count": 2,
     "metadata": {},
     "output_type": "execute_result"
    }
   ],
   "execution_count": 2
  },
  {
   "metadata": {},
   "cell_type": "markdown",
   "source": [
    "### File and Data Field Descriptions\n",
    "train.csv - Personal records for about two-thirds (~8700) of the passengers, to be used as training data.\n",
    "\n",
    "- PassengerId - A unique Id for each passenger. Each Id takes the form gggg_pp where gggg indicates a group the passenger is travelling with and pp is their number within the group. People in a group are often family members, but not always.\n",
    "- HomePlanet - The planet the passenger departed from, typically their planet of permanent residence.\n",
    "- CryoSleep - Indicates whether the passenger elected to be put into suspended animation for the duration of the voyage. Passengers in cryosleep are confined to their cabins.\n",
    "- Cabin - The cabin number where the passenger is staying. Takes the form deck/num/side, where side can be either P for Port or S for Starboard.\n",
    "- Destination - The planet the passenger will be debarking to.\n",
    "- Age - The age of the passenger.\n",
    "- VIP - Whether the passenger has paid for special VIP service during the voyage.\n",
    "- RoomService, FoodCourt, ShoppingMall, Spa, VRDeck - Amount the passenger has billed at each of the Spaceship Titanic's many luxury amenities.\n",
    "- Name - The first and last names of the passenger.\n",
    "- Transported - Whether the passenger was transported to another dimension. This is the target, the column you are trying to predict.\n",
    "test.csv - Personal records for the remaining one-third (~4300) of the passengers, to be used as test data. Your task is to predict the value of Transported for the passengers in this set.\n",
    "sample_submission.csv - A submission file in the correct format.\n",
    "PassengerId - Id for each passenger in the test set.\n",
    "Transported - The target. For each passenger, predict either True or False."
   ],
   "id": "3ef6546b424c90ee"
  },
  {
   "cell_type": "code",
   "id": "f982ca0d6dbd7016",
   "metadata": {
    "ExecuteTime": {
     "end_time": "2025-02-01T15:09:14.890784Z",
     "start_time": "2025-02-01T15:09:14.782301Z"
    }
   },
   "source": [
    "pl.Config.set_tbl_rows(40)\n",
    "train_df = pl.read_csv(competition_path / \"train.csv\")\n",
    "test_df = pl.read_csv(competition_path / \"test.csv\")\n",
    "sample_submission_df = pl.read_csv(competition_path / \"sample_submission.csv\")\n",
    "\n",
    "train_df_height = train_df.height"
   ],
   "outputs": [],
   "execution_count": 3
  },
  {
   "cell_type": "markdown",
   "id": "19fec20953b3e4fb",
   "metadata": {},
   "source": [
    "Helper functions\n"
   ]
  },
  {
   "cell_type": "code",
   "id": "896540b070dcead0",
   "metadata": {
    "ExecuteTime": {
     "end_time": "2025-02-01T15:09:28.369912Z",
     "start_time": "2025-02-01T15:09:28.362775Z"
    }
   },
   "source": [
    "def split_passenger_id(p_id: str) -> list[int]:\n",
    "    id_split = p_id.split(\"_\")\n",
    "    return [int(id_split[0]), int(id_split[1])]\n",
    "\n",
    "\n",
    "def split_cabin(cabin: str) -> list:\n",
    "    return cabin.split(\"/\")\n",
    "\n",
    "\n",
    "def split_name(name: str) -> list[str]:\n",
    "    return name.split(\" \")"
   ],
   "outputs": [],
   "execution_count": 5
  },
  {
   "cell_type": "code",
   "id": "ac0ed4d89568060a",
   "metadata": {
    "ExecuteTime": {
     "end_time": "2025-02-01T15:09:37.988804Z",
     "start_time": "2025-02-01T15:09:37.131051Z"
    }
   },
   "source": [
    "test_df = test_df.with_columns([pl.Series(\"Transported\", [None] * test_df.height)])\n",
    "df = pl.concat([train_df, test_df])\n",
    "\n",
    "df = df.with_columns(\n",
    "    pl.col(\"PassengerId\")\n",
    "    .map_elements(split_passenger_id, return_dtype=pl.List(pl.Int16))\n",
    "    .cast(pl.Array(pl.Int16, 2))\n",
    ")\n",
    "df = df.with_columns(\n",
    "    pl.col(\"Cabin\").map_elements(split_cabin, return_dtype=pl.List(pl.String))\n",
    ")\n",
    "df = df.with_columns(\n",
    "    pl.col(\"Name\").map_elements(split_name, return_dtype=pl.List(pl.String))\n",
    ")\n",
    "\n",
    "df = df.select(\n",
    "    [\n",
    "        pl.col(\"Cabin\").list.get(0).cast(pl.Categorical).alias(\"deck_of_cabin\"),\n",
    "        pl.col(\"Cabin\").list.get(1).cast(pl.UInt16).alias(\"num_of_cabin\"),\n",
    "        pl.col(\"Cabin\").list.get(2).cast(pl.Categorical).alias(\"side_of_cabin\"),\n",
    "        #     `side_of_cabin` can be either P for Port or S for Starboard.\n",
    "    ]\n",
    ").hstack(df.drop(\"Cabin\"))\n",
    "df = df.select(\n",
    "    [\n",
    "        pl.col(\"Name\").list.get(0).cast(pl.Categorical).alias(\"first_name\"),\n",
    "        pl.col(\"Name\").list.get(1).cast(pl.Categorical).alias(\"last_name\"),\n",
    "    ]\n",
    ").hstack(df.drop(\"Name\"))\n",
    "df = df.select(\n",
    "    [\n",
    "        pl.col(\"PassengerId\").arr.get(0).cast(pl.UInt16).alias(\"group\"),\n",
    "        # `group` column indicates a group the passenger is travelling with.\n",
    "        pl.col(\"PassengerId\").arr.get(1).cast(pl.UInt8).alias(\"num_in_group\"),\n",
    "        #`num_in_group` is the passenger number within the group.\n",
    "        # People in a group are often family members, but not always.\n",
    "    ]\n",
    ").hstack(df.drop(\"PassengerId\"))\n",
    "\n",
    "df = df.with_columns(\n",
    "    [\n",
    "        pl.col(\"HomePlanet\").cast(pl.Categorical),\n",
    "        pl.col(\"Destination\").cast(pl.Categorical),\n",
    "        pl.col(\"Age\").cast(pl.UInt8),\n",
    "        pl.col(\"RoomService\").cast(pl.UInt16),\n",
    "        pl.col(\"FoodCourt\").cast(pl.UInt16),\n",
    "        pl.col(\"ShoppingMall\").cast(pl.UInt16),\n",
    "        pl.col(\"Spa\").cast(pl.UInt16),\n",
    "        pl.col(\"VRDeck\").cast(pl.UInt16),\n",
    "    ]\n",
    ")\n",
    "\n",
    "# RoomService, FoodCourt, ShoppingMall, Spa, VRDeck - Amount the passenger has billed at each of the Spaceship Titanic's many luxury amenities.\n",
    "df = df.with_columns([\n",
    "    (pl.col('RoomService').fill_null(0)\n",
    "     + pl.col('FoodCourt').fill_null(0)\n",
    "     + pl.col('ShoppingMall').fill_null(0)\n",
    "     + pl.col('Spa').fill_null(0)\n",
    "     + pl.col('VRDeck').fill_null(0)\n",
    "     )\n",
    "    .cast(pl.UInt16).alias('total_bill')\n",
    "])\n",
    "\n",
    "df = df.with_columns([\n",
    "    # pl.when(pl.col('side_of_cabin') == 'P').then(True).otherwise(False).alias('is_port_side'),\n",
    "    pl.when(pl.col('side_of_cabin') == 'S').then(True).otherwise(False).alias('is_starboard_side'),\n",
    "])\n",
    "\n",
    "df = df.with_row_index(offset=1)\n",
    "df.write_parquet(\"raw_df.parquet\", statistics='full')"
   ],
   "outputs": [],
   "execution_count": 6
  },
  {
   "metadata": {},
   "cell_type": "markdown",
   "source": "",
   "id": "5d7b73f5d21c0f75"
  },
  {
   "metadata": {
    "ExecuteTime": {
     "end_time": "2025-02-01T15:11:15.481040Z",
     "start_time": "2025-02-01T15:11:15.474019Z"
    }
   },
   "cell_type": "code",
   "source": "df = pl.read_parquet(\"raw_df.parquet\")",
   "id": "f378cff069f75493",
   "outputs": [],
   "execution_count": 7
  },
  {
   "metadata": {},
   "cell_type": "markdown",
   "source": "Print unique values count of each columns",
   "id": "36e9ef8d0969ccae"
  },
  {
   "metadata": {
    "ExecuteTime": {
     "end_time": "2025-02-01T16:17:38.769692Z",
     "start_time": "2025-02-01T16:17:38.741395Z"
    }
   },
   "cell_type": "code",
   "source": [
    "cardinalities = {}\n",
    "for col in df.columns:\n",
    "    cardinalities[col] = df.select(col).n_unique()\n",
    "\n",
    "c = pl.DataFrame(cardinalities).transpose(include_header=True, header_name='Feature',\n",
    "                                          column_names=['Cardinality']).sort(by='Cardinality')\n",
    "categorical_features = c.filter(pl.col('Cardinality') < 80).select('Feature').to_numpy().flatten()\n",
    "numerical_features = c.filter(pl.col('Cardinality') >= 80).select('Feature').to_numpy().flatten()"
   ],
   "id": "1348e13c4fd506f5",
   "outputs": [],
   "execution_count": 75
  },
  {
   "metadata": {
    "ExecuteTime": {
     "end_time": "2025-02-01T16:18:00.070629Z",
     "start_time": "2025-02-01T16:18:00.066885Z"
    }
   },
   "cell_type": "code",
   "source": [
    "df = df.select(*categorical_features, *numerical_features)\n",
    "\n",
    "train_df = df.limit(train_df_height)\n",
    "test_df = df.slice(train_df_height)"
   ],
   "id": "2b4c970ab69b1a76",
   "outputs": [],
   "execution_count": 78
  },
  {
   "cell_type": "code",
   "id": "66ef48b2",
   "metadata": {
    "ExecuteTime": {
     "end_time": "2025-02-01T10:53:45.033595Z",
     "start_time": "2025-02-01T10:53:45.021850Z"
    }
   },
   "source": [
    "train_df.write_parquet(\"train_df.parquet\", statistics='full')\n",
    "test_df.write_parquet(\"test_df.parquet\", statistics='full')"
   ],
   "outputs": [],
   "execution_count": 89
  },
  {
   "cell_type": "code",
   "id": "b7b01a8e22cd7c32",
   "metadata": {
    "ExecuteTime": {
     "end_time": "2025-02-01T16:18:21.250864Z",
     "start_time": "2025-02-01T16:18:21.236612Z"
    }
   },
   "source": "train_df",
   "outputs": [
    {
     "data": {
      "text/plain": [
       "shape: (8_693, 21)\n",
       "┌───────────────┬───────────────┬────────────┬───────┬───┬────────────┬────────────┬───────┬───────┐\n",
       "│ is_starboard_ ┆ side_of_cabin ┆ cryo_sleep ┆ vip   ┆ … ┆ first_name ┆ total_bill ┆ group ┆ index │\n",
       "│ side          ┆ ---           ┆ ---        ┆ ---   ┆   ┆ ---        ┆ ---        ┆ ---   ┆ ---   │\n",
       "│ ---           ┆ cat           ┆ bool       ┆ bool  ┆   ┆ cat        ┆ u16        ┆ u16   ┆ u32   │\n",
       "│ bool          ┆               ┆            ┆       ┆   ┆            ┆            ┆       ┆       │\n",
       "╞═══════════════╪═══════════════╪════════════╪═══════╪═══╪════════════╪════════════╪═══════╪═══════╡\n",
       "│ false         ┆ P             ┆ false      ┆ false ┆ … ┆ Maham      ┆ 0          ┆ 1     ┆ 1     │\n",
       "│ true          ┆ S             ┆ false      ┆ false ┆ … ┆ Juanna     ┆ 736        ┆ 2     ┆ 2     │\n",
       "│ true          ┆ S             ┆ false      ┆ true  ┆ … ┆ Altark     ┆ 10383      ┆ 3     ┆ 3     │\n",
       "│ true          ┆ S             ┆ false      ┆ false ┆ … ┆ Solam      ┆ 5176       ┆ 3     ┆ 4     │\n",
       "│ true          ┆ S             ┆ false      ┆ false ┆ … ┆ Willy      ┆ 1091       ┆ 4     ┆ 5     │\n",
       "│ false         ┆ P             ┆ false      ┆ false ┆ … ┆ Sandie     ┆ 774        ┆ 5     ┆ 6     │\n",
       "│ true          ┆ S             ┆ false      ┆ false ┆ … ┆ Billex     ┆ 1584       ┆ 6     ┆ 7     │\n",
       "│ true          ┆ S             ┆ true       ┆ false ┆ … ┆ Candra     ┆ 0          ┆ 6     ┆ 8     │\n",
       "│ true          ┆ S             ┆ false      ┆ false ┆ … ┆ Andona     ┆ 1018       ┆ 7     ┆ 9     │\n",
       "│ false         ┆ P             ┆ true       ┆ false ┆ … ┆ Erraiam    ┆ 0          ┆ 8     ┆ 10    │\n",
       "│ false         ┆ P             ┆ true       ┆ false ┆ … ┆ Altardr    ┆ 0          ┆ 8     ┆ 11    │\n",
       "│ false         ┆ P             ┆ false      ┆ false ┆ … ┆ Wezena     ┆ 8157       ┆ 8     ┆ 12    │\n",
       "│ false         ┆ P             ┆ false      ┆ false ┆ … ┆ Berers     ┆ 1309       ┆ 9     ┆ 13    │\n",
       "│ true          ┆ S             ┆ false      ┆ false ┆ … ┆ Reney      ┆ 809        ┆ 10    ┆ 14    │\n",
       "│ false         ┆ P             ┆ false      ┆ false ┆ … ┆ Elle       ┆ 1003       ┆ 11    ┆ 15    │\n",
       "│ false         ┆ null          ┆ false      ┆ false ┆ … ┆ Justie     ┆ 908        ┆ 12    ┆ 16    │\n",
       "│ false         ┆ P             ┆ false      ┆ false ┆ … ┆ Flats      ┆ 1408       ┆ 14    ┆ 17    │\n",
       "│ false         ┆ P             ┆ false      ┆ false ┆ … ┆ Carry      ┆ 638        ┆ 15    ┆ 18    │\n",
       "│ false         ┆ P             ┆ true       ┆ false ┆ … ┆ Alus       ┆ 0          ┆ 16    ┆ 19    │\n",
       "│ false         ┆ P             ┆ false      ┆ false ┆ … ┆ Lyde       ┆ 0          ┆ 17    ┆ 20    │\n",
       "│ …             ┆ …             ┆ …          ┆ …     ┆ … ┆ …          ┆ …          ┆ …     ┆ …     │\n",
       "│ true          ┆ S             ┆ true       ┆ false ┆ … ┆ Darley     ┆ 0          ┆ 9256  ┆ 8674  │\n",
       "│ false         ┆ P             ┆ false      ┆ false ┆ … ┆ Ties       ┆ 1148       ┆ 9257  ┆ 8675  │\n",
       "│ false         ┆ P             ┆ null       ┆ false ┆ … ┆ Annah      ┆ 2056       ┆ 9259  ┆ 8676  │\n",
       "│ false         ┆ P             ┆ true       ┆ false ┆ … ┆ Therta     ┆ 0          ┆ 9261  ┆ 8677  │\n",
       "│ true          ┆ S             ┆ true       ┆ false ┆ … ┆ Giedir     ┆ 0          ┆ 9264  ┆ 8678  │\n",
       "│ true          ┆ S             ┆ true       ┆ false ┆ … ┆ Arraid     ┆ 0          ┆ 9267  ┆ 8679  │\n",
       "│ true          ┆ S             ┆ true       ┆ false ┆ … ┆ Sabi       ┆ 0          ┆ 9267  ┆ 8680  │\n",
       "│ false         ┆ P             ┆ true       ┆ false ┆ … ┆ Agnesa     ┆ 0          ┆ 9268  ┆ 8681  │\n",
       "│ true          ┆ S             ┆ true       ┆ false ┆ … ┆ Lan        ┆ 0          ┆ 9270  ┆ 8682  │\n",
       "│ false         ┆ P             ┆ false      ┆ false ┆ … ┆ Ireene     ┆ 992        ┆ 9272  ┆ 8683  │\n",
       "│ false         ┆ P             ┆ false      ┆ false ┆ … ┆ Gordo      ┆ 775        ┆ 9272  ┆ 8684  │\n",
       "│ false         ┆ P             ┆ true       ┆ false ┆ … ┆ Chelsa     ┆ 0          ┆ 9274  ┆ 8685  │\n",
       "│ false         ┆ P             ┆ false      ┆ false ┆ … ┆ Polaton    ┆ 0          ┆ 9275  ┆ 8686  │\n",
       "│ false         ┆ P             ┆ false      ┆ false ┆ … ┆ Diram      ┆ 1231       ┆ 9275  ┆ 8687  │\n",
       "│ false         ┆ P             ┆ null       ┆ false ┆ … ┆ Atlasym    ┆ 3540       ┆ 9275  ┆ 8688  │\n",
       "│ false         ┆ P             ┆ false      ┆ true  ┆ … ┆ Gravior    ┆ 8536       ┆ 9276  ┆ 8689  │\n",
       "│ true          ┆ S             ┆ true       ┆ false ┆ … ┆ Kurta      ┆ 0          ┆ 9278  ┆ 8690  │\n",
       "│ true          ┆ S             ┆ false      ┆ false ┆ … ┆ Fayey      ┆ 1873       ┆ 9279  ┆ 8691  │\n",
       "│ true          ┆ S             ┆ false      ┆ false ┆ … ┆ Celeon     ┆ 4637       ┆ 9280  ┆ 8692  │\n",
       "│ true          ┆ S             ┆ false      ┆ false ┆ … ┆ Propsh     ┆ 4826       ┆ 9280  ┆ 8693  │\n",
       "└───────────────┴───────────────┴────────────┴───────┴───┴────────────┴────────────┴───────┴───────┘"
      ],
      "text/html": [
       "<div><style>\n",
       ".dataframe > thead > tr,\n",
       ".dataframe > tbody > tr {\n",
       "  text-align: right;\n",
       "  white-space: pre-wrap;\n",
       "}\n",
       "</style>\n",
       "<small>shape: (8_693, 21)</small><table border=\"1\" class=\"dataframe\"><thead><tr><th>is_starboard_side</th><th>side_of_cabin</th><th>cryo_sleep</th><th>vip</th><th>Transported</th><th>home_planet</th><th>destination</th><th>num_in_group</th><th>deck_of_cabin</th><th>age</th><th>ShoppingMall</th><th>RoomService</th><th>VRDeck</th><th>Spa</th><th>num_of_cabin</th><th>FoodCourt</th><th>last_name</th><th>first_name</th><th>total_bill</th><th>group</th><th>index</th></tr><tr><td>bool</td><td>cat</td><td>bool</td><td>bool</td><td>bool</td><td>cat</td><td>cat</td><td>u8</td><td>cat</td><td>u8</td><td>u16</td><td>u16</td><td>u16</td><td>u16</td><td>u16</td><td>u16</td><td>cat</td><td>cat</td><td>u16</td><td>u16</td><td>u32</td></tr></thead><tbody><tr><td>false</td><td>&quot;P&quot;</td><td>false</td><td>false</td><td>false</td><td>&quot;Europa&quot;</td><td>&quot;TRAPPIST-1e&quot;</td><td>1</td><td>&quot;B&quot;</td><td>39</td><td>0</td><td>0</td><td>0</td><td>0</td><td>0</td><td>0</td><td>&quot;Ofracculy&quot;</td><td>&quot;Maham&quot;</td><td>0</td><td>1</td><td>1</td></tr><tr><td>true</td><td>&quot;S&quot;</td><td>false</td><td>false</td><td>true</td><td>&quot;Earth&quot;</td><td>&quot;TRAPPIST-1e&quot;</td><td>1</td><td>&quot;F&quot;</td><td>24</td><td>25</td><td>109</td><td>44</td><td>549</td><td>0</td><td>9</td><td>&quot;Vines&quot;</td><td>&quot;Juanna&quot;</td><td>736</td><td>2</td><td>2</td></tr><tr><td>true</td><td>&quot;S&quot;</td><td>false</td><td>true</td><td>false</td><td>&quot;Europa&quot;</td><td>&quot;TRAPPIST-1e&quot;</td><td>1</td><td>&quot;A&quot;</td><td>58</td><td>0</td><td>43</td><td>49</td><td>6715</td><td>0</td><td>3576</td><td>&quot;Susent&quot;</td><td>&quot;Altark&quot;</td><td>10383</td><td>3</td><td>3</td></tr><tr><td>true</td><td>&quot;S&quot;</td><td>false</td><td>false</td><td>false</td><td>&quot;Europa&quot;</td><td>&quot;TRAPPIST-1e&quot;</td><td>2</td><td>&quot;A&quot;</td><td>33</td><td>371</td><td>0</td><td>193</td><td>3329</td><td>0</td><td>1283</td><td>&quot;Susent&quot;</td><td>&quot;Solam&quot;</td><td>5176</td><td>3</td><td>4</td></tr><tr><td>true</td><td>&quot;S&quot;</td><td>false</td><td>false</td><td>true</td><td>&quot;Earth&quot;</td><td>&quot;TRAPPIST-1e&quot;</td><td>1</td><td>&quot;F&quot;</td><td>16</td><td>151</td><td>303</td><td>2</td><td>565</td><td>1</td><td>70</td><td>&quot;Santantines&quot;</td><td>&quot;Willy&quot;</td><td>1091</td><td>4</td><td>5</td></tr><tr><td>false</td><td>&quot;P&quot;</td><td>false</td><td>false</td><td>true</td><td>&quot;Earth&quot;</td><td>&quot;PSO J318.5-22&quot;</td><td>1</td><td>&quot;F&quot;</td><td>44</td><td>0</td><td>0</td><td>0</td><td>291</td><td>0</td><td>483</td><td>&quot;Hinetthews&quot;</td><td>&quot;Sandie&quot;</td><td>774</td><td>5</td><td>6</td></tr><tr><td>true</td><td>&quot;S&quot;</td><td>false</td><td>false</td><td>true</td><td>&quot;Earth&quot;</td><td>&quot;TRAPPIST-1e&quot;</td><td>1</td><td>&quot;F&quot;</td><td>26</td><td>3</td><td>42</td><td>0</td><td>0</td><td>2</td><td>1539</td><td>&quot;Jacostaffey&quot;</td><td>&quot;Billex&quot;</td><td>1584</td><td>6</td><td>7</td></tr><tr><td>true</td><td>&quot;S&quot;</td><td>true</td><td>false</td><td>true</td><td>&quot;Earth&quot;</td><td>&quot;TRAPPIST-1e&quot;</td><td>2</td><td>&quot;G&quot;</td><td>28</td><td>0</td><td>0</td><td>null</td><td>0</td><td>0</td><td>0</td><td>&quot;Jacostaffey&quot;</td><td>&quot;Candra&quot;</td><td>0</td><td>6</td><td>8</td></tr><tr><td>true</td><td>&quot;S&quot;</td><td>false</td><td>false</td><td>true</td><td>&quot;Earth&quot;</td><td>&quot;TRAPPIST-1e&quot;</td><td>1</td><td>&quot;F&quot;</td><td>35</td><td>17</td><td>0</td><td>0</td><td>216</td><td>3</td><td>785</td><td>&quot;Beston&quot;</td><td>&quot;Andona&quot;</td><td>1018</td><td>7</td><td>9</td></tr><tr><td>false</td><td>&quot;P&quot;</td><td>true</td><td>false</td><td>true</td><td>&quot;Europa&quot;</td><td>&quot;55 Cancri e&quot;</td><td>1</td><td>&quot;B&quot;</td><td>14</td><td>0</td><td>0</td><td>0</td><td>0</td><td>1</td><td>0</td><td>&quot;Flatic&quot;</td><td>&quot;Erraiam&quot;</td><td>0</td><td>8</td><td>10</td></tr><tr><td>false</td><td>&quot;P&quot;</td><td>true</td><td>false</td><td>true</td><td>&quot;Europa&quot;</td><td>&quot;TRAPPIST-1e&quot;</td><td>2</td><td>&quot;B&quot;</td><td>34</td><td>null</td><td>0</td><td>0</td><td>0</td><td>1</td><td>0</td><td>&quot;Flatic&quot;</td><td>&quot;Altardr&quot;</td><td>0</td><td>8</td><td>11</td></tr><tr><td>false</td><td>&quot;P&quot;</td><td>false</td><td>false</td><td>true</td><td>&quot;Europa&quot;</td><td>&quot;55 Cancri e&quot;</td><td>3</td><td>&quot;B&quot;</td><td>45</td><td>589</td><td>39</td><td>124</td><td>110</td><td>1</td><td>7295</td><td>&quot;Flatic&quot;</td><td>&quot;Wezena&quot;</td><td>8157</td><td>8</td><td>12</td></tr><tr><td>false</td><td>&quot;P&quot;</td><td>false</td><td>false</td><td>true</td><td>&quot;Mars&quot;</td><td>&quot;TRAPPIST-1e&quot;</td><td>1</td><td>&quot;F&quot;</td><td>32</td><td>1123</td><td>73</td><td>113</td><td>0</td><td>1</td><td>0</td><td>&quot;Barne&quot;</td><td>&quot;Berers&quot;</td><td>1309</td><td>9</td><td>13</td></tr><tr><td>true</td><td>&quot;S&quot;</td><td>false</td><td>false</td><td>false</td><td>&quot;Earth&quot;</td><td>&quot;TRAPPIST-1e&quot;</td><td>1</td><td>&quot;G&quot;</td><td>48</td><td>65</td><td>719</td><td>24</td><td>0</td><td>1</td><td>1</td><td>&quot;Baketton&quot;</td><td>&quot;Reney&quot;</td><td>809</td><td>10</td><td>14</td></tr><tr><td>false</td><td>&quot;P&quot;</td><td>false</td><td>false</td><td>true</td><td>&quot;Earth&quot;</td><td>&quot;TRAPPIST-1e&quot;</td><td>1</td><td>&quot;F&quot;</td><td>28</td><td>12</td><td>8</td><td>7</td><td>2</td><td>2</td><td>974</td><td>&quot;Bertsontry&quot;</td><td>&quot;Elle&quot;</td><td>1003</td><td>11</td><td>15</td></tr><tr><td>false</td><td>null</td><td>false</td><td>false</td><td>false</td><td>&quot;Earth&quot;</td><td>&quot;TRAPPIST-1e&quot;</td><td>1</td><td>null</td><td>31</td><td>876</td><td>32</td><td>0</td><td>0</td><td>null</td><td>0</td><td>&quot;Pooles&quot;</td><td>&quot;Justie&quot;</td><td>908</td><td>12</td><td>16</td></tr><tr><td>false</td><td>&quot;P&quot;</td><td>false</td><td>false</td><td>false</td><td>&quot;Mars&quot;</td><td>&quot;55 Cancri e&quot;</td><td>1</td><td>&quot;F&quot;</td><td>27</td><td>null</td><td>1286</td><td>0</td><td>0</td><td>3</td><td>122</td><td>&quot;Eccle&quot;</td><td>&quot;Flats&quot;</td><td>1408</td><td>14</td><td>17</td></tr><tr><td>false</td><td>&quot;P&quot;</td><td>false</td><td>false</td><td>false</td><td>&quot;Earth&quot;</td><td>&quot;55 Cancri e&quot;</td><td>1</td><td>&quot;F&quot;</td><td>24</td><td>0</td><td>0</td><td>637</td><td>0</td><td>4</td><td>1</td><td>&quot;Hughriend&quot;</td><td>&quot;Carry&quot;</td><td>638</td><td>15</td><td>18</td></tr><tr><td>false</td><td>&quot;P&quot;</td><td>true</td><td>false</td><td>true</td><td>&quot;Mars&quot;</td><td>&quot;TRAPPIST-1e&quot;</td><td>1</td><td>&quot;F&quot;</td><td>45</td><td>0</td><td>0</td><td>0</td><td>0</td><td>5</td><td>0</td><td>&quot;Upead&quot;</td><td>&quot;Alus&quot;</td><td>0</td><td>16</td><td>19</td></tr><tr><td>false</td><td>&quot;P&quot;</td><td>false</td><td>false</td><td>true</td><td>&quot;Earth&quot;</td><td>&quot;TRAPPIST-1e&quot;</td><td>1</td><td>&quot;G&quot;</td><td>0</td><td>0</td><td>0</td><td>0</td><td>0</td><td>0</td><td>0</td><td>&quot;Brighttt&quot;</td><td>&quot;Lyde&quot;</td><td>0</td><td>17</td><td>20</td></tr><tr><td>&hellip;</td><td>&hellip;</td><td>&hellip;</td><td>&hellip;</td><td>&hellip;</td><td>&hellip;</td><td>&hellip;</td><td>&hellip;</td><td>&hellip;</td><td>&hellip;</td><td>&hellip;</td><td>&hellip;</td><td>&hellip;</td><td>&hellip;</td><td>&hellip;</td><td>&hellip;</td><td>&hellip;</td><td>&hellip;</td><td>&hellip;</td><td>&hellip;</td><td>&hellip;</td></tr><tr><td>true</td><td>&quot;S&quot;</td><td>true</td><td>false</td><td>true</td><td>&quot;Earth&quot;</td><td>&quot;TRAPPIST-1e&quot;</td><td>1</td><td>&quot;G&quot;</td><td>28</td><td>0</td><td>0</td><td>0</td><td>0</td><td>1494</td><td>0</td><td>&quot;Franton&quot;</td><td>&quot;Darley&quot;</td><td>0</td><td>9256</td><td>8674</td></tr><tr><td>false</td><td>&quot;P&quot;</td><td>false</td><td>false</td><td>false</td><td>null</td><td>&quot;TRAPPIST-1e&quot;</td><td>1</td><td>&quot;F&quot;</td><td>13</td><td>1085</td><td>39</td><td>0</td><td>24</td><td>1892</td><td>0</td><td>&quot;Apple&quot;</td><td>&quot;Ties&quot;</td><td>1148</td><td>9257</td><td>8675</td></tr><tr><td>false</td><td>&quot;P&quot;</td><td>null</td><td>false</td><td>true</td><td>&quot;Earth&quot;</td><td>&quot;TRAPPIST-1e&quot;</td><td>1</td><td>&quot;F&quot;</td><td>44</td><td>0</td><td>1030</td><td>null</td><td>11</td><td>1893</td><td>1015</td><td>&quot;Gilleyons&quot;</td><td>&quot;Annah&quot;</td><td>2056</td><td>9259</td><td>8676</td></tr><tr><td>false</td><td>&quot;P&quot;</td><td>true</td><td>false</td><td>false</td><td>&quot;Earth&quot;</td><td>&quot;PSO J318.5-22&quot;</td><td>1</td><td>&quot;G&quot;</td><td>22</td><td>0</td><td>0</td><td>0</td><td>0</td><td>1504</td><td>0</td><td>&quot;Casentry&quot;</td><td>&quot;Therta&quot;</td><td>0</td><td>9261</td><td>8677</td></tr><tr><td>true</td><td>&quot;S&quot;</td><td>true</td><td>false</td><td>true</td><td>&quot;Europa&quot;</td><td>&quot;55 Cancri e&quot;</td><td>1</td><td>&quot;E&quot;</td><td>30</td><td>0</td><td>0</td><td>0</td><td>0</td><td>606</td><td>0</td><td>&quot;Sionerorly&quot;</td><td>&quot;Giedir&quot;</td><td>0</td><td>9264</td><td>8678</td></tr><tr><td>true</td><td>&quot;S&quot;</td><td>true</td><td>false</td><td>true</td><td>&quot;Europa&quot;</td><td>&quot;TRAPPIST-1e&quot;</td><td>1</td><td>&quot;E&quot;</td><td>21</td><td>0</td><td>0</td><td>0</td><td>0</td><td>607</td><td>0</td><td>&quot;Opshaft&quot;</td><td>&quot;Arraid&quot;</td><td>0</td><td>9267</td><td>8679</td></tr><tr><td>true</td><td>&quot;S&quot;</td><td>true</td><td>false</td><td>true</td><td>&quot;Europa&quot;</td><td>&quot;TRAPPIST-1e&quot;</td><td>2</td><td>&quot;E&quot;</td><td>20</td><td>0</td><td>0</td><td>0</td><td>0</td><td>607</td><td>0</td><td>&quot;Opshaft&quot;</td><td>&quot;Sabi&quot;</td><td>0</td><td>9267</td><td>8680</td></tr><tr><td>false</td><td>&quot;P&quot;</td><td>true</td><td>false</td><td>true</td><td>&quot;Earth&quot;</td><td>&quot;TRAPPIST-1e&quot;</td><td>1</td><td>&quot;G&quot;</td><td>31</td><td>0</td><td>0</td><td>0</td><td>0</td><td>1505</td><td>0</td><td>&quot;Baldson&quot;</td><td>&quot;Agnesa&quot;</td><td>0</td><td>9268</td><td>8681</td></tr><tr><td>true</td><td>&quot;S&quot;</td><td>true</td><td>false</td><td>true</td><td>&quot;Earth&quot;</td><td>&quot;55 Cancri e&quot;</td><td>1</td><td>&quot;G&quot;</td><td>33</td><td>0</td><td>0</td><td>0</td><td>0</td><td>1497</td><td>0</td><td>&quot;Mckinsond&quot;</td><td>&quot;Lan&quot;</td><td>0</td><td>9270</td><td>8682</td></tr><tr><td>false</td><td>&quot;P&quot;</td><td>false</td><td>false</td><td>true</td><td>&quot;Earth&quot;</td><td>&quot;TRAPPIST-1e&quot;</td><td>1</td><td>&quot;G&quot;</td><td>26</td><td>510</td><td>240</td><td>0</td><td>0</td><td>1507</td><td>242</td><td>&quot;Simson&quot;</td><td>&quot;Ireene&quot;</td><td>992</td><td>9272</td><td>8683</td></tr><tr><td>false</td><td>&quot;P&quot;</td><td>false</td><td>false</td><td>false</td><td>&quot;Earth&quot;</td><td>&quot;TRAPPIST-1e&quot;</td><td>2</td><td>&quot;F&quot;</td><td>21</td><td>149</td><td>86</td><td>329</td><td>208</td><td>1894</td><td>3</td><td>&quot;Simson&quot;</td><td>&quot;Gordo&quot;</td><td>775</td><td>9272</td><td>8684</td></tr><tr><td>false</td><td>&quot;P&quot;</td><td>true</td><td>false</td><td>true</td><td>null</td><td>&quot;TRAPPIST-1e&quot;</td><td>1</td><td>&quot;G&quot;</td><td>23</td><td>0</td><td>0</td><td>0</td><td>0</td><td>1508</td><td>0</td><td>&quot;Bullisey&quot;</td><td>&quot;Chelsa&quot;</td><td>0</td><td>9274</td><td>8685</td></tr><tr><td>false</td><td>&quot;P&quot;</td><td>false</td><td>false</td><td>true</td><td>&quot;Europa&quot;</td><td>&quot;TRAPPIST-1e&quot;</td><td>1</td><td>&quot;A&quot;</td><td>0</td><td>0</td><td>0</td><td>0</td><td>0</td><td>97</td><td>0</td><td>&quot;Conable&quot;</td><td>&quot;Polaton&quot;</td><td>0</td><td>9275</td><td>8686</td></tr><tr><td>false</td><td>&quot;P&quot;</td><td>false</td><td>false</td><td>false</td><td>&quot;Europa&quot;</td><td>&quot;TRAPPIST-1e&quot;</td><td>2</td><td>&quot;A&quot;</td><td>32</td><td>0</td><td>1</td><td>34</td><td>50</td><td>97</td><td>1146</td><td>&quot;Conable&quot;</td><td>&quot;Diram&quot;</td><td>1231</td><td>9275</td><td>8687</td></tr><tr><td>false</td><td>&quot;P&quot;</td><td>null</td><td>false</td><td>true</td><td>&quot;Europa&quot;</td><td>&quot;TRAPPIST-1e&quot;</td><td>3</td><td>&quot;A&quot;</td><td>30</td><td>0</td><td>0</td><td>330</td><td>2</td><td>97</td><td>3208</td><td>&quot;Conable&quot;</td><td>&quot;Atlasym&quot;</td><td>3540</td><td>9275</td><td>8688</td></tr><tr><td>false</td><td>&quot;P&quot;</td><td>false</td><td>true</td><td>false</td><td>&quot;Europa&quot;</td><td>&quot;55 Cancri e&quot;</td><td>1</td><td>&quot;A&quot;</td><td>41</td><td>0</td><td>0</td><td>74</td><td>1643</td><td>98</td><td>6819</td><td>&quot;Noxnuther&quot;</td><td>&quot;Gravior&quot;</td><td>8536</td><td>9276</td><td>8689</td></tr><tr><td>true</td><td>&quot;S&quot;</td><td>true</td><td>false</td><td>false</td><td>&quot;Earth&quot;</td><td>&quot;PSO J318.5-22&quot;</td><td>1</td><td>&quot;G&quot;</td><td>18</td><td>0</td><td>0</td><td>0</td><td>0</td><td>1499</td><td>0</td><td>&quot;Mondalley&quot;</td><td>&quot;Kurta&quot;</td><td>0</td><td>9278</td><td>8690</td></tr><tr><td>true</td><td>&quot;S&quot;</td><td>false</td><td>false</td><td>true</td><td>&quot;Earth&quot;</td><td>&quot;TRAPPIST-1e&quot;</td><td>1</td><td>&quot;G&quot;</td><td>26</td><td>1872</td><td>0</td><td>0</td><td>1</td><td>1500</td><td>0</td><td>&quot;Connon&quot;</td><td>&quot;Fayey&quot;</td><td>1873</td><td>9279</td><td>8691</td></tr><tr><td>true</td><td>&quot;S&quot;</td><td>false</td><td>false</td><td>false</td><td>&quot;Europa&quot;</td><td>&quot;55 Cancri e&quot;</td><td>1</td><td>&quot;E&quot;</td><td>32</td><td>0</td><td>0</td><td>3235</td><td>353</td><td>608</td><td>1049</td><td>&quot;Hontichre&quot;</td><td>&quot;Celeon&quot;</td><td>4637</td><td>9280</td><td>8692</td></tr><tr><td>true</td><td>&quot;S&quot;</td><td>false</td><td>false</td><td>true</td><td>&quot;Europa&quot;</td><td>&quot;TRAPPIST-1e&quot;</td><td>2</td><td>&quot;E&quot;</td><td>44</td><td>0</td><td>126</td><td>12</td><td>0</td><td>608</td><td>4688</td><td>&quot;Hontichre&quot;</td><td>&quot;Propsh&quot;</td><td>4826</td><td>9280</td><td>8693</td></tr></tbody></table></div>"
      ]
     },
     "execution_count": 79,
     "metadata": {},
     "output_type": "execute_result"
    }
   ],
   "execution_count": 79
  }
 ],
 "metadata": {
  "kernelspec": {
   "display_name": "DSML-002",
   "language": "python",
   "name": "python3"
  },
  "language_info": {
   "codemirror_mode": {
    "name": "ipython",
    "version": 3
   },
   "file_extension": ".py",
   "mimetype": "text/x-python",
   "name": "python",
   "nbconvert_exporter": "python",
   "pygments_lexer": "ipython3",
   "version": "3.12.8"
  }
 },
 "nbformat": 4,
 "nbformat_minor": 5
}
