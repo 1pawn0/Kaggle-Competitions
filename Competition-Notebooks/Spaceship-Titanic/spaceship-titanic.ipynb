{
 "cells": [
  {
   "cell_type": "code",
   "id": "9f21532000e7d8b9",
   "metadata": {
    "ExecuteTime": {
     "end_time": "2025-01-29T09:35:09.853385Z",
     "start_time": "2025-01-29T09:35:06.949900Z"
    }
   },
   "source": [
    "import numpy as np\n",
    "import matplotlib.pyplot as plt\n",
    "import polars as pl\n",
    "import sklearn\n",
    "import os, pathlib, zipfile\n",
    "import kaggle, kagglehub"
   ],
   "outputs": [],
   "execution_count": 1
  },
  {
   "metadata": {
    "collapsed": true,
    "ExecuteTime": {
     "end_time": "2025-01-29T09:58:47.223906Z",
     "start_time": "2025-01-29T09:58:45.110769Z"
    }
   },
   "cell_type": "code",
   "source": [
    "### Downloading the competition\n",
    "competition_name = 'spaceship-titanic'  # Change this to the competition you want to download\n",
    "competition_path = pathlib.Path(\n",
    "    kagglehub.competition.competition_download(competition_name))  # Downloads the competition\n",
    "competition_files: list = os.listdir(competition_path)  # List of the files included in the competition\n",
    "\n",
    "print(competition_files)"
   ],
   "id": "initial_id",
   "outputs": [
    {
     "name": "stdout",
     "output_type": "stream",
     "text": [
      "['sample_submission.csv', 'test.csv', 'train.csv']\n"
     ]
    }
   ],
   "execution_count": 3
  },
  {
   "metadata": {
    "ExecuteTime": {
     "end_time": "2025-01-29T10:00:53.518795Z",
     "start_time": "2025-01-29T10:00:53.444578Z"
    }
   },
   "cell_type": "code",
   "source": [
    "pl.Config.set_tbl_rows(40)\n",
    "train_df = pl.read_csv(competition_path / 'train.csv')\n",
    "test_df = pl.read_csv(competition_path / 'test.csv')\n",
    "sample_submission_df = pl.read_csv(competition_path / 'sample_submission.csv')\n"
   ],
   "id": "f982ca0d6dbd7016",
   "outputs": [],
   "execution_count": 4
  },
  {
   "metadata": {
    "ExecuteTime": {
     "end_time": "2025-01-29T11:03:57.210847Z",
     "start_time": "2025-01-29T11:03:57.199124Z"
    }
   },
   "cell_type": "code",
   "source": [
    "test_df = test_df.with_columns([\n",
    "    pl.Series('Transported', [None] * test_df.height)\n",
    "])\n",
    "df = pl.concat([train_df, test_df])\n",
    "df = df.with_columns(pl.col(pl.String).cast(pl.Categorical))\n"
   ],
   "id": "ac0ed4d89568060a",
   "outputs": [],
   "execution_count": 73
  }
 ],
 "metadata": {
  "kernelspec": {
   "display_name": "Python 3",
   "language": "python",
   "name": "python3"
  },
  "language_info": {
   "codemirror_mode": {
    "name": "ipython",
    "version": 2
   },
   "file_extension": ".py",
   "mimetype": "text/x-python",
   "name": "python",
   "nbconvert_exporter": "python",
   "pygments_lexer": "ipython2",
   "version": "2.7.6"
  }
 },
 "nbformat": 4,
 "nbformat_minor": 5
}
