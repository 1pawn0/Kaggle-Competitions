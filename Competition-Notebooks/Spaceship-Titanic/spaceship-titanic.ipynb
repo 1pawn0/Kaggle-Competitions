{
 "cells": [
  {
   "cell_type": "code",
   "id": "9f21532000e7d8b9",
   "metadata": {
    "ExecuteTime": {
     "end_time": "2025-01-31T15:00:54.807541Z",
     "start_time": "2025-01-31T15:00:51.151806Z"
    }
   },
   "source": [
    "import numpy as np\n",
    "import matplotlib.pyplot as plt\n",
    "import polars as pl\n",
    "import sklearn\n",
    "import os, pathlib, zipfile\n",
    "import kaggle, kagglehub"
   ],
   "outputs": [],
   "execution_count": 1
  },
  {
   "cell_type": "code",
   "id": "initial_id",
   "metadata": {
    "collapsed": true,
    "ExecuteTime": {
     "end_time": "2025-01-31T15:00:57.140953Z",
     "start_time": "2025-01-31T15:00:54.840956Z"
    }
   },
   "source": [
    "### Downloading the competition\n",
    "competition_name = (\n",
    "    \"spaceship-titanic\"  # Change this to the competition you want to download\n",
    ")\n",
    "competition_path = pathlib.Path(\n",
    "    kagglehub.competition.competition_download(competition_name)\n",
    ")  # Downloads the competition\n",
    "competition_files: list = os.listdir(\n",
    "    competition_path\n",
    ")  # List of the files included in the competition\n",
    "\n",
    "print(competition_files)"
   ],
   "outputs": [
    {
     "name": "stdout",
     "output_type": "stream",
     "text": [
      "['sample_submission.csv', 'test.csv', 'train.csv']\n"
     ]
    }
   ],
   "execution_count": 2
  },
  {
   "metadata": {},
   "cell_type": "markdown",
   "source": [
    "### File and Data Field Descriptions\n",
    "train.csv - Personal records for about two-thirds (~8700) of the passengers, to be used as training data.\n",
    "\n",
    "- PassengerId - A unique Id for each passenger. Each Id takes the form gggg_pp where gggg indicates a group the passenger is travelling with and pp is their number within the group. People in a group are often family members, but not always.\n",
    "- HomePlanet - The planet the passenger departed from, typically their planet of permanent residence.\n",
    "- CryoSleep - Indicates whether the passenger elected to be put into suspended animation for the duration of the voyage. Passengers in cryosleep are confined to their cabins.\n",
    "- Cabin - The cabin number where the passenger is staying. Takes the form deck/num/side, where side can be either P for Port or S for Starboard.\n",
    "- Destination - The planet the passenger will be debarking to.\n",
    "- Age - The age of the passenger.\n",
    "- VIP - Whether the passenger has paid for special VIP service during the voyage.\n",
    "- RoomService, FoodCourt, ShoppingMall, Spa, VRDeck - Amount the passenger has billed at each of the Spaceship Titanic's many luxury amenities.\n",
    "- Name - The first and last names of the passenger.\n",
    "- Transported - Whether the passenger was transported to another dimension. This is the target, the column you are trying to predict.\n",
    "test.csv - Personal records for the remaining one-third (~4300) of the passengers, to be used as test data. Your task is to predict the value of Transported for the passengers in this set.\n",
    "sample_submission.csv - A submission file in the correct format.\n",
    "PassengerId - Id for each passenger in the test set.\n",
    "Transported - The target. For each passenger, predict either True or False."
   ],
   "id": "3ef6546b424c90ee"
  },
  {
   "cell_type": "code",
   "id": "f982ca0d6dbd7016",
   "metadata": {
    "ExecuteTime": {
     "end_time": "2025-01-31T15:00:57.639619Z",
     "start_time": "2025-01-31T15:00:57.616925Z"
    }
   },
   "source": [
    "pl.Config.set_tbl_rows(40)\n",
    "train_df = pl.read_csv(competition_path / \"train.csv\")\n",
    "test_df = pl.read_csv(competition_path / \"test.csv\")\n",
    "sample_submission_df = pl.read_csv(competition_path / \"sample_submission.csv\")"
   ],
   "outputs": [],
   "execution_count": 3
  },
  {
   "cell_type": "markdown",
   "id": "19fec20953b3e4fb",
   "metadata": {},
   "source": [
    "Helper functions\n"
   ]
  },
  {
   "cell_type": "code",
   "id": "896540b070dcead0",
   "metadata": {
    "ExecuteTime": {
     "end_time": "2025-01-31T15:00:57.677162Z",
     "start_time": "2025-01-31T15:00:57.670096Z"
    }
   },
   "source": [
    "def split_passenger_id(p_id: str) -> list[int]:\n",
    "    id_split = p_id.split(\"_\")\n",
    "    return [int(id_split[0]), int(id_split[1])]\n",
    "\n",
    "\n",
    "def split_cabin(cabin: str) -> list:\n",
    "    return cabin.split(\"/\")\n",
    "\n",
    "\n",
    "def split_name(name: str) -> list[str]:\n",
    "    return name.split(\" \")"
   ],
   "outputs": [],
   "execution_count": 4
  },
  {
   "cell_type": "code",
   "id": "ac0ed4d89568060a",
   "metadata": {
    "ExecuteTime": {
     "end_time": "2025-01-31T15:00:58.836239Z",
     "start_time": "2025-01-31T15:00:57.811171Z"
    }
   },
   "source": [
    "test_df = test_df.with_columns([pl.Series(\"Transported\", [None] * test_df.height)])\n",
    "df = pl.concat([train_df, test_df])\n",
    "\n",
    "df = df.with_columns(\n",
    "    pl.col(\"PassengerId\")\n",
    "    .map_elements(split_passenger_id, return_dtype=pl.List(pl.Int16))\n",
    "    .cast(pl.Array(pl.Int16, 2))\n",
    ")\n",
    "df = df.with_columns(\n",
    "    pl.col(\"Cabin\").map_elements(split_cabin, return_dtype=pl.List(pl.String))\n",
    ")\n",
    "df = df.with_columns(\n",
    "    pl.col(\"Name\").map_elements(split_name, return_dtype=pl.List(pl.String))\n",
    ")\n",
    "\n",
    "df = df.select(\n",
    "    [\n",
    "        pl.col(\"Cabin\").list.get(0).cast(pl.Categorical).alias(\"deck_of_cabin\"),\n",
    "        pl.col(\"Cabin\").list.get(1).cast(pl.UInt16).alias(\"num_of_cabin\"),\n",
    "        pl.col(\"Cabin\").list.get(2).cast(pl.Categorical).alias(\"side_of_cabin\"),\n",
    "        #     `side_of_cabin` can be either P for Port or S for Starboard.\n",
    "    ]\n",
    ").hstack(df.drop(\"Cabin\"))\n",
    "df = df.select(\n",
    "    [\n",
    "        pl.col(\"Name\").list.get(0).cast(pl.Categorical).alias(\"first_name\"),\n",
    "        pl.col(\"Name\").list.get(1).cast(pl.Categorical).alias(\"last_name\"),\n",
    "    ]\n",
    ").hstack(df.drop(\"Name\"))\n",
    "df = df.select(\n",
    "    [\n",
    "        pl.col(\"PassengerId\").arr.get(0).cast(pl.UInt16).alias(\"group\"),\n",
    "        # `group` column indicates a group the passenger is travelling with.\n",
    "        pl.col(\"PassengerId\").arr.get(1).cast(pl.UInt8).alias(\"num_in_group\"),\n",
    "        #`num_in_group` is the passenger number within the group.\n",
    "        # People in a group are often family members, but not always.\n",
    "    ]\n",
    ").hstack(df.drop(\"PassengerId\"))\n",
    "\n",
    "df = df.with_columns(\n",
    "    [\n",
    "        pl.col(\"HomePlanet\").cast(pl.Categorical),\n",
    "        pl.col(\"Destination\").cast(pl.Categorical),\n",
    "        pl.col(\"Age\").cast(pl.UInt8),\n",
    "        pl.col(\"RoomService\").cast(pl.UInt16),\n",
    "        pl.col(\"FoodCourt\").cast(pl.UInt16),\n",
    "        pl.col(\"ShoppingMall\").cast(pl.UInt16),\n",
    "        pl.col(\"Spa\").cast(pl.UInt16),\n",
    "        pl.col(\"VRDeck\").cast(pl.UInt16),\n",
    "    ]\n",
    ")\n",
    "\n",
    "# RoomService, FoodCourt, ShoppingMall, Spa, VRDeck - Amount the passenger has billed at each of the Spaceship Titanic's many luxury amenities.\n",
    "df = df.with_columns([\n",
    "    (pl.col('RoomService')\n",
    "     + pl.col('FoodCourt')\n",
    "     + pl.col('ShoppingMall')\n",
    "     + pl.col('Spa')\n",
    "     + pl.col('VRDeck'))\n",
    "    .cast(pl.UInt16).alias('total_bill')\n",
    "])\n",
    "\n",
    "df = df.with_columns([\n",
    "    pl.when(pl.col('side_of_cabin') == 'P').then(True).otherwise(False).alias('is_port_side'),\n",
    "    pl.when(pl.col('side_of_cabin') == 'S').then(True).otherwise(False).alias('is_starboard_side'),\n",
    "])\n"
   ],
   "outputs": [],
   "execution_count": 5
  },
  {
   "cell_type": "code",
   "id": "66ef48b2",
   "metadata": {
    "ExecuteTime": {
     "end_time": "2025-01-31T15:25:33.144939Z",
     "start_time": "2025-01-31T15:25:33.142637Z"
    }
   },
   "source": "",
   "outputs": [],
   "execution_count": null
  },
  {
   "cell_type": "code",
   "execution_count": 10,
   "id": "b7b01a8e22cd7c32",
   "metadata": {
    "ExecuteTime": {
     "end_time": "2025-01-29T15:56:20.748977Z",
     "start_time": "2025-01-29T15:56:20.745236Z"
    }
   },
   "outputs": [],
   "source": [
    "classifier = sklearn.ensemble.HistGradientBoostingClassifier(\n",
    "    learning_rate=0.1,\n",
    "    max_iter=1000,\n",
    "    max_leaf_nodes=None,\n",
    "    max_depth=None,\n",
    "    min_samples_leaf=10,\n",
    "    l2_regularization=1.0,\n",
    "    categorical_features=\"from_dtype\",\n",
    "    warm_start=True,\n",
    "    scoring=\"f1\",\n",
    "    validation_fraction=0.2,\n",
    "    verbose=1,\n",
    "    random_state=42,\n",
    ")"
   ]
  },
  {
   "cell_type": "code",
   "execution_count": null,
   "id": "1d16cbc1b0c3f516",
   "metadata": {},
   "outputs": [],
   "source": [
    "classifier.fit()"
   ]
  }
 ],
 "metadata": {
  "kernelspec": {
   "display_name": "DSML-002",
   "language": "python",
   "name": "python3"
  },
  "language_info": {
   "codemirror_mode": {
    "name": "ipython",
    "version": 3
   },
   "file_extension": ".py",
   "mimetype": "text/x-python",
   "name": "python",
   "nbconvert_exporter": "python",
   "pygments_lexer": "ipython3",
   "version": "3.12.8"
  }
 },
 "nbformat": 4,
 "nbformat_minor": 5
}
