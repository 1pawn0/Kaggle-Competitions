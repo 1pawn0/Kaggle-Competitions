{
 "cells": [
  {
   "cell_type": "code",
   "execution_count": 1,
   "id": "9f21532000e7d8b9",
   "metadata": {
    "ExecuteTime": {
     "end_time": "2025-01-31T10:43:18.812176Z",
     "start_time": "2025-01-31T10:43:15.719384Z"
    }
   },
   "outputs": [],
   "source": [
    "import numpy as np\n",
    "import matplotlib.pyplot as plt\n",
    "import polars as pl\n",
    "import sklearn\n",
    "import os, pathlib, zipfile\n",
    "import kaggle, kagglehub"
   ]
  },
  {
   "cell_type": "code",
   "execution_count": 2,
   "id": "initial_id",
   "metadata": {
    "ExecuteTime": {
     "end_time": "2025-01-31T10:43:29.038049Z",
     "start_time": "2025-01-31T10:43:18.833902Z"
    },
    "collapsed": true
   },
   "outputs": [
    {
     "name": "stdout",
     "output_type": "stream",
     "text": [
      "['sample_submission.csv', 'test.csv', 'train.csv']\n"
     ]
    }
   ],
   "source": [
    "### Downloading the competition\n",
    "competition_name = (\n",
    "    \"spaceship-titanic\"  # Change this to the competition you want to download\n",
    ")\n",
    "competition_path = pathlib.Path(\n",
    "    kagglehub.competition.competition_download(competition_name)\n",
    ")  # Downloads the competition\n",
    "competition_files: list = os.listdir(\n",
    "    competition_path\n",
    ")  # List of the files included in the competition\n",
    "\n",
    "print(competition_files)"
   ]
  },
  {
   "cell_type": "code",
   "execution_count": 3,
   "id": "f982ca0d6dbd7016",
   "metadata": {
    "ExecuteTime": {
     "end_time": "2025-01-31T10:43:29.371733Z",
     "start_time": "2025-01-31T10:43:29.311058Z"
    }
   },
   "outputs": [],
   "source": [
    "pl.Config.set_tbl_rows(40)\n",
    "train_df = pl.read_csv(competition_path / \"train.csv\")\n",
    "test_df = pl.read_csv(competition_path / \"test.csv\")\n",
    "sample_submission_df = pl.read_csv(competition_path / \"sample_submission.csv\")"
   ]
  },
  {
   "cell_type": "markdown",
   "id": "19fec20953b3e4fb",
   "metadata": {},
   "source": [
    "Helper functions\n"
   ]
  },
  {
   "cell_type": "code",
   "execution_count": 4,
   "id": "896540b070dcead0",
   "metadata": {
    "ExecuteTime": {
     "end_time": "2025-01-31T10:43:29.428288Z",
     "start_time": "2025-01-31T10:43:29.424050Z"
    }
   },
   "outputs": [],
   "source": [
    "def split_passenger_id(p_id: str) -> list[int]:\n",
    "    id_split = p_id.split(\"_\")\n",
    "    return [int(id_split[0]), int(id_split[1])]\n",
    "\n",
    "\n",
    "def split_cabin(cabin: str) -> list:\n",
    "    return cabin.split(\"/\")\n",
    "\n",
    "\n",
    "def split_name(name: str) -> list[str]:\n",
    "    return name.split(\" \")"
   ]
  },
  {
   "cell_type": "code",
   "execution_count": 5,
   "id": "ac0ed4d89568060a",
   "metadata": {
    "ExecuteTime": {
     "end_time": "2025-01-31T10:43:30.046774Z",
     "start_time": "2025-01-31T10:43:29.471416Z"
    }
   },
   "outputs": [],
   "source": [
    "test_df = test_df.with_columns([pl.Series(\"Transported\", [None] * test_df.height)])\n",
    "df = pl.concat([train_df, test_df])\n",
    "\n",
    "df = df.with_columns(\n",
    "    pl.col(\"PassengerId\")\n",
    "    .map_elements(split_passenger_id, return_dtype=pl.List(pl.Int16))\n",
    "    .cast(pl.Array(pl.Int16, 2))\n",
    ")\n",
    "df = df.with_columns(\n",
    "    pl.col(\"Cabin\").map_elements(split_cabin, return_dtype=pl.List(pl.String))\n",
    ")\n",
    "df = df.with_columns(\n",
    "    pl.col(\"Name\").map_elements(split_name, return_dtype=pl.List(pl.String))\n",
    ")\n",
    "\n",
    "df = df.select(\n",
    "    [\n",
    "        pl.col(\"Cabin\").list.get(0).cast(pl.Categorical).alias(\"cabin_part1\"),\n",
    "        pl.col(\"Cabin\").list.get(1).cast(pl.UInt16).alias(\"cabin_part2\"),\n",
    "        pl.col(\"Cabin\").list.get(2).cast(pl.Categorical).alias(\"cabin_part3\"),\n",
    "    ]\n",
    ").hstack(df.drop(\"Cabin\"))\n",
    "df = df.select(\n",
    "    [\n",
    "        pl.col(\"Name\").list.get(0).cast(pl.Categorical).alias(\"name_first\"),\n",
    "        pl.col(\"Name\").list.get(1).cast(pl.Categorical).alias(\"name_last\"),\n",
    "    ]\n",
    ").hstack(df.drop(\"Name\"))\n",
    "df = df.select(\n",
    "    [\n",
    "        pl.col(\"PassengerId\").arr.get(0).cast(pl.UInt16).alias(\"id_part1\"),\n",
    "        pl.col(\"PassengerId\").arr.get(1).cast(pl.UInt8).alias(\"id_part2\"),\n",
    "    ]\n",
    ").hstack(df.drop(\"PassengerId\"))\n",
    "\n",
    "df = df.with_columns(\n",
    "    [\n",
    "        pl.col(\"HomePlanet\").cast(pl.Categorical),\n",
    "        pl.col(\"Destination\").cast(pl.Categorical),\n",
    "        pl.col(\"Age\").cast(pl.UInt8),\n",
    "        pl.col(\"RoomService\").cast(pl.UInt16),\n",
    "        pl.col(\"FoodCourt\").cast(pl.UInt16),\n",
    "        pl.col(\"ShoppingMall\").cast(pl.UInt16),\n",
    "        pl.col(\"Spa\").cast(pl.UInt16),\n",
    "        pl.col(\"VRDeck\").cast(pl.UInt16),\n",
    "    ]\n",
    ")"
   ]
  },
  {
   "cell_type": "code",
   "execution_count": 10,
   "id": "b7b01a8e22cd7c32",
   "metadata": {
    "ExecuteTime": {
     "end_time": "2025-01-29T15:56:20.748977Z",
     "start_time": "2025-01-29T15:56:20.745236Z"
    }
   },
   "outputs": [],
   "source": [
    "classifier = sklearn.ensemble.HistGradientBoostingClassifier(\n",
    "    learning_rate=0.1,\n",
    "    max_iter=1000,\n",
    "    max_leaf_nodes=None,\n",
    "    max_depth=None,\n",
    "    min_samples_leaf=10,\n",
    "    l2_regularization=1.0,\n",
    "    categorical_features=\"from_dtype\",\n",
    "    warm_start=True,\n",
    "    scoring=\"f1\",\n",
    "    validation_fraction=0.2,\n",
    "    verbose=1,\n",
    "    random_state=42,\n",
    ")"
   ]
  },
  {
   "cell_type": "code",
   "execution_count": null,
   "id": "1d16cbc1b0c3f516",
   "metadata": {},
   "outputs": [],
   "source": [
    "classifier.fit()"
   ]
  }
 ],
 "metadata": {
  "kernelspec": {
   "display_name": "Python 3",
   "language": "python",
   "name": "python3"
  },
  "language_info": {
   "codemirror_mode": {
    "name": "ipython",
    "version": 2
   },
   "file_extension": ".py",
   "mimetype": "text/x-python",
   "name": "python",
   "nbconvert_exporter": "python",
   "pygments_lexer": "ipython2",
   "version": "2.7.6"
  }
 },
 "nbformat": 4,
 "nbformat_minor": 5
}
