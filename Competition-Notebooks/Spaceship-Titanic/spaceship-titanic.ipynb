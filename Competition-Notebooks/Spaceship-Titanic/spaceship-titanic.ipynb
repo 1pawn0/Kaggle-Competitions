{
 "cells": [
  {
   "cell_type": "code",
   "id": "9f21532000e7d8b9",
   "metadata": {
    "ExecuteTime": {
     "end_time": "2025-01-29T17:15:45.637112Z",
     "start_time": "2025-01-29T17:15:45.633919Z"
    }
   },
   "source": [
    "import numpy as np\n",
    "import matplotlib.pyplot as plt\n",
    "import polars as pl\n",
    "import sklearn\n",
    "import os, pathlib, zipfile\n",
    "import kaggle, kagglehub\n"
   ],
   "outputs": [],
   "execution_count": 87
  },
  {
   "metadata": {
    "collapsed": true,
    "ExecuteTime": {
     "end_time": "2025-01-29T15:33:30.021017Z",
     "start_time": "2025-01-29T15:33:27.906069Z"
    }
   },
   "cell_type": "code",
   "source": [
    "### Downloading the competition\n",
    "competition_name = 'spaceship-titanic'  # Change this to the competition you want to download\n",
    "competition_path = pathlib.Path(\n",
    "    kagglehub.competition.competition_download(competition_name))  # Downloads the competition\n",
    "competition_files: list = os.listdir(competition_path)  # List of the files included in the competition\n",
    "\n",
    "print(competition_files)"
   ],
   "id": "initial_id",
   "outputs": [
    {
     "name": "stdout",
     "output_type": "stream",
     "text": [
      "['sample_submission.csv', 'test.csv', 'train.csv']\n"
     ]
    }
   ],
   "execution_count": 2
  },
  {
   "metadata": {
    "ExecuteTime": {
     "end_time": "2025-01-29T15:33:30.484220Z",
     "start_time": "2025-01-29T15:33:30.454599Z"
    }
   },
   "cell_type": "code",
   "outputs": [],
   "execution_count": 3,
   "source": [
    "pl.Config.set_tbl_rows(40)\n",
    "train_df = pl.read_csv(competition_path / 'train.csv')\n",
    "test_df = pl.read_csv(competition_path / 'test.csv')\n",
    "sample_submission_df = pl.read_csv(competition_path / 'sample_submission.csv')\n"
   ],
   "id": "f982ca0d6dbd7016"
  },
  {
   "metadata": {
    "ExecuteTime": {
     "end_time": "2025-01-29T17:23:22.951789Z",
     "start_time": "2025-01-29T17:23:22.395040Z"
    }
   },
   "cell_type": "code",
   "source": [
    "test_df = test_df.with_columns([\n",
    "    pl.Series('Transported', [None] * test_df.height)\n",
    "])\n",
    "df = pl.concat([train_df, test_df])\n",
    "\n",
    "\n",
    "def split_passenger_id(p_id: str) -> list[int]:\n",
    "    id_split = p_id.split('_')\n",
    "    return [int(id_split[0]), int(id_split[1])]\n",
    "\n",
    "\n",
    "# apply the `split_passenger_id` function to each element in the `PassengerId` column\n",
    "df = df.with_columns(\n",
    "    pl.col('PassengerId')\n",
    "    .map_elements(split_passenger_id, return_dtype=pl.List(pl.Int16))\n",
    "    .cast(pl.Array(pl.Int16, 2)))\n",
    "\n",
    "\n",
    "def split_cabin(cabin: str) -> list | None:\n",
    "    return cabin.split('/')\n",
    "\n",
    "\n",
    "df = df.with_columns(\n",
    "    pl.col('Cabin')\n",
    "    .map_elements(split_cabin, return_dtype=pl.List(pl.String))\n",
    ")"
   ],
   "id": "ac0ed4d89568060a",
   "outputs": [],
   "execution_count": 99
  },
  {
   "metadata": {
    "ExecuteTime": {
     "end_time": "2025-01-29T17:23:23.577066Z",
     "start_time": "2025-01-29T17:23:23.573229Z"
    }
   },
   "cell_type": "code",
   "source": "",
   "id": "d038812c1ae24d6a",
   "outputs": [],
   "execution_count": null
  },
  {
   "metadata": {},
   "cell_type": "code",
   "outputs": [],
   "execution_count": null,
   "source": "df = df.with_columns(pl.col(pl.String).cast(pl.Categorical))\n",
   "id": "d0589894dde64c29"
  },
  {
   "metadata": {
    "ExecuteTime": {
     "end_time": "2025-01-29T15:56:20.748977Z",
     "start_time": "2025-01-29T15:56:20.745236Z"
    }
   },
   "cell_type": "code",
   "source": [
    "classifier = sklearn.ensemble.HistGradientBoostingClassifier(\n",
    "    learning_rate=0.1,\n",
    "    max_iter=1000,\n",
    "    max_leaf_nodes=None,\n",
    "    max_depth=None,\n",
    "    min_samples_leaf=10,\n",
    "    l2_regularization=1.0,\n",
    "    categorical_features=\"from_dtype\",\n",
    "    warm_start=True,\n",
    "    scoring=\"f1\",\n",
    "    validation_fraction=0.2,\n",
    "    verbose=1,\n",
    "    random_state=42,\n",
    ")\n"
   ],
   "id": "b7b01a8e22cd7c32",
   "outputs": [],
   "execution_count": 10
  },
  {
   "metadata": {},
   "cell_type": "code",
   "outputs": [],
   "execution_count": null,
   "source": "classifier.fit()",
   "id": "1d16cbc1b0c3f516"
  }
 ],
 "metadata": {
  "kernelspec": {
   "display_name": "Python 3",
   "language": "python",
   "name": "python3"
  },
  "language_info": {
   "codemirror_mode": {
    "name": "ipython",
    "version": 2
   },
   "file_extension": ".py",
   "mimetype": "text/x-python",
   "name": "python",
   "nbconvert_exporter": "python",
   "pygments_lexer": "ipython2",
   "version": "2.7.6"
  }
 },
 "nbformat": 4,
 "nbformat_minor": 5
}
