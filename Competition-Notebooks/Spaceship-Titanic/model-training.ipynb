{
 "cells": [
  {
   "cell_type": "code",
   "id": "initial_id",
   "metadata": {
    "collapsed": true,
    "ExecuteTime": {
     "end_time": "2025-02-01T09:04:18.788072Z",
     "start_time": "2025-02-01T09:04:16.860100Z"
    }
   },
   "source": [
    "import numpy as np\n",
    "import matplotlib.pyplot as plt\n",
    "import polars as pl\n",
    "import sklearn\n"
   ],
   "outputs": [],
   "execution_count": 2
  },
  {
   "metadata": {},
   "cell_type": "markdown",
   "source": [
    "sample_submission.csv - A submission file in the correct format.\n",
    "PassengerId - Id for each passenger in the test set.\n",
    "Transported - The target. For each passenger, predict either True or False.\n"
   ],
   "id": "979b099df68b4f5a"
  },
  {
   "metadata": {
    "ExecuteTime": {
     "end_time": "2025-02-01T09:04:42.587838Z",
     "start_time": "2025-02-01T09:04:42.581911Z"
    }
   },
   "cell_type": "code",
   "source": [
    "sample_submission_df = pl.read_csv('sample_submission.csv')\n",
    "train_df = pl.read_parquet('train_df.parquet')\n",
    "test_df = pl.read_parquet('test_df.parquet')"
   ],
   "id": "585281cc5c20c641",
   "outputs": [],
   "execution_count": 5
  },
  {
   "metadata": {
    "ExecuteTime": {
     "end_time": "2025-02-01T09:05:26.217570Z",
     "start_time": "2025-02-01T09:05:26.214766Z"
    }
   },
   "cell_type": "code",
   "source": "",
   "id": "7f6be15ae55e0c41",
   "outputs": [],
   "execution_count": null
  },
  {
   "metadata": {
    "ExecuteTime": {
     "end_time": "2025-02-01T08:02:16.822940Z",
     "start_time": "2025-02-01T08:02:16.553892Z"
    }
   },
   "cell_type": "code",
   "source": [
    "classifier = sklearn.ensemble.HistGradientBoostingClassifier(\n",
    "    learning_rate=0.1,\n",
    "    max_iter=1000,\n",
    "    max_leaf_nodes=None,\n",
    "    max_depth=None,\n",
    "    min_samples_leaf=10,\n",
    "    l2_regularization=1.0,\n",
    "    categorical_features=\"from_dtype\",\n",
    "    warm_start=True,\n",
    "    scoring=\"f1\",\n",
    "    validation_fraction=0.2,\n",
    "    verbose=1,\n",
    "    random_state=42,\n",
    ")"
   ],
   "id": "c1c5d2442c928e24",
   "outputs": [],
   "execution_count": 4
  }
 ],
 "metadata": {
  "kernelspec": {
   "display_name": "Python 3",
   "language": "python",
   "name": "python3"
  },
  "language_info": {
   "codemirror_mode": {
    "name": "ipython",
    "version": 2
   },
   "file_extension": ".py",
   "mimetype": "text/x-python",
   "name": "python",
   "nbconvert_exporter": "python",
   "pygments_lexer": "ipython2",
   "version": "2.7.6"
  }
 },
 "nbformat": 4,
 "nbformat_minor": 5
}
