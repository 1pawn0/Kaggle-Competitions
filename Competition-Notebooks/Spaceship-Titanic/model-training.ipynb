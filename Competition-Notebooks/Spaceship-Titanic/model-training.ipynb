{
 "cells": [
  {
   "cell_type": "code",
   "id": "initial_id",
   "metadata": {
    "collapsed": true,
    "ExecuteTime": {
     "end_time": "2025-02-01T15:03:11.168035Z",
     "start_time": "2025-02-01T15:03:07.669885Z"
    }
   },
   "source": [
    "import numpy as np\n",
    "import matplotlib.pyplot as plt\n",
    "import polars as pl\n",
    "import sklearn\n"
   ],
   "outputs": [],
   "execution_count": 1
  },
  {
   "metadata": {},
   "cell_type": "markdown",
   "source": [
    "sample_submission.csv - A submission file in the correct format.\n",
    "PassengerId - Id for each passenger in the test set.\n",
    "Transported - The target. For each passenger, predict either True or False.\n"
   ],
   "id": "979b099df68b4f5a"
  },
  {
   "metadata": {
    "ExecuteTime": {
     "end_time": "2025-02-01T11:41:11.118564Z",
     "start_time": "2025-02-01T11:41:11.039607Z"
    }
   },
   "cell_type": "code",
   "source": [
    "sample_submission_df = pl.read_csv('sample_submission.csv')\n",
    "train_df = pl.read_parquet('train_df.parquet')\n",
    "test_df = pl.read_parquet('test_df.parquet')"
   ],
   "id": "585281cc5c20c641",
   "outputs": [],
   "execution_count": 2
  },
  {
   "metadata": {
    "ExecuteTime": {
     "end_time": "2025-02-01T11:41:11.301068Z",
     "start_time": "2025-02-01T11:41:11.291133Z"
    }
   },
   "cell_type": "code",
   "source": [
    "train_df = train_df.drop_nulls()\n",
    "y = train_df['Transported']\n",
    "X = train_df.drop('Transported')\n",
    "\n",
    "y_test = test_df['Transported']\n",
    "X_test = test_df.drop('Transported')"
   ],
   "id": "7f6be15ae55e0c41",
   "outputs": [],
   "execution_count": 3
  },
  {
   "metadata": {
    "ExecuteTime": {
     "end_time": "2025-02-01T11:51:30.137364Z",
     "start_time": "2025-02-01T11:51:28.738374Z"
    }
   },
   "cell_type": "code",
   "source": [
    "classifier = sklearn.ensemble.HistGradientBoostingClassifier(\n",
    "    learning_rate=0.1,\n",
    "    max_iter=100,\n",
    "    max_leaf_nodes=None,\n",
    "    max_depth=None,\n",
    "    min_samples_leaf=32,\n",
    "    l2_regularization=2.0,\n",
    "    max_features=0.8,\n",
    "    categorical_features=\"from_dtype\",\n",
    "    warm_start=True,\n",
    "    scoring=\"f1\",\n",
    "    validation_fraction=0.25,\n",
    "    verbose=1,\n",
    "    random_state=42,\n",
    ")\n",
    "classifier.fit(X, y)\n",
    "score = classifier.score(X, y)\n",
    "print('Score:', score)"
   ],
   "id": "c1c5d2442c928e24",
   "outputs": [
    {
     "name": "stdout",
     "output_type": "stream",
     "text": [
      "Binning 0.001 GB of training data: 0.014 s\n",
      "Fitting gradient boosted rounds:\n",
      "Fit 100 trees in 1.351 s, (15161 total leaves)\n",
      "Time spent computing histograms: 0.238s\n",
      "Time spent finding best splits:  0.316s\n",
      "Time spent applying splits:      0.325s\n",
      "Time spent predicting:           0.010s\n",
      "Score: 0.9189117802430006\n"
     ]
    }
   ],
   "execution_count": 23
  },
  {
   "metadata": {
    "ExecuteTime": {
     "end_time": "2025-02-01T11:51:34.396064Z",
     "start_time": "2025-02-01T11:51:34.291106Z"
    }
   },
   "cell_type": "code",
   "source": [
    "classifier.fit(X, y)\n",
    "score = classifier.score(X, y)\n",
    "print('Score:', score)"
   ],
   "id": "49ba19009136ab6a",
   "outputs": [
    {
     "name": "stdout",
     "output_type": "stream",
     "text": [
      "Binning 0.001 GB of training data: 0.015 s\n",
      "Fitting gradient boosted rounds:\n",
      "Fit 100 trees in 0.052 s, (15161 total leaves)\n",
      "Time spent computing histograms: 0.000s\n",
      "Time spent finding best splits:  0.000s\n",
      "Time spent applying splits:      0.000s\n",
      "Time spent predicting:           0.000s\n",
      "Score: 0.9189117802430006\n"
     ]
    }
   ],
   "execution_count": 24
  },
  {
   "metadata": {
    "ExecuteTime": {
     "end_time": "2025-02-01T11:51:36.053867Z",
     "start_time": "2025-02-01T11:51:35.992582Z"
    }
   },
   "cell_type": "code",
   "source": [
    "pred_proba = classifier.predict_proba(X_test)\n",
    "preds = classifier.predict(X_test)\n"
   ],
   "id": "b73d69792f06501c",
   "outputs": [],
   "execution_count": 25
  },
  {
   "metadata": {
    "ExecuteTime": {
     "end_time": "2025-02-01T11:51:38.004471Z",
     "start_time": "2025-02-01T11:51:37.995417Z"
    }
   },
   "cell_type": "code",
   "source": [
    "test_csv = pl.read_csv('test.csv')\n",
    "transported = pl.Series('Transported', preds).cast(pl.String).str.to_titlecase()\n",
    "submission_df = test_csv.select('PassengerId').hstack(pl.DataFrame(transported))\n",
    "submission_df.write_csv('spaceship-titanic-submission.csv')\n"
   ],
   "id": "4d1aba10fbced2f4",
   "outputs": [],
   "execution_count": 26
  },
  {
   "metadata": {
    "ExecuteTime": {
     "end_time": "2025-02-01T11:51:46.422961Z",
     "start_time": "2025-02-01T11:51:42.894317Z"
    }
   },
   "cell_type": "code",
   "source": "!kaggle competitions submit -c spaceship-titanic -f spaceship-titanic-submission.csv -m \"spaceship-titanic-submission.csv\"",
   "id": "2fd81feceeca94a9",
   "outputs": [
    {
     "name": "stdout",
     "output_type": "stream",
     "text": [
      "100%|██████████████████████████████████████| 56.6k/56.6k [00:01<00:00, 47.6kB/s]\r\n",
      "Successfully submitted to Spaceship Titanic"
     ]
    }
   ],
   "execution_count": 27
  },
  {
   "metadata": {},
   "cell_type": "code",
   "outputs": [],
   "execution_count": null,
   "source": "",
   "id": "2a0b26a96ae39c0a"
  }
 ],
 "metadata": {
  "kernelspec": {
   "display_name": "Python 3",
   "language": "python",
   "name": "python3"
  },
  "language_info": {
   "codemirror_mode": {
    "name": "ipython",
    "version": 2
   },
   "file_extension": ".py",
   "mimetype": "text/x-python",
   "name": "python",
   "nbconvert_exporter": "python",
   "pygments_lexer": "ipython2",
   "version": "2.7.6"
  }
 },
 "nbformat": 4,
 "nbformat_minor": 5
}
