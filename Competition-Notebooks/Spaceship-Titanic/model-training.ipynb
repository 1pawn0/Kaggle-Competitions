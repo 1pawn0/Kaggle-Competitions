{
 "cells": [
  {
   "cell_type": "code",
   "id": "initial_id",
   "metadata": {
    "collapsed": true,
    "ExecuteTime": {
     "end_time": "2025-02-01T07:55:56.690091Z",
     "start_time": "2025-02-01T07:55:54.017937Z"
    }
   },
   "source": [
    "import numpy as np\n",
    "import matplotlib.pyplot as plt\n",
    "import polars as pl\n",
    "import sklearn\n"
   ],
   "outputs": [],
   "execution_count": 1
  },
  {
   "metadata": {
    "ExecuteTime": {
     "end_time": "2025-02-01T07:55:56.792111Z",
     "start_time": "2025-02-01T07:55:56.712940Z"
    }
   },
   "cell_type": "code",
   "source": [
    "df = pl.read_parquet(\"raw_df.parquet\")\n",
    "train_df_height, test_df_height = 8693, 4277\n",
    "print((train_df_height + test_df_height) == df.height)\n",
    "\n",
    "# Split the df into train_df and test_df with specified height\n"
   ],
   "id": "585281cc5c20c641",
   "outputs": [
    {
     "name": "stdout",
     "output_type": "stream",
     "text": [
      "True\n"
     ]
    }
   ],
   "execution_count": 2
  },
  {
   "metadata": {
    "ExecuteTime": {
     "end_time": "2025-02-01T08:01:17.161852Z",
     "start_time": "2025-02-01T08:01:17.159508Z"
    }
   },
   "cell_type": "code",
   "source": "\n",
   "id": "ebe3031f72870676",
   "outputs": [],
   "execution_count": 3
  },
  {
   "metadata": {
    "ExecuteTime": {
     "end_time": "2025-02-01T07:12:26.194766Z",
     "start_time": "2025-02-01T07:12:26.190569Z"
    }
   },
   "cell_type": "code",
   "source": "train_df.height, test_df.height",
   "id": "7f6be15ae55e0c41",
   "outputs": [
    {
     "data": {
      "text/plain": [
       "(8693, 4277)"
      ]
     },
     "execution_count": 11,
     "metadata": {},
     "output_type": "execute_result"
    }
   ],
   "execution_count": 11
  },
  {
   "metadata": {
    "ExecuteTime": {
     "end_time": "2025-02-01T08:02:16.822940Z",
     "start_time": "2025-02-01T08:02:16.553892Z"
    }
   },
   "cell_type": "code",
   "source": [
    "classifier = sklearn.ensemble.HistGradientBoostingClassifier(\n",
    "    learning_rate=0.1,\n",
    "    max_iter=1000,\n",
    "    max_leaf_nodes=None,\n",
    "    max_depth=None,\n",
    "    min_samples_leaf=10,\n",
    "    l2_regularization=1.0,\n",
    "    categorical_features=\"from_dtype\",\n",
    "    warm_start=True,\n",
    "    scoring=\"f1\",\n",
    "    validation_fraction=0.2,\n",
    "    verbose=1,\n",
    "    random_state=42,\n",
    ")"
   ],
   "id": "c1c5d2442c928e24",
   "outputs": [],
   "execution_count": 4
  }
 ],
 "metadata": {
  "kernelspec": {
   "display_name": "Python 3",
   "language": "python",
   "name": "python3"
  },
  "language_info": {
   "codemirror_mode": {
    "name": "ipython",
    "version": 2
   },
   "file_extension": ".py",
   "mimetype": "text/x-python",
   "name": "python",
   "nbconvert_exporter": "python",
   "pygments_lexer": "ipython2",
   "version": "2.7.6"
  }
 },
 "nbformat": 4,
 "nbformat_minor": 5
}
