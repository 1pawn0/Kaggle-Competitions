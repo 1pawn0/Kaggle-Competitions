{
 "cells": [
  {
   "cell_type": "code",
   "execution_count": 25,
   "metadata": {},
   "outputs": [],
   "source": [
    "import numpy as np\n",
    "import polars as pl\n",
    "import sklearn\n"
   ]
  },
  {
   "cell_type": "code",
   "execution_count": 26,
   "metadata": {},
   "outputs": [],
   "source": [
    "df = pl.read_parquet('train_test_merged_df.parquet')\n",
    "target_feature = pl.read_parquet('target_series.parquet')\n"
   ]
  },
  {
   "cell_type": "code",
   "execution_count": 27,
   "metadata": {},
   "outputs": [
    {
     "data": {
      "text/plain": [
       "((2919, 78), (1460, 1))"
      ]
     },
     "execution_count": 27,
     "metadata": {},
     "output_type": "execute_result"
    }
   ],
   "source": [
    "df.shape, target_feature.shape"
   ]
  },
  {
   "cell_type": "code",
   "execution_count": 28,
   "metadata": {},
   "outputs": [
    {
     "data": {
      "text/plain": [
       "((1460, 78), (1459, 78))"
      ]
     },
     "execution_count": 28,
     "metadata": {},
     "output_type": "execute_result"
    }
   ],
   "source": [
    "train_df = df.limit(target_feature.height)\n",
    "test_df = df.slice(target_feature.height)\n",
    "train_df.shape, test_df.shape"
   ]
  },
  {
   "cell_type": "code",
   "execution_count": 29,
   "metadata": {},
   "outputs": [
    {
     "name": "stdout",
     "output_type": "stream",
     "text": [
      "Binning 0.001 GB of training data: "
     ]
    },
    {
     "name": "stderr",
     "output_type": "stream",
     "text": [
      "/home/ali/Public/Apps/anaconda3/envs/tf-env-0019/lib/python3.12/site-packages/sklearn/utils/validation.py:1408: DataConversionWarning: A column-vector y was passed when a 1d array was expected. Please change the shape of y to (n_samples, ), for example using ravel().\n",
      "  y = column_or_1d(y, warn=True)\n"
     ]
    },
    {
     "name": "stdout",
     "output_type": "stream",
     "text": [
      "0.030 s\n",
      "Fitting gradient boosted rounds:\n",
      "Fit 200 trees in 2.844 s, (22139 total leaves)\n",
      "Time spent computing histograms: 0.738s\n",
      "Time spent finding best splits:  0.697s\n",
      "Time spent applying splits:      0.481s\n",
      "Time spent predicting:           0.019s\n",
      "0.9989330045564039\n"
     ]
    }
   ],
   "source": [
    "model = sklearn.ensemble.HistGradientBoostingRegressor(\n",
    "    loss=\"squared_error\",\n",
    "    learning_rate=0.1,\n",
    "    max_iter=200,\n",
    "    max_leaf_nodes=None,\n",
    "    max_depth=None,\n",
    "    max_features=0.7,\n",
    "    categorical_features=\"from_dtype\",\n",
    "    min_samples_leaf=10,\n",
    "    l2_regularization=2.0,\n",
    "    warm_start=True,\n",
    "    scoring=\"neg_root_mean_squared_error\",\n",
    "    validation_fraction=0.3,\n",
    "    verbose=1,\n",
    "    random_state=42,\n",
    ")\n",
    "model.fit(train_df, target_feature)\n",
    "score = model.score(train_df, target_feature)\n",
    "print(score)\n"
   ]
  },
  {
   "cell_type": "code",
   "execution_count": 30,
   "metadata": {},
   "outputs": [],
   "source": [
    "preds = model.predict(test_df)\n"
   ]
  },
  {
   "cell_type": "code",
   "execution_count": 31,
   "metadata": {},
   "outputs": [
    {
     "data": {
      "text/html": [
       "<div><style>\n",
       ".dataframe > thead > tr,\n",
       ".dataframe > tbody > tr {\n",
       "  text-align: right;\n",
       "  white-space: pre-wrap;\n",
       "}\n",
       "</style>\n",
       "<small>shape: (1_459, 2)</small><table border=\"1\" class=\"dataframe\"><thead><tr><th>Id</th><th>SalePrice</th></tr><tr><td>i64</td><td>f64</td></tr></thead><tbody><tr><td>1461</td><td>169277.052498</td></tr><tr><td>1462</td><td>187758.393989</td></tr><tr><td>1463</td><td>183583.68357</td></tr><tr><td>1464</td><td>179317.477511</td></tr><tr><td>1465</td><td>150730.079977</td></tr><tr><td>&hellip;</td><td>&hellip;</td></tr><tr><td>2915</td><td>167081.220949</td></tr><tr><td>2916</td><td>164788.778231</td></tr><tr><td>2917</td><td>219222.4234</td></tr><tr><td>2918</td><td>184924.279659</td></tr><tr><td>2919</td><td>187741.866657</td></tr></tbody></table></div>"
      ],
      "text/plain": [
       "shape: (1_459, 2)\n",
       "┌──────┬───────────────┐\n",
       "│ Id   ┆ SalePrice     │\n",
       "│ ---  ┆ ---           │\n",
       "│ i64  ┆ f64           │\n",
       "╞══════╪═══════════════╡\n",
       "│ 1461 ┆ 169277.052498 │\n",
       "│ 1462 ┆ 187758.393989 │\n",
       "│ 1463 ┆ 183583.68357  │\n",
       "│ 1464 ┆ 179317.477511 │\n",
       "│ 1465 ┆ 150730.079977 │\n",
       "│ …    ┆ …             │\n",
       "│ 2915 ┆ 167081.220949 │\n",
       "│ 2916 ┆ 164788.778231 │\n",
       "│ 2917 ┆ 219222.4234   │\n",
       "│ 2918 ┆ 184924.279659 │\n",
       "│ 2919 ┆ 187741.866657 │\n",
       "└──────┴───────────────┘"
      ]
     },
     "execution_count": 31,
     "metadata": {},
     "output_type": "execute_result"
    }
   ],
   "source": [
    "pl.read_csv('sample_submission.csv')"
   ]
  },
  {
   "cell_type": "code",
   "execution_count": 32,
   "metadata": {},
   "outputs": [],
   "source": [
    "submission_df = pl.DataFrame([np.arange(1461,2920),preds],schema=[\"Id\",\"SalePrice\"])\n"
   ]
  },
  {
   "cell_type": "code",
   "execution_count": 33,
   "metadata": {},
   "outputs": [],
   "source": [
    "submission_df.write_csv('submission.csv')"
   ]
  },
  {
   "cell_type": "code",
   "execution_count": 34,
   "metadata": {},
   "outputs": [
    {
     "name": "stdout",
     "output_type": "stream",
     "text": [
      "100%|██████████████████████████████████████| 33.6k/33.6k [00:01<00:00, 29.1kB/s]\n",
      "Successfully submitted to House Prices - Advanced Regression Techniques"
     ]
    }
   ],
   "source": [
    "!kaggle competitions submit -c house-prices-advanced-regression-techniques -f submission.csv -m \"house-prices-advanced-regression-techniques submission #1\""
   ]
  },
  {
   "cell_type": "code",
   "execution_count": null,
   "metadata": {},
   "outputs": [],
   "source": []
  }
 ],
 "metadata": {
  "kernelspec": {
   "display_name": "tf-env-0019",
   "language": "python",
   "name": "python3"
  },
  "language_info": {
   "codemirror_mode": {
    "name": "ipython",
    "version": 3
   },
   "file_extension": ".py",
   "mimetype": "text/x-python",
   "name": "python",
   "nbconvert_exporter": "python",
   "pygments_lexer": "ipython3",
   "version": "3.12.8"
  }
 },
 "nbformat": 4,
 "nbformat_minor": 2
}
