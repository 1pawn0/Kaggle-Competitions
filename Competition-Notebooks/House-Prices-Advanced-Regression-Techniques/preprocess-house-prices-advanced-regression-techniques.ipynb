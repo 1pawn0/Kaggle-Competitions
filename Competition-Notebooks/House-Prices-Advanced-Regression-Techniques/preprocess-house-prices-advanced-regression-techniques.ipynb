{
 "cells": [
  {
   "cell_type": "code",
   "execution_count": 2,
   "id": "9f7cae0d-a779-4816-842b-405e2b37fb60",
   "metadata": {
    "ExecuteTime": {
     "end_time": "2025-02-02T06:08:14.766915Z",
     "start_time": "2025-02-02T06:08:10.972366Z"
    }
   },
   "outputs": [
    {
     "name": "stderr",
     "output_type": "stream",
     "text": [
      "2025-02-07 14:53:35.706450: I tensorflow/core/platform/cpu_feature_guard.cc:210] This TensorFlow binary is optimized to use available CPU instructions in performance-critical operations.\n",
      "To enable the following instructions: SSE4.1 SSE4.2 AVX AVX2 FMA, in other operations, rebuild TensorFlow with the appropriate compiler flags.\n"
     ]
    }
   ],
   "source": [
    "import os\n",
    "import pathlib\n",
    "import shutil\n",
    "\n",
    "import kaggle\n",
    "import kagglehub\n",
    "import matplotlib.pyplot as plt\n",
    "import numpy as np\n",
    "import polars as pl\n",
    "import sklearn\n",
    "import tensorflow as tf"
   ]
  },
  {
   "cell_type": "markdown",
   "id": "332a4db4bb703473",
   "metadata": {},
   "source": [
    "### Downloading the competition"
   ]
  },
  {
   "cell_type": "code",
   "execution_count": 3,
   "id": "ba62f517427262cd",
   "metadata": {
    "ExecuteTime": {
     "end_time": "2025-01-27T06:32:20.036380Z",
     "start_time": "2025-01-27T06:32:13.741759Z"
    }
   },
   "outputs": [
    {
     "name": "stdout",
     "output_type": "stream",
     "text": [
      "['data_description.txt', 'sample_submission.csv', 'test.csv', 'train.csv']\n"
     ]
    },
    {
     "data": {
      "text/plain": [
       "'data_description.txt'"
      ]
     },
     "execution_count": 3,
     "metadata": {},
     "output_type": "execute_result"
    }
   ],
   "source": [
    "competition_name = \"house-prices-advanced-regression-techniques\"  # Change this to the competition you want to download\n",
    "competition_path = pathlib.Path(\n",
    "    kagglehub.competition.competition_download(competition_name)\n",
    ")  # Downloads the competition\n",
    "competition_files: list = os.listdir(\n",
    "    competition_path\n",
    ")  # List of the files included in the competition\n",
    "\n",
    "print(competition_files)\n",
    "\n",
    "# copy files to the current directory\n",
    "shutil.copyfile(\n",
    "    competition_path / \"sample_submission.csv\", \"sample_submission.csv\"\n",
    ")\n",
    "shutil.copyfile(competition_path / \"test.csv\", \"test.csv\")\n",
    "shutil.copyfile(competition_path / \"train.csv\", \"train.csv\")\n",
    "shutil.copyfile(\n",
    "    competition_path / \"sample_submission.csv\", \"sample_submission.csv\"\n",
    ")\n",
    "shutil.copyfile(\n",
    "    competition_path / \"data_description.txt\", \"data_description.txt\"\n",
    ")\n"
   ]
  },
  {
   "cell_type": "code",
   "execution_count": 10,
   "id": "b79b4c51-e090-4529-923c-e0a1e396a0ac",
   "metadata": {},
   "outputs": [],
   "source": [
    "\n",
    "train_df = pl.read_csv(\n",
    "    \"train.csv\",\n",
    "    #    infer_schema_length=None,\n",
    "    ignore_errors=True,\n",
    ")\n",
    "test_df = pl.read_csv(\n",
    "    \"test.csv\",\n",
    "    #   infer_schema_length=None,\n",
    "    ignore_errors=True,\n",
    ")\n",
    "target_col = train_df.drop_in_place(\"SalePrice\")\n",
    "\n",
    "target_col.to_frame().write_parquet(\"target_series.parquet\", statistics=\"full\")\n",
    "df: pl.DataFrame = pl.concat([train_df, test_df])\n",
    "\n",
    "df = df.with_columns(\n",
    "    [\n",
    "        pl.when(pl.col(\"LotFrontage\") == \"NA\")\n",
    "        .then(pl.lit(0))\n",
    "        .otherwise(pl.col(\"LotFrontage\"))\n",
    "        .cast(pl.UInt16)\n",
    "        .alias(\"LotFrontage\"),\n",
    "        pl.when(pl.col(\"GarageYrBlt\") == \"NA\")\n",
    "        .then(pl.lit(0))\n",
    "        .otherwise(pl.col(\"GarageYrBlt\"))\n",
    "        .cast(pl.UInt16)\n",
    "        .alias(\"GarageYrBlt\"),\n",
    "        pl.col(\"MasVnrArea\").fill_null(0),\n",
    "    ]\n",
    ")\n",
    "df_numeric_cols = df.select(pl.selectors.numeric())\n",
    "df_string_cols = df.select(pl.selectors.string().cast(pl.Categorical))\n",
    "\n",
    "df_numeric_cols = df_numeric_cols.drop(\"GarageYrBlt\", \"Id\")\n",
    "df_numeric_cols = df_numeric_cols.fill_null(0)\n",
    "df = df_string_cols.hstack(df_numeric_cols)\n",
    "df.write_parquet(\"train_test_merged_df.parquet\", statistics=\"full\")\n"
   ]
  },
  {
   "cell_type": "code",
   "execution_count": 5,
   "id": "ac233029-86e4-4367-9c92-79457b32b17f",
   "metadata": {},
   "outputs": [
    {
     "ename": "NameError",
     "evalue": "name 'df_string_cols' is not defined",
     "output_type": "error",
     "traceback": [
      "\u001b[0;31m---------------------------------------------------------------------------\u001b[0m",
      "\u001b[0;31mNameError\u001b[0m                                 Traceback (most recent call last)",
      "Cell \u001b[0;32mIn[5], line 1\u001b[0m\n\u001b[0;32m----> 1\u001b[0m str_unique_vals_count \u001b[38;5;241m=\u001b[39m \u001b[43mdf_string_cols\u001b[49m\u001b[38;5;241m.\u001b[39mselect(pl\u001b[38;5;241m.\u001b[39mall()\u001b[38;5;241m.\u001b[39mn_unique())\u001b[38;5;241m.\u001b[39mtranspose(\n\u001b[1;32m      2\u001b[0m     include_header\u001b[38;5;241m=\u001b[39m\u001b[38;5;28;01mTrue\u001b[39;00m, header_name\u001b[38;5;241m=\u001b[39m\u001b[38;5;124m\"\u001b[39m\u001b[38;5;124mcol_name\u001b[39m\u001b[38;5;124m\"\u001b[39m, column_names\u001b[38;5;241m=\u001b[39m[\u001b[38;5;124m\"\u001b[39m\u001b[38;5;124munique_count\u001b[39m\u001b[38;5;124m\"\u001b[39m]\n\u001b[1;32m      3\u001b[0m )\n\u001b[1;32m      4\u001b[0m numeric_unique_vals_count \u001b[38;5;241m=\u001b[39m df_numeric_cols\u001b[38;5;241m.\u001b[39mselect(\n\u001b[1;32m      5\u001b[0m     pl\u001b[38;5;241m.\u001b[39mall()\u001b[38;5;241m.\u001b[39mn_unique()\n\u001b[1;32m      6\u001b[0m )\u001b[38;5;241m.\u001b[39mtranspose(\n\u001b[1;32m      7\u001b[0m     include_header\u001b[38;5;241m=\u001b[39m\u001b[38;5;28;01mTrue\u001b[39;00m, header_name\u001b[38;5;241m=\u001b[39m\u001b[38;5;124m\"\u001b[39m\u001b[38;5;124mcol_name\u001b[39m\u001b[38;5;124m\"\u001b[39m, column_names\u001b[38;5;241m=\u001b[39m[\u001b[38;5;124m\"\u001b[39m\u001b[38;5;124munique_count\u001b[39m\u001b[38;5;124m\"\u001b[39m]\n\u001b[1;32m      8\u001b[0m )\n\u001b[1;32m      9\u001b[0m (\n\u001b[1;32m     10\u001b[0m     str_unique_vals_count\u001b[38;5;241m.\u001b[39msort(\u001b[38;5;124m\"\u001b[39m\u001b[38;5;124munique_count\u001b[39m\u001b[38;5;124m\"\u001b[39m, descending\u001b[38;5;241m=\u001b[39m\u001b[38;5;28;01mTrue\u001b[39;00m),\n\u001b[1;32m     11\u001b[0m     numeric_unique_vals_count\u001b[38;5;241m.\u001b[39msort(\u001b[38;5;124m\"\u001b[39m\u001b[38;5;124munique_count\u001b[39m\u001b[38;5;124m\"\u001b[39m, descending\u001b[38;5;241m=\u001b[39m\u001b[38;5;28;01mTrue\u001b[39;00m),\n\u001b[1;32m     12\u001b[0m )\n",
      "\u001b[0;31mNameError\u001b[0m: name 'df_string_cols' is not defined"
     ]
    }
   ],
   "source": [
    "str_unique_vals_count = df_string_cols.select(pl.all().n_unique()).transpose(\n",
    "    include_header=True, header_name=\"col_name\", column_names=[\"unique_count\"]\n",
    ")\n",
    "numeric_unique_vals_count = df_numeric_cols.select(\n",
    "    pl.all().n_unique()\n",
    ").transpose(\n",
    "    include_header=True, header_name=\"col_name\", column_names=[\"unique_count\"]\n",
    ")\n",
    "(\n",
    "    str_unique_vals_count.sort(\"unique_count\", descending=True),\n",
    "    numeric_unique_vals_count.sort(\"unique_count\", descending=True),\n",
    ")"
   ]
  },
  {
   "cell_type": "code",
   "execution_count": null,
   "id": "9e83752a",
   "metadata": {},
   "outputs": [],
   "source": []
  }
 ],
 "metadata": {
  "kernelspec": {
   "display_name": "tf-env-0019",
   "language": "python",
   "name": "python3"
  },
  "language_info": {
   "codemirror_mode": {
    "name": "ipython",
    "version": 3
   },
   "file_extension": ".py",
   "mimetype": "text/x-python",
   "name": "python",
   "nbconvert_exporter": "python",
   "pygments_lexer": "ipython3",
   "version": "3.12.8"
  }
 },
 "nbformat": 4,
 "nbformat_minor": 5
}
