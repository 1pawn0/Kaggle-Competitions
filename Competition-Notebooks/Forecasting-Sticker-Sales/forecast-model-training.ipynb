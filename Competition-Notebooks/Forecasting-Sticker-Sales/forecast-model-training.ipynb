{
 "cells": [
  {
   "cell_type": "code",
   "id": "initial_id",
   "metadata": {
    "collapsed": true,
    "ExecuteTime": {
     "end_time": "2025-01-28T05:23:03.891004Z",
     "start_time": "2025-01-28T05:23:01.174114Z"
    }
   },
   "source": [
    "import numpy as np\n",
    "import matplotlib.pyplot as plt\n",
    "import polars as pl\n",
    "import sklearn\n",
    "import os, pathlib\n",
    "import kaggle, kagglehub\n"
   ],
   "outputs": [],
   "execution_count": 1
  },
  {
   "metadata": {
    "ExecuteTime": {
     "end_time": "2025-01-28T06:09:43.440732Z",
     "start_time": "2025-01-28T06:09:43.421039Z"
    }
   },
   "cell_type": "code",
   "source": [
    "num_sold_scale_factor = 5939\n",
    "test_df = pl.read_parquet('test_preprocessed.parquet')\n",
    "train_df = pl.read_parquet('train_preprocessed.parquet').drop_nulls()\n",
    "\n",
    "target_df = train_df['num_sold_scaled']\n",
    "train_df = train_df.drop(['id', 'num_sold_scaled'])\n",
    "\n",
    "test_df = test_df.drop(['id', 'num_sold_scaled'])"
   ],
   "id": "18f1a02732518690",
   "outputs": [],
   "execution_count": 25
  },
  {
   "metadata": {},
   "cell_type": "markdown",
   "source": "### Defining the regressor model",
   "id": "3e63168726738b26"
  },
  {
   "metadata": {
    "ExecuteTime": {
     "end_time": "2025-01-28T06:12:01.854516Z",
     "start_time": "2025-01-28T06:12:01.850994Z"
    }
   },
   "cell_type": "code",
   "source": [
    "import sklearn.ensemble\n",
    "\n",
    "regressor = sklearn.ensemble.HistGradientBoostingRegressor(\n",
    "    loss='absolute_error',\n",
    "    learning_rate=0.1,\n",
    "    max_iter=1000,\n",
    "    max_leaf_nodes=None,\n",
    "    max_depth=None,\n",
    "    max_features=1.0,\n",
    "    l2_regularization=1,\n",
    "    warm_start=True,\n",
    "    scoring='neg_mean_absolute_percentage_error',\n",
    "    validation_fraction=0.1,\n",
    "    verbose=1,\n",
    "    random_state=42\n",
    ")"
   ],
   "id": "9b9376f15e5379bd",
   "outputs": [],
   "execution_count": 29
  },
  {
   "metadata": {},
   "cell_type": "markdown",
   "source": "### Training the regressor model",
   "id": "bb9fca7e8bd68801"
  },
  {
   "metadata": {
    "ExecuteTime": {
     "end_time": "2025-01-28T06:28:40.201440Z",
     "start_time": "2025-01-28T06:28:37.494417Z"
    }
   },
   "cell_type": "code",
   "outputs": [
    {
     "name": "stdout",
     "output_type": "stream",
     "text": [
      "Binning 0.032 GB of training data: 0.112 s\n",
      "Binning 0.004 GB of validation data: 0.003 s\n",
      "Fitting gradient boosted rounds:\n",
      "[143/10000] 1 tree, 7364 leaves, max depth = 35, train score: -0.02614, val score: -0.04850, in 1.291s\n",
      "Fit 143 trees in 2.681 s, (910391 total leaves)\n",
      "Time spent computing histograms: 0.165s\n",
      "Time spent finding best splits:  0.078s\n",
      "Time spent applying splits:      0.466s\n",
      "Time spent predicting:           0.010s\n"
     ]
    }
   ],
   "execution_count": 59,
   "source": "regressor.fit(train_df, target_df)",
   "id": "ea777e5603fdb78c"
  },
  {
   "metadata": {
    "ExecuteTime": {
     "end_time": "2025-01-28T06:49:15.266198Z",
     "start_time": "2025-01-28T06:49:13.437622Z"
    }
   },
   "cell_type": "code",
   "source": [
    "model_score = regressor.score(train_df, target_df)\n",
    "print('Prediction score:', model_score)"
   ],
   "id": "59cd70fea94d230",
   "outputs": [],
   "execution_count": 109
  },
  {
   "metadata": {
    "ExecuteTime": {
     "end_time": "2025-01-28T07:00:16.501011Z",
     "start_time": "2025-01-28T07:00:15.711634Z"
    }
   },
   "cell_type": "code",
   "source": [
    "num_sold_scale_factor = 5939\n",
    "\n",
    "pred_num_sold: np.ndarray = (regressor.predict(test_df) * num_sold_scale_factor).astype(int)\n",
    "np.save('pred_num_sold.npy', pred_num_sold)"
   ],
   "id": "402e99ca91c36a8d",
   "outputs": [],
   "execution_count": 131
  },
  {
   "metadata": {
    "ExecuteTime": {
     "end_time": "2025-01-28T06:53:18.136604Z",
     "start_time": "2025-01-28T06:53:18.133090Z"
    }
   },
   "cell_type": "code",
   "source": "predicted_num_solds = pl.Series('pred_num_sold', np.load('pred_num_sold.npy'))",
   "id": "6132d584649376b3",
   "outputs": [],
   "execution_count": 123
  },
  {
   "metadata": {
    "ExecuteTime": {
     "end_time": "2025-01-28T07:04:41.100505Z",
     "start_time": "2025-01-28T07:04:41.089592Z"
    }
   },
   "cell_type": "code",
   "source": [
    "sample_sub = pl.read_parquet('sample_submission.parquet')\n",
    "print(sample_sub.columns)\n",
    "print(sample_sub.height, len(predicted_num_solds))"
   ],
   "id": "9f76c067c2e0b7fc",
   "outputs": [
    {
     "name": "stdout",
     "output_type": "stream",
     "text": [
      "['id', 'num_sold']\n",
      "98550 98550\n"
     ]
    }
   ],
   "execution_count": 137
  },
  {
   "metadata": {
    "ExecuteTime": {
     "end_time": "2025-01-28T06:53:19.678682Z",
     "start_time": "2025-01-28T06:53:19.667488Z"
    }
   },
   "cell_type": "code",
   "source": "sub_df = sample_sub.hstack([predicted_num_solds]).drop('num_sold').rename({'pred_num_sold': 'num_sold'})",
   "id": "f6a50b90e0ba40a",
   "outputs": [],
   "execution_count": 127
  },
  {
   "metadata": {
    "ExecuteTime": {
     "end_time": "2025-01-28T07:03:20.949723Z",
     "start_time": "2025-01-28T07:03:20.938699Z"
    }
   },
   "cell_type": "code",
   "source": [
    "sub_df = sub_df.with_columns([\n",
    "    (pl.when(sub_df['num_sold'] < 4).then(4).otherwise(sub_df['num_sold'])).alias('num_sold')\n",
    "]).write_csv('submission.csv')"
   ],
   "id": "905a58c4accbdef6",
   "outputs": [],
   "execution_count": 136
  },
  {
   "metadata": {
    "ExecuteTime": {
     "end_time": "2025-01-28T06:57:12.762855Z",
     "start_time": "2025-01-28T06:56:52.782418Z"
    }
   },
   "cell_type": "code",
   "source": "!kaggle competitions submit -c playground-series-s5e1 -f submission.csv -m \"Forecasting Sticker Sales Submission\"",
   "id": "872b9dff2c81426b",
   "outputs": [
    {
     "name": "stdout",
     "output_type": "stream",
     "text": [
      "100%|██████████████████████████████████████| 1.04M/1.04M [00:14<00:00, 74.1kB/s]\r\n",
      "Successfully submitted to Forecasting Sticker Sales"
     ]
    }
   ],
   "execution_count": 130
  }
 ],
 "metadata": {
  "kernelspec": {
   "display_name": "Python 3",
   "language": "python",
   "name": "python3"
  },
  "language_info": {
   "codemirror_mode": {
    "name": "ipython",
    "version": 2
   },
   "file_extension": ".py",
   "mimetype": "text/x-python",
   "name": "python",
   "nbconvert_exporter": "python",
   "pygments_lexer": "ipython2",
   "version": "2.7.6"
  }
 },
 "nbformat": 4,
 "nbformat_minor": 5
}
