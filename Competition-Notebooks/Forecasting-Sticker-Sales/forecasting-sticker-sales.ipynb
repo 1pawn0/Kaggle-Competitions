{
 "cells": [
  {
   "metadata": {
    "ExecuteTime": {
     "end_time": "2025-01-27T07:54:26.628501Z",
     "start_time": "2025-01-27T07:53:58.847383Z"
    }
   },
   "cell_type": "code",
   "source": [
    "# %conda install -c conda-forge ipywidgets notebook black ruff -y\n",
    "%conda install -y openai"
   ],
   "id": "da39477b7f8a80f2",
   "outputs": [
    {
     "name": "stdout",
     "output_type": "stream",
     "text": [
      "Channels:\r\n",
      " - defaults\r\n",
      " - conda-forge\r\n",
      "Platform: linux-64\r\n",
      "Collecting package metadata (repodata.json): done\r\n",
      "Solving environment: done\r\n",
      "\r\n",
      "# All requested packages already installed.\r\n",
      "\r\n",
      "\n",
      "Note: you may need to restart the kernel to use updated packages.\n"
     ]
    }
   ],
   "execution_count": 7
  },
  {
   "metadata": {},
   "cell_type": "markdown",
   "source": "### Importing Dependencies",
   "id": "4e29c59b6d395709"
  },
  {
   "cell_type": "code",
   "id": "initial_id",
   "metadata": {
    "collapsed": true,
    "ExecuteTime": {
     "end_time": "2025-01-27T07:08:01.759436Z",
     "start_time": "2025-01-27T07:08:01.754558Z"
    }
   },
   "source": [
    "import numpy as np\n",
    "import matplotlib.pyplot as plt\n",
    "import polars as pl\n",
    "import os, pathlib, zipfile\n",
    "import kaggle, kagglehub"
   ],
   "outputs": [],
   "execution_count": 3
  },
  {
   "metadata": {},
   "cell_type": "markdown",
   "source": "### Downloading the competition",
   "id": "45f1f4740fdfba9b"
  },
  {
   "metadata": {
    "ExecuteTime": {
     "end_time": "2025-01-27T07:07:25.552084Z",
     "start_time": "2025-01-27T07:07:08.145239Z"
    }
   },
   "cell_type": "code",
   "source": [
    "competition_name = 'playground-series-s5e1'  # Change this to the competition you want to download\n",
    "competition_path = pathlib.Path(\n",
    "    kagglehub.competition.competition_download(competition_name))  # Downloads the competition\n",
    "competition_files: list = os.listdir(competition_path)  # List of the files included in the competition\n",
    "\n",
    "print(competition_files)"
   ],
   "id": "4b4794184598897a",
   "outputs": [
    {
     "name": "stdout",
     "output_type": "stream",
     "text": [
      "['sample_submission.csv', 'test.csv', 'train.csv']\n"
     ]
    }
   ],
   "execution_count": 2
  },
  {
   "metadata": {
    "ExecuteTime": {
     "end_time": "2025-01-27T07:13:03.635254Z",
     "start_time": "2025-01-27T07:13:03.480375Z"
    }
   },
   "cell_type": "code",
   "source": [
    "pl.Config.set_tbl_rows(40)  # polars config set number of rows to display\n",
    "\n",
    "train_df = pl.read_csv(competition_path / 'train.csv')\n",
    "test_df = pl.read_csv(competition_path / 'test.csv')\n",
    "sample_submission_df = pl.read_csv(competition_path / 'sample_submission.csv')"
   ],
   "id": "b811d35f4b3d4150",
   "outputs": [],
   "execution_count": 4
  },
  {
   "metadata": {
    "ExecuteTime": {
     "end_time": "2025-01-27T07:13:11.318064Z",
     "start_time": "2025-01-27T07:13:11.301678Z"
    }
   },
   "cell_type": "code",
   "source": "",
   "id": "99d41352428ca25b",
   "outputs": [
    {
     "data": {
      "text/plain": [
       "shape: (230_130, 6)\n",
       "┌────────┬────────────┬───────────┬──────────────────────┬────────────────────┬──────────┐\n",
       "│ id     ┆ date       ┆ country   ┆ store                ┆ product            ┆ num_sold │\n",
       "│ ---    ┆ ---        ┆ ---       ┆ ---                  ┆ ---                ┆ ---      │\n",
       "│ i64    ┆ str        ┆ str       ┆ str                  ┆ str                ┆ f64      │\n",
       "╞════════╪════════════╪═══════════╪══════════════════════╪════════════════════╪══════════╡\n",
       "│ 0      ┆ 2010-01-01 ┆ Canada    ┆ Discount Stickers    ┆ Holographic Goose  ┆ null     │\n",
       "│ 1      ┆ 2010-01-01 ┆ Canada    ┆ Discount Stickers    ┆ Kaggle             ┆ 973.0    │\n",
       "│ 2      ┆ 2010-01-01 ┆ Canada    ┆ Discount Stickers    ┆ Kaggle Tiers       ┆ 906.0    │\n",
       "│ 3      ┆ 2010-01-01 ┆ Canada    ┆ Discount Stickers    ┆ Kerneler           ┆ 423.0    │\n",
       "│ 4      ┆ 2010-01-01 ┆ Canada    ┆ Discount Stickers    ┆ Kerneler Dark Mode ┆ 491.0    │\n",
       "│ 5      ┆ 2010-01-01 ┆ Canada    ┆ Stickers for Less    ┆ Holographic Goose  ┆ 300.0    │\n",
       "│ 6      ┆ 2010-01-01 ┆ Canada    ┆ Stickers for Less    ┆ Kaggle             ┆ 1837.0   │\n",
       "│ 7      ┆ 2010-01-01 ┆ Canada    ┆ Stickers for Less    ┆ Kaggle Tiers       ┆ 1659.0   │\n",
       "│ 8      ┆ 2010-01-01 ┆ Canada    ┆ Stickers for Less    ┆ Kerneler           ┆ 807.0    │\n",
       "│ 9      ┆ 2010-01-01 ┆ Canada    ┆ Stickers for Less    ┆ Kerneler Dark Mode ┆ 940.0    │\n",
       "│ 10     ┆ 2010-01-01 ┆ Canada    ┆ Premium Sticker Mart ┆ Holographic Goose  ┆ 375.0    │\n",
       "│ 11     ┆ 2010-01-01 ┆ Canada    ┆ Premium Sticker Mart ┆ Kaggle             ┆ 2212.0   │\n",
       "│ 12     ┆ 2010-01-01 ┆ Canada    ┆ Premium Sticker Mart ┆ Kaggle Tiers       ┆ 2013.0   │\n",
       "│ 13     ┆ 2010-01-01 ┆ Canada    ┆ Premium Sticker Mart ┆ Kerneler           ┆ 950.0    │\n",
       "│ 14     ┆ 2010-01-01 ┆ Canada    ┆ Premium Sticker Mart ┆ Kerneler Dark Mode ┆ 1213.0   │\n",
       "│ 15     ┆ 2010-01-01 ┆ Finland   ┆ Discount Stickers    ┆ Holographic Goose  ┆ 150.0    │\n",
       "│ 16     ┆ 2010-01-01 ┆ Finland   ┆ Discount Stickers    ┆ Kaggle             ┆ 926.0    │\n",
       "│ 17     ┆ 2010-01-01 ┆ Finland   ┆ Discount Stickers    ┆ Kaggle Tiers       ┆ 774.0    │\n",
       "│ 18     ┆ 2010-01-01 ┆ Finland   ┆ Discount Stickers    ┆ Kerneler           ┆ 424.0    │\n",
       "│ 19     ┆ 2010-01-01 ┆ Finland   ┆ Discount Stickers    ┆ Kerneler Dark Mode ┆ 450.0    │\n",
       "│ …      ┆ …          ┆ …         ┆ …                    ┆ …                  ┆ …        │\n",
       "│ 230110 ┆ 2016-12-31 ┆ Norway    ┆ Premium Sticker Mart ┆ Holographic Goose  ┆ 576.0    │\n",
       "│ 230111 ┆ 2016-12-31 ┆ Norway    ┆ Premium Sticker Mart ┆ Kaggle             ┆ 3459.0   │\n",
       "│ 230112 ┆ 2016-12-31 ┆ Norway    ┆ Premium Sticker Mart ┆ Kaggle Tiers       ┆ 2735.0   │\n",
       "│ 230113 ┆ 2016-12-31 ┆ Norway    ┆ Premium Sticker Mart ┆ Kerneler           ┆ 1690.0   │\n",
       "│ 230114 ┆ 2016-12-31 ┆ Norway    ┆ Premium Sticker Mart ┆ Kerneler Dark Mode ┆ 1857.0   │\n",
       "│ 230115 ┆ 2016-12-31 ┆ Singapore ┆ Discount Stickers    ┆ Holographic Goose  ┆ 200.0    │\n",
       "│ 230116 ┆ 2016-12-31 ┆ Singapore ┆ Discount Stickers    ┆ Kaggle             ┆ 1259.0   │\n",
       "│ 230117 ┆ 2016-12-31 ┆ Singapore ┆ Discount Stickers    ┆ Kaggle Tiers       ┆ 931.0    │\n",
       "│ 230118 ┆ 2016-12-31 ┆ Singapore ┆ Discount Stickers    ┆ Kerneler           ┆ 556.0    │\n",
       "│ 230119 ┆ 2016-12-31 ┆ Singapore ┆ Discount Stickers    ┆ Kerneler Dark Mode ┆ 637.0    │\n",
       "│ 230120 ┆ 2016-12-31 ┆ Singapore ┆ Stickers for Less    ┆ Holographic Goose  ┆ 384.0    │\n",
       "│ 230121 ┆ 2016-12-31 ┆ Singapore ┆ Stickers for Less    ┆ Kaggle             ┆ 2380.0   │\n",
       "│ 230122 ┆ 2016-12-31 ┆ Singapore ┆ Stickers for Less    ┆ Kaggle Tiers       ┆ 2103.0   │\n",
       "│ 230123 ┆ 2016-12-31 ┆ Singapore ┆ Stickers for Less    ┆ Kerneler           ┆ 1052.0   │\n",
       "│ 230124 ┆ 2016-12-31 ┆ Singapore ┆ Stickers for Less    ┆ Kerneler Dark Mode ┆ 1312.0   │\n",
       "│ 230125 ┆ 2016-12-31 ┆ Singapore ┆ Premium Sticker Mart ┆ Holographic Goose  ┆ 466.0    │\n",
       "│ 230126 ┆ 2016-12-31 ┆ Singapore ┆ Premium Sticker Mart ┆ Kaggle             ┆ 2907.0   │\n",
       "│ 230127 ┆ 2016-12-31 ┆ Singapore ┆ Premium Sticker Mart ┆ Kaggle Tiers       ┆ 2299.0   │\n",
       "│ 230128 ┆ 2016-12-31 ┆ Singapore ┆ Premium Sticker Mart ┆ Kerneler           ┆ 1242.0   │\n",
       "│ 230129 ┆ 2016-12-31 ┆ Singapore ┆ Premium Sticker Mart ┆ Kerneler Dark Mode ┆ 1622.0   │\n",
       "└────────┴────────────┴───────────┴──────────────────────┴────────────────────┴──────────┘"
      ],
      "text/html": [
       "<div><style>\n",
       ".dataframe > thead > tr,\n",
       ".dataframe > tbody > tr {\n",
       "  text-align: right;\n",
       "  white-space: pre-wrap;\n",
       "}\n",
       "</style>\n",
       "<small>shape: (230_130, 6)</small><table border=\"1\" class=\"dataframe\"><thead><tr><th>id</th><th>date</th><th>country</th><th>store</th><th>product</th><th>num_sold</th></tr><tr><td>i64</td><td>str</td><td>str</td><td>str</td><td>str</td><td>f64</td></tr></thead><tbody><tr><td>0</td><td>&quot;2010-01-01&quot;</td><td>&quot;Canada&quot;</td><td>&quot;Discount Stickers&quot;</td><td>&quot;Holographic Goose&quot;</td><td>null</td></tr><tr><td>1</td><td>&quot;2010-01-01&quot;</td><td>&quot;Canada&quot;</td><td>&quot;Discount Stickers&quot;</td><td>&quot;Kaggle&quot;</td><td>973.0</td></tr><tr><td>2</td><td>&quot;2010-01-01&quot;</td><td>&quot;Canada&quot;</td><td>&quot;Discount Stickers&quot;</td><td>&quot;Kaggle Tiers&quot;</td><td>906.0</td></tr><tr><td>3</td><td>&quot;2010-01-01&quot;</td><td>&quot;Canada&quot;</td><td>&quot;Discount Stickers&quot;</td><td>&quot;Kerneler&quot;</td><td>423.0</td></tr><tr><td>4</td><td>&quot;2010-01-01&quot;</td><td>&quot;Canada&quot;</td><td>&quot;Discount Stickers&quot;</td><td>&quot;Kerneler Dark Mode&quot;</td><td>491.0</td></tr><tr><td>5</td><td>&quot;2010-01-01&quot;</td><td>&quot;Canada&quot;</td><td>&quot;Stickers for Less&quot;</td><td>&quot;Holographic Goose&quot;</td><td>300.0</td></tr><tr><td>6</td><td>&quot;2010-01-01&quot;</td><td>&quot;Canada&quot;</td><td>&quot;Stickers for Less&quot;</td><td>&quot;Kaggle&quot;</td><td>1837.0</td></tr><tr><td>7</td><td>&quot;2010-01-01&quot;</td><td>&quot;Canada&quot;</td><td>&quot;Stickers for Less&quot;</td><td>&quot;Kaggle Tiers&quot;</td><td>1659.0</td></tr><tr><td>8</td><td>&quot;2010-01-01&quot;</td><td>&quot;Canada&quot;</td><td>&quot;Stickers for Less&quot;</td><td>&quot;Kerneler&quot;</td><td>807.0</td></tr><tr><td>9</td><td>&quot;2010-01-01&quot;</td><td>&quot;Canada&quot;</td><td>&quot;Stickers for Less&quot;</td><td>&quot;Kerneler Dark Mode&quot;</td><td>940.0</td></tr><tr><td>10</td><td>&quot;2010-01-01&quot;</td><td>&quot;Canada&quot;</td><td>&quot;Premium Sticker Mart&quot;</td><td>&quot;Holographic Goose&quot;</td><td>375.0</td></tr><tr><td>11</td><td>&quot;2010-01-01&quot;</td><td>&quot;Canada&quot;</td><td>&quot;Premium Sticker Mart&quot;</td><td>&quot;Kaggle&quot;</td><td>2212.0</td></tr><tr><td>12</td><td>&quot;2010-01-01&quot;</td><td>&quot;Canada&quot;</td><td>&quot;Premium Sticker Mart&quot;</td><td>&quot;Kaggle Tiers&quot;</td><td>2013.0</td></tr><tr><td>13</td><td>&quot;2010-01-01&quot;</td><td>&quot;Canada&quot;</td><td>&quot;Premium Sticker Mart&quot;</td><td>&quot;Kerneler&quot;</td><td>950.0</td></tr><tr><td>14</td><td>&quot;2010-01-01&quot;</td><td>&quot;Canada&quot;</td><td>&quot;Premium Sticker Mart&quot;</td><td>&quot;Kerneler Dark Mode&quot;</td><td>1213.0</td></tr><tr><td>15</td><td>&quot;2010-01-01&quot;</td><td>&quot;Finland&quot;</td><td>&quot;Discount Stickers&quot;</td><td>&quot;Holographic Goose&quot;</td><td>150.0</td></tr><tr><td>16</td><td>&quot;2010-01-01&quot;</td><td>&quot;Finland&quot;</td><td>&quot;Discount Stickers&quot;</td><td>&quot;Kaggle&quot;</td><td>926.0</td></tr><tr><td>17</td><td>&quot;2010-01-01&quot;</td><td>&quot;Finland&quot;</td><td>&quot;Discount Stickers&quot;</td><td>&quot;Kaggle Tiers&quot;</td><td>774.0</td></tr><tr><td>18</td><td>&quot;2010-01-01&quot;</td><td>&quot;Finland&quot;</td><td>&quot;Discount Stickers&quot;</td><td>&quot;Kerneler&quot;</td><td>424.0</td></tr><tr><td>19</td><td>&quot;2010-01-01&quot;</td><td>&quot;Finland&quot;</td><td>&quot;Discount Stickers&quot;</td><td>&quot;Kerneler Dark Mode&quot;</td><td>450.0</td></tr><tr><td>&hellip;</td><td>&hellip;</td><td>&hellip;</td><td>&hellip;</td><td>&hellip;</td><td>&hellip;</td></tr><tr><td>230110</td><td>&quot;2016-12-31&quot;</td><td>&quot;Norway&quot;</td><td>&quot;Premium Sticker Mart&quot;</td><td>&quot;Holographic Goose&quot;</td><td>576.0</td></tr><tr><td>230111</td><td>&quot;2016-12-31&quot;</td><td>&quot;Norway&quot;</td><td>&quot;Premium Sticker Mart&quot;</td><td>&quot;Kaggle&quot;</td><td>3459.0</td></tr><tr><td>230112</td><td>&quot;2016-12-31&quot;</td><td>&quot;Norway&quot;</td><td>&quot;Premium Sticker Mart&quot;</td><td>&quot;Kaggle Tiers&quot;</td><td>2735.0</td></tr><tr><td>230113</td><td>&quot;2016-12-31&quot;</td><td>&quot;Norway&quot;</td><td>&quot;Premium Sticker Mart&quot;</td><td>&quot;Kerneler&quot;</td><td>1690.0</td></tr><tr><td>230114</td><td>&quot;2016-12-31&quot;</td><td>&quot;Norway&quot;</td><td>&quot;Premium Sticker Mart&quot;</td><td>&quot;Kerneler Dark Mode&quot;</td><td>1857.0</td></tr><tr><td>230115</td><td>&quot;2016-12-31&quot;</td><td>&quot;Singapore&quot;</td><td>&quot;Discount Stickers&quot;</td><td>&quot;Holographic Goose&quot;</td><td>200.0</td></tr><tr><td>230116</td><td>&quot;2016-12-31&quot;</td><td>&quot;Singapore&quot;</td><td>&quot;Discount Stickers&quot;</td><td>&quot;Kaggle&quot;</td><td>1259.0</td></tr><tr><td>230117</td><td>&quot;2016-12-31&quot;</td><td>&quot;Singapore&quot;</td><td>&quot;Discount Stickers&quot;</td><td>&quot;Kaggle Tiers&quot;</td><td>931.0</td></tr><tr><td>230118</td><td>&quot;2016-12-31&quot;</td><td>&quot;Singapore&quot;</td><td>&quot;Discount Stickers&quot;</td><td>&quot;Kerneler&quot;</td><td>556.0</td></tr><tr><td>230119</td><td>&quot;2016-12-31&quot;</td><td>&quot;Singapore&quot;</td><td>&quot;Discount Stickers&quot;</td><td>&quot;Kerneler Dark Mode&quot;</td><td>637.0</td></tr><tr><td>230120</td><td>&quot;2016-12-31&quot;</td><td>&quot;Singapore&quot;</td><td>&quot;Stickers for Less&quot;</td><td>&quot;Holographic Goose&quot;</td><td>384.0</td></tr><tr><td>230121</td><td>&quot;2016-12-31&quot;</td><td>&quot;Singapore&quot;</td><td>&quot;Stickers for Less&quot;</td><td>&quot;Kaggle&quot;</td><td>2380.0</td></tr><tr><td>230122</td><td>&quot;2016-12-31&quot;</td><td>&quot;Singapore&quot;</td><td>&quot;Stickers for Less&quot;</td><td>&quot;Kaggle Tiers&quot;</td><td>2103.0</td></tr><tr><td>230123</td><td>&quot;2016-12-31&quot;</td><td>&quot;Singapore&quot;</td><td>&quot;Stickers for Less&quot;</td><td>&quot;Kerneler&quot;</td><td>1052.0</td></tr><tr><td>230124</td><td>&quot;2016-12-31&quot;</td><td>&quot;Singapore&quot;</td><td>&quot;Stickers for Less&quot;</td><td>&quot;Kerneler Dark Mode&quot;</td><td>1312.0</td></tr><tr><td>230125</td><td>&quot;2016-12-31&quot;</td><td>&quot;Singapore&quot;</td><td>&quot;Premium Sticker Mart&quot;</td><td>&quot;Holographic Goose&quot;</td><td>466.0</td></tr><tr><td>230126</td><td>&quot;2016-12-31&quot;</td><td>&quot;Singapore&quot;</td><td>&quot;Premium Sticker Mart&quot;</td><td>&quot;Kaggle&quot;</td><td>2907.0</td></tr><tr><td>230127</td><td>&quot;2016-12-31&quot;</td><td>&quot;Singapore&quot;</td><td>&quot;Premium Sticker Mart&quot;</td><td>&quot;Kaggle Tiers&quot;</td><td>2299.0</td></tr><tr><td>230128</td><td>&quot;2016-12-31&quot;</td><td>&quot;Singapore&quot;</td><td>&quot;Premium Sticker Mart&quot;</td><td>&quot;Kerneler&quot;</td><td>1242.0</td></tr><tr><td>230129</td><td>&quot;2016-12-31&quot;</td><td>&quot;Singapore&quot;</td><td>&quot;Premium Sticker Mart&quot;</td><td>&quot;Kerneler Dark Mode&quot;</td><td>1622.0</td></tr></tbody></table></div>"
      ]
     },
     "execution_count": 5,
     "metadata": {},
     "output_type": "execute_result"
    }
   ],
   "execution_count": 5
  }
 ],
 "metadata": {
  "kernelspec": {
   "display_name": "Python 3",
   "language": "python",
   "name": "python3"
  },
  "language_info": {
   "codemirror_mode": {
    "name": "ipython",
    "version": 2
   },
   "file_extension": ".py",
   "mimetype": "text/x-python",
   "name": "python",
   "nbconvert_exporter": "python",
   "pygments_lexer": "ipython2",
   "version": "2.7.6"
  }
 },
 "nbformat": 4,
 "nbformat_minor": 5
}
