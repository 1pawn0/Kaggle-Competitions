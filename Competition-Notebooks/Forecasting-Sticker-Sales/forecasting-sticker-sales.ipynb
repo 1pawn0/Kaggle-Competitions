{
 "cells": [
  {
   "metadata": {
    "ExecuteTime": {
     "end_time": "2025-01-27T06:02:44.748871Z",
     "start_time": "2025-01-27T06:02:25.887103Z"
    }
   },
   "cell_type": "code",
   "source": "%conda install -c conda-forge ipywidgets notebook black ruff -y",
   "id": "da39477b7f8a80f2",
   "outputs": [
    {
     "name": "stdout",
     "output_type": "stream",
     "text": [
      "Channels:\r\n",
      " - conda-forge\r\n",
      " - defaults\r\n",
      "Platform: linux-64\r\n",
      "Collecting package metadata (repodata.json): done\r\n",
      "Solving environment: done\r\n",
      "\r\n",
      "# All requested packages already installed.\r\n",
      "\r\n",
      "\n",
      "Note: you may need to restart the kernel to use updated packages.\n"
     ]
    }
   ],
   "execution_count": 3
  },
  {
   "metadata": {},
   "cell_type": "markdown",
   "source": "### Importing Dependencies",
   "id": "4e29c59b6d395709"
  },
  {
   "cell_type": "code",
   "id": "initial_id",
   "metadata": {
    "collapsed": true,
    "ExecuteTime": {
     "end_time": "2025-01-27T06:03:38.538842Z",
     "start_time": "2025-01-27T06:03:38.535350Z"
    }
   },
   "source": [
    "import numpy as np\n",
    "import matplotlib.pyplot as plt\n",
    "import polars as pd\n",
    "import os, pathlib, zipfile\n",
    "import kaggle, kagglehub"
   ],
   "outputs": [],
   "execution_count": 4
  },
  {
   "metadata": {},
   "cell_type": "markdown",
   "source": "### Downloading the competition",
   "id": "45f1f4740fdfba9b"
  },
  {
   "metadata": {
    "ExecuteTime": {
     "end_time": "2025-01-27T06:44:40.188656Z",
     "start_time": "2025-01-27T06:44:33.736292Z"
    }
   },
   "cell_type": "code",
   "source": [
    "competition_name = 'playground-series-s5e1'  # Change this to the competition you want to download\n",
    "competition_path = pathlib.Path(\n",
    "    kagglehub.competition.competition_download(competition_name))  # Downloads the competition\n",
    "competition_files: list = os.listdir(competition_path)  # List of the files included in the competition\n",
    "\n",
    "print(competition_files)"
   ],
   "id": "4b4794184598897a",
   "outputs": [],
   "execution_count": 10
  }
 ],
 "metadata": {
  "kernelspec": {
   "display_name": "Python 3",
   "language": "python",
   "name": "python3"
  },
  "language_info": {
   "codemirror_mode": {
    "name": "ipython",
    "version": 2
   },
   "file_extension": ".py",
   "mimetype": "text/x-python",
   "name": "python",
   "nbconvert_exporter": "python",
   "pygments_lexer": "ipython2",
   "version": "2.7.6"
  }
 },
 "nbformat": 4,
 "nbformat_minor": 5
}
