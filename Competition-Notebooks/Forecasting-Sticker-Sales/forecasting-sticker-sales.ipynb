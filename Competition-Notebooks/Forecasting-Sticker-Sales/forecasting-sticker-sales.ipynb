{
 "cells": [
  {
   "cell_type": "code",
   "execution_count": 7,
   "id": "da39477b7f8a80f2",
   "metadata": {
    "ExecuteTime": {
     "end_time": "2025-01-27T07:54:26.628501Z",
     "start_time": "2025-01-27T07:53:58.847383Z"
    }
   },
   "outputs": [
    {
     "name": "stdout",
     "output_type": "stream",
     "text": [
      "Channels:\r\n",
      " - defaults\r\n",
      " - conda-forge\r\n",
      "Platform: linux-64\r\n",
      "Collecting package metadata (repodata.json): done\r\n",
      "Solving environment: done\r\n",
      "\r\n",
      "# All requested packages already installed.\r\n",
      "\r\n",
      "\n",
      "Note: you may need to restart the kernel to use updated packages.\n"
     ]
    }
   ],
   "source": [
    "# %conda install -c conda-forge ipywidgets notebook black ruff -y\n",
    "%conda install -y openai"
   ]
  },
  {
   "cell_type": "markdown",
   "id": "4e29c59b6d395709",
   "metadata": {},
   "source": [
    "### Importing Dependencies\n"
   ]
  },
  {
   "cell_type": "code",
   "execution_count": 2,
   "id": "initial_id",
   "metadata": {
    "ExecuteTime": {
     "end_time": "2025-01-27T10:42:31.880330Z",
     "start_time": "2025-01-27T10:42:30.401060Z"
    },
    "collapsed": true
   },
   "outputs": [],
   "source": [
    "import numpy as np\n",
    "import matplotlib.pyplot as plt\n",
    "import polars as pl\n",
    "import os, pathlib, zipfile\n",
    "import kaggle, kagglehub"
   ]
  },
  {
   "cell_type": "markdown",
   "id": "45f1f4740fdfba9b",
   "metadata": {},
   "source": [
    "### Downloading the competition\n"
   ]
  },
  {
   "cell_type": "code",
   "execution_count": null,
   "id": "4b4794184598897a",
   "metadata": {
    "ExecuteTime": {
     "end_time": "2025-01-27T07:07:25.552084Z",
     "start_time": "2025-01-27T07:07:08.145239Z"
    }
   },
   "outputs": [
    {
     "name": "stdout",
     "output_type": "stream",
     "text": [
      "['sample_submission.csv', 'test.csv', 'train.csv']\n"
     ]
    }
   ],
   "source": [
    "competition_name = (\n",
    "    \"playground-series-s5e1\"  # Change this to the competition you want to download\n",
    ")\n",
    "competition_path = pathlib.Path(\n",
    "    kagglehub.competition.competition_download(competition_name)\n",
    ")  # Downloads the competition\n",
    "competition_files: list = os.listdir(\n",
    "    competition_path\n",
    ")  # List of the files included in the competition\n",
    "\n",
    "print(competition_files)"
   ]
  },
  {
   "cell_type": "code",
   "execution_count": 28,
   "id": "b811d35f4b3d4150",
   "metadata": {
    "ExecuteTime": {
     "end_time": "2025-01-27T07:13:03.635254Z",
     "start_time": "2025-01-27T07:13:03.480375Z"
    }
   },
   "outputs": [],
   "source": [
    "pl.Config.set_tbl_rows(40)  # polars config set number of rows to display\n",
    "\n",
    "train_df = pl.read_csv(competition_path / \"train.csv\")\n",
    "test_df = pl.read_csv(competition_path / \"test.csv\")\n",
    "sample_submission_df = pl.read_csv(competition_path / \"sample_submission.csv\")\n",
    "\n",
    "test_df = test_df.with_columns(pl.lit(None).alias(\"num_sold\"))\n",
    "\n",
    "train_last_row = train_df[-1]\n",
    "test_first_row = test_df[0]"
   ]
  },
  {
   "cell_type": "code",
   "execution_count": 35,
   "id": "ad1ef0c6",
   "metadata": {},
   "outputs": [],
   "source": [
    "df = pl.concat([train_df, test_df]).with_columns([\n",
    "    pl.col(\"id\").cast(pl.UInt32),\n",
    "    pl.col(\"date\").cast(pl.Date),\n",
    "    pl.col('country').cast(pl.Categorical),\n",
    "    pl.col('store').cast(pl.Categorical),\n",
    "    pl.col('product').cast(pl.Categorical),\n",
    "    pl.col('num_sold').cast(pl.UInt16),\n",
    "    ])"
   ]
  },
  {
   "cell_type": "code",
   "execution_count": 37,
   "id": "0b59c941",
   "metadata": {},
   "outputs": [
    {
     "data": {
      "text/plain": [
       "[UInt32,\n",
       " Date,\n",
       " Categorical(ordering='physical'),\n",
       " Categorical(ordering='physical'),\n",
       " Categorical(ordering='physical'),\n",
       " UInt16]"
      ]
     },
     "execution_count": 37,
     "metadata": {},
     "output_type": "execute_result"
    }
   ],
   "source": []
  }
 ],
 "metadata": {
  "kernelspec": {
   "display_name": "Python 3 (ipykernel)",
   "language": "python",
   "name": "python3"
  },
  "language_info": {
   "codemirror_mode": {
    "name": "ipython",
    "version": 3
   },
   "file_extension": ".py",
   "mimetype": "text/x-python",
   "name": "python",
   "nbconvert_exporter": "python",
   "pygments_lexer": "ipython3",
   "version": "3.12.2"
  }
 },
 "nbformat": 4,
 "nbformat_minor": 5
}
