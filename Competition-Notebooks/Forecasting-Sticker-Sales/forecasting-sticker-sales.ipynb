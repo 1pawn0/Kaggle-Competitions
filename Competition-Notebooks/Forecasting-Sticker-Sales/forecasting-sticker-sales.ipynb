{
 "cells": [
  {
   "cell_type": "code",
   "execution_count": 7,
   "id": "da39477b7f8a80f2",
   "metadata": {
    "ExecuteTime": {
     "end_time": "2025-01-27T07:54:26.628501Z",
     "start_time": "2025-01-27T07:53:58.847383Z"
    }
   },
   "outputs": [
    {
     "name": "stdout",
     "output_type": "stream",
     "text": [
      "Channels:\r\n",
      " - defaults\r\n",
      " - conda-forge\r\n",
      "Platform: linux-64\r\n",
      "Collecting package metadata (repodata.json): done\r\n",
      "Solving environment: done\r\n",
      "\r\n",
      "# All requested packages already installed.\r\n",
      "\r\n",
      "\n",
      "Note: you may need to restart the kernel to use updated packages.\n"
     ]
    }
   ],
   "source": [
    "# %conda install -c conda-forge ipywidgets notebook black ruff -y\n",
    "%conda install -y openai"
   ]
  },
  {
   "cell_type": "markdown",
   "id": "4e29c59b6d395709",
   "metadata": {},
   "source": [
    "### Importing Dependencies\n"
   ]
  },
  {
   "cell_type": "code",
   "id": "initial_id",
   "metadata": {
    "collapsed": true,
    "ExecuteTime": {
     "end_time": "2025-01-27T11:28:44.254371Z",
     "start_time": "2025-01-27T11:28:43.100692Z"
    }
   },
   "source": [
    "import numpy as np\n",
    "import matplotlib.pyplot as plt\n",
    "import polars as pl\n",
    "import os, pathlib, zipfile\n",
    "import kaggle, kagglehub"
   ],
   "outputs": [],
   "execution_count": 1
  },
  {
   "cell_type": "markdown",
   "id": "45f1f4740fdfba9b",
   "metadata": {},
   "source": [
    "### Downloading the competition\n"
   ]
  },
  {
   "cell_type": "code",
   "id": "4b4794184598897a",
   "metadata": {
    "ExecuteTime": {
     "end_time": "2025-01-27T11:28:49.639344Z",
     "start_time": "2025-01-27T11:28:47.852691Z"
    }
   },
   "source": [
    "competition_name = (\n",
    "    \"playground-series-s5e1\"  # Change this to the competition you want to download\n",
    ")\n",
    "competition_path = pathlib.Path(\n",
    "    kagglehub.competition.competition_download(competition_name)\n",
    ")  # Downloads the competition\n",
    "competition_files: list = os.listdir(\n",
    "    competition_path\n",
    ")  # List of the files included in the competition\n",
    "\n",
    "print(competition_files)"
   ],
   "outputs": [
    {
     "name": "stdout",
     "output_type": "stream",
     "text": [
      "['sample_submission.csv', 'test.csv', 'train.csv']\n"
     ]
    }
   ],
   "execution_count": 2
  },
  {
   "cell_type": "code",
   "id": "b811d35f4b3d4150",
   "metadata": {
    "ExecuteTime": {
     "end_time": "2025-01-27T11:29:00.393536Z",
     "start_time": "2025-01-27T11:29:00.347199Z"
    }
   },
   "source": [
    "pl.Config.set_tbl_rows(40)  # polars config set number of rows to display\n",
    "\n",
    "train_df = pl.read_csv(competition_path / \"train.csv\")\n",
    "test_df = pl.read_csv(competition_path / \"test.csv\")\n",
    "sample_submission_df = pl.read_csv(competition_path / \"sample_submission.csv\")\n",
    "\n",
    "test_df = test_df.with_columns(pl.lit(None).alias(\"num_sold\"))\n",
    "\n",
    "train_last_row = train_df[-1]\n",
    "test_first_row = test_df[0]"
   ],
   "outputs": [],
   "execution_count": 3
  },
  {
   "cell_type": "code",
   "id": "ad1ef0c6",
   "metadata": {
    "ExecuteTime": {
     "end_time": "2025-01-27T11:29:00.932204Z",
     "start_time": "2025-01-27T11:29:00.886244Z"
    }
   },
   "source": [
    "df = pl.concat([train_df, test_df]).with_columns(\n",
    "    [\n",
    "        pl.col(\"id\").cast(pl.UInt32),\n",
    "        pl.col(\"date\").cast(pl.Date),\n",
    "        pl.col(\"country\").cast(pl.Categorical),\n",
    "        pl.col(\"store\").cast(pl.Categorical),\n",
    "        pl.col(\"product\").cast(pl.Categorical),\n",
    "        pl.col(\"num_sold\").cast(pl.UInt16),\n",
    "    ]\n",
    ")"
   ],
   "outputs": [],
   "execution_count": 4
  },
  {
   "cell_type": "code",
   "id": "0b59c941",
   "metadata": {
    "ExecuteTime": {
     "end_time": "2025-01-27T11:36:58.932274Z",
     "start_time": "2025-01-27T11:36:58.911238Z"
    }
   },
   "source": "df.write_parquet('./exported_df.parquet')",
   "outputs": [],
   "execution_count": 13
  },
  {
   "metadata": {
    "ExecuteTime": {
     "end_time": "2025-01-27T11:36:39.043370Z",
     "start_time": "2025-01-27T11:36:39.035552Z"
    }
   },
   "cell_type": "code",
   "source": "",
   "id": "b4abfeec4e7f8fbb",
   "outputs": [
    {
     "data": {
      "text/plain": [
       "shape: (328_680, 6)\n",
       "┌────────┬────────────┬───────────┬──────────────────────┬────────────────────┬──────────┐\n",
       "│ id     ┆ date       ┆ country   ┆ store                ┆ product            ┆ num_sold │\n",
       "│ ---    ┆ ---        ┆ ---       ┆ ---                  ┆ ---                ┆ ---      │\n",
       "│ u32    ┆ date       ┆ cat       ┆ cat                  ┆ cat                ┆ u16      │\n",
       "╞════════╪════════════╪═══════════╪══════════════════════╪════════════════════╪══════════╡\n",
       "│ 0      ┆ 2010-01-01 ┆ Canada    ┆ Discount Stickers    ┆ Holographic Goose  ┆ null     │\n",
       "│ 1      ┆ 2010-01-01 ┆ Canada    ┆ Discount Stickers    ┆ Kaggle             ┆ 973      │\n",
       "│ 2      ┆ 2010-01-01 ┆ Canada    ┆ Discount Stickers    ┆ Kaggle Tiers       ┆ 906      │\n",
       "│ 3      ┆ 2010-01-01 ┆ Canada    ┆ Discount Stickers    ┆ Kerneler           ┆ 423      │\n",
       "│ 4      ┆ 2010-01-01 ┆ Canada    ┆ Discount Stickers    ┆ Kerneler Dark Mode ┆ 491      │\n",
       "│ 5      ┆ 2010-01-01 ┆ Canada    ┆ Stickers for Less    ┆ Holographic Goose  ┆ 300      │\n",
       "│ 6      ┆ 2010-01-01 ┆ Canada    ┆ Stickers for Less    ┆ Kaggle             ┆ 1837     │\n",
       "│ 7      ┆ 2010-01-01 ┆ Canada    ┆ Stickers for Less    ┆ Kaggle Tiers       ┆ 1659     │\n",
       "│ 8      ┆ 2010-01-01 ┆ Canada    ┆ Stickers for Less    ┆ Kerneler           ┆ 807      │\n",
       "│ 9      ┆ 2010-01-01 ┆ Canada    ┆ Stickers for Less    ┆ Kerneler Dark Mode ┆ 940      │\n",
       "│ 10     ┆ 2010-01-01 ┆ Canada    ┆ Premium Sticker Mart ┆ Holographic Goose  ┆ 375      │\n",
       "│ 11     ┆ 2010-01-01 ┆ Canada    ┆ Premium Sticker Mart ┆ Kaggle             ┆ 2212     │\n",
       "│ 12     ┆ 2010-01-01 ┆ Canada    ┆ Premium Sticker Mart ┆ Kaggle Tiers       ┆ 2013     │\n",
       "│ 13     ┆ 2010-01-01 ┆ Canada    ┆ Premium Sticker Mart ┆ Kerneler           ┆ 950      │\n",
       "│ 14     ┆ 2010-01-01 ┆ Canada    ┆ Premium Sticker Mart ┆ Kerneler Dark Mode ┆ 1213     │\n",
       "│ 15     ┆ 2010-01-01 ┆ Finland   ┆ Discount Stickers    ┆ Holographic Goose  ┆ 150      │\n",
       "│ 16     ┆ 2010-01-01 ┆ Finland   ┆ Discount Stickers    ┆ Kaggle             ┆ 926      │\n",
       "│ 17     ┆ 2010-01-01 ┆ Finland   ┆ Discount Stickers    ┆ Kaggle Tiers       ┆ 774      │\n",
       "│ 18     ┆ 2010-01-01 ┆ Finland   ┆ Discount Stickers    ┆ Kerneler           ┆ 424      │\n",
       "│ 19     ┆ 2010-01-01 ┆ Finland   ┆ Discount Stickers    ┆ Kerneler Dark Mode ┆ 450      │\n",
       "│ …      ┆ …          ┆ …         ┆ …                    ┆ …                  ┆ …        │\n",
       "│ 328660 ┆ 2019-12-31 ┆ Norway    ┆ Premium Sticker Mart ┆ Holographic Goose  ┆ null     │\n",
       "│ 328661 ┆ 2019-12-31 ┆ Norway    ┆ Premium Sticker Mart ┆ Kaggle             ┆ null     │\n",
       "│ 328662 ┆ 2019-12-31 ┆ Norway    ┆ Premium Sticker Mart ┆ Kaggle Tiers       ┆ null     │\n",
       "│ 328663 ┆ 2019-12-31 ┆ Norway    ┆ Premium Sticker Mart ┆ Kerneler           ┆ null     │\n",
       "│ 328664 ┆ 2019-12-31 ┆ Norway    ┆ Premium Sticker Mart ┆ Kerneler Dark Mode ┆ null     │\n",
       "│ 328665 ┆ 2019-12-31 ┆ Singapore ┆ Discount Stickers    ┆ Holographic Goose  ┆ null     │\n",
       "│ 328666 ┆ 2019-12-31 ┆ Singapore ┆ Discount Stickers    ┆ Kaggle             ┆ null     │\n",
       "│ 328667 ┆ 2019-12-31 ┆ Singapore ┆ Discount Stickers    ┆ Kaggle Tiers       ┆ null     │\n",
       "│ 328668 ┆ 2019-12-31 ┆ Singapore ┆ Discount Stickers    ┆ Kerneler           ┆ null     │\n",
       "│ 328669 ┆ 2019-12-31 ┆ Singapore ┆ Discount Stickers    ┆ Kerneler Dark Mode ┆ null     │\n",
       "│ 328670 ┆ 2019-12-31 ┆ Singapore ┆ Stickers for Less    ┆ Holographic Goose  ┆ null     │\n",
       "│ 328671 ┆ 2019-12-31 ┆ Singapore ┆ Stickers for Less    ┆ Kaggle             ┆ null     │\n",
       "│ 328672 ┆ 2019-12-31 ┆ Singapore ┆ Stickers for Less    ┆ Kaggle Tiers       ┆ null     │\n",
       "│ 328673 ┆ 2019-12-31 ┆ Singapore ┆ Stickers for Less    ┆ Kerneler           ┆ null     │\n",
       "│ 328674 ┆ 2019-12-31 ┆ Singapore ┆ Stickers for Less    ┆ Kerneler Dark Mode ┆ null     │\n",
       "│ 328675 ┆ 2019-12-31 ┆ Singapore ┆ Premium Sticker Mart ┆ Holographic Goose  ┆ null     │\n",
       "│ 328676 ┆ 2019-12-31 ┆ Singapore ┆ Premium Sticker Mart ┆ Kaggle             ┆ null     │\n",
       "│ 328677 ┆ 2019-12-31 ┆ Singapore ┆ Premium Sticker Mart ┆ Kaggle Tiers       ┆ null     │\n",
       "│ 328678 ┆ 2019-12-31 ┆ Singapore ┆ Premium Sticker Mart ┆ Kerneler           ┆ null     │\n",
       "│ 328679 ┆ 2019-12-31 ┆ Singapore ┆ Premium Sticker Mart ┆ Kerneler Dark Mode ┆ null     │\n",
       "└────────┴────────────┴───────────┴──────────────────────┴────────────────────┴──────────┘"
      ],
      "text/html": [
       "<div><style>\n",
       ".dataframe > thead > tr,\n",
       ".dataframe > tbody > tr {\n",
       "  text-align: right;\n",
       "  white-space: pre-wrap;\n",
       "}\n",
       "</style>\n",
       "<small>shape: (328_680, 6)</small><table border=\"1\" class=\"dataframe\"><thead><tr><th>id</th><th>date</th><th>country</th><th>store</th><th>product</th><th>num_sold</th></tr><tr><td>u32</td><td>date</td><td>cat</td><td>cat</td><td>cat</td><td>u16</td></tr></thead><tbody><tr><td>0</td><td>2010-01-01</td><td>&quot;Canada&quot;</td><td>&quot;Discount Stickers&quot;</td><td>&quot;Holographic Goose&quot;</td><td>null</td></tr><tr><td>1</td><td>2010-01-01</td><td>&quot;Canada&quot;</td><td>&quot;Discount Stickers&quot;</td><td>&quot;Kaggle&quot;</td><td>973</td></tr><tr><td>2</td><td>2010-01-01</td><td>&quot;Canada&quot;</td><td>&quot;Discount Stickers&quot;</td><td>&quot;Kaggle Tiers&quot;</td><td>906</td></tr><tr><td>3</td><td>2010-01-01</td><td>&quot;Canada&quot;</td><td>&quot;Discount Stickers&quot;</td><td>&quot;Kerneler&quot;</td><td>423</td></tr><tr><td>4</td><td>2010-01-01</td><td>&quot;Canada&quot;</td><td>&quot;Discount Stickers&quot;</td><td>&quot;Kerneler Dark Mode&quot;</td><td>491</td></tr><tr><td>5</td><td>2010-01-01</td><td>&quot;Canada&quot;</td><td>&quot;Stickers for Less&quot;</td><td>&quot;Holographic Goose&quot;</td><td>300</td></tr><tr><td>6</td><td>2010-01-01</td><td>&quot;Canada&quot;</td><td>&quot;Stickers for Less&quot;</td><td>&quot;Kaggle&quot;</td><td>1837</td></tr><tr><td>7</td><td>2010-01-01</td><td>&quot;Canada&quot;</td><td>&quot;Stickers for Less&quot;</td><td>&quot;Kaggle Tiers&quot;</td><td>1659</td></tr><tr><td>8</td><td>2010-01-01</td><td>&quot;Canada&quot;</td><td>&quot;Stickers for Less&quot;</td><td>&quot;Kerneler&quot;</td><td>807</td></tr><tr><td>9</td><td>2010-01-01</td><td>&quot;Canada&quot;</td><td>&quot;Stickers for Less&quot;</td><td>&quot;Kerneler Dark Mode&quot;</td><td>940</td></tr><tr><td>10</td><td>2010-01-01</td><td>&quot;Canada&quot;</td><td>&quot;Premium Sticker Mart&quot;</td><td>&quot;Holographic Goose&quot;</td><td>375</td></tr><tr><td>11</td><td>2010-01-01</td><td>&quot;Canada&quot;</td><td>&quot;Premium Sticker Mart&quot;</td><td>&quot;Kaggle&quot;</td><td>2212</td></tr><tr><td>12</td><td>2010-01-01</td><td>&quot;Canada&quot;</td><td>&quot;Premium Sticker Mart&quot;</td><td>&quot;Kaggle Tiers&quot;</td><td>2013</td></tr><tr><td>13</td><td>2010-01-01</td><td>&quot;Canada&quot;</td><td>&quot;Premium Sticker Mart&quot;</td><td>&quot;Kerneler&quot;</td><td>950</td></tr><tr><td>14</td><td>2010-01-01</td><td>&quot;Canada&quot;</td><td>&quot;Premium Sticker Mart&quot;</td><td>&quot;Kerneler Dark Mode&quot;</td><td>1213</td></tr><tr><td>15</td><td>2010-01-01</td><td>&quot;Finland&quot;</td><td>&quot;Discount Stickers&quot;</td><td>&quot;Holographic Goose&quot;</td><td>150</td></tr><tr><td>16</td><td>2010-01-01</td><td>&quot;Finland&quot;</td><td>&quot;Discount Stickers&quot;</td><td>&quot;Kaggle&quot;</td><td>926</td></tr><tr><td>17</td><td>2010-01-01</td><td>&quot;Finland&quot;</td><td>&quot;Discount Stickers&quot;</td><td>&quot;Kaggle Tiers&quot;</td><td>774</td></tr><tr><td>18</td><td>2010-01-01</td><td>&quot;Finland&quot;</td><td>&quot;Discount Stickers&quot;</td><td>&quot;Kerneler&quot;</td><td>424</td></tr><tr><td>19</td><td>2010-01-01</td><td>&quot;Finland&quot;</td><td>&quot;Discount Stickers&quot;</td><td>&quot;Kerneler Dark Mode&quot;</td><td>450</td></tr><tr><td>&hellip;</td><td>&hellip;</td><td>&hellip;</td><td>&hellip;</td><td>&hellip;</td><td>&hellip;</td></tr><tr><td>328660</td><td>2019-12-31</td><td>&quot;Norway&quot;</td><td>&quot;Premium Sticker Mart&quot;</td><td>&quot;Holographic Goose&quot;</td><td>null</td></tr><tr><td>328661</td><td>2019-12-31</td><td>&quot;Norway&quot;</td><td>&quot;Premium Sticker Mart&quot;</td><td>&quot;Kaggle&quot;</td><td>null</td></tr><tr><td>328662</td><td>2019-12-31</td><td>&quot;Norway&quot;</td><td>&quot;Premium Sticker Mart&quot;</td><td>&quot;Kaggle Tiers&quot;</td><td>null</td></tr><tr><td>328663</td><td>2019-12-31</td><td>&quot;Norway&quot;</td><td>&quot;Premium Sticker Mart&quot;</td><td>&quot;Kerneler&quot;</td><td>null</td></tr><tr><td>328664</td><td>2019-12-31</td><td>&quot;Norway&quot;</td><td>&quot;Premium Sticker Mart&quot;</td><td>&quot;Kerneler Dark Mode&quot;</td><td>null</td></tr><tr><td>328665</td><td>2019-12-31</td><td>&quot;Singapore&quot;</td><td>&quot;Discount Stickers&quot;</td><td>&quot;Holographic Goose&quot;</td><td>null</td></tr><tr><td>328666</td><td>2019-12-31</td><td>&quot;Singapore&quot;</td><td>&quot;Discount Stickers&quot;</td><td>&quot;Kaggle&quot;</td><td>null</td></tr><tr><td>328667</td><td>2019-12-31</td><td>&quot;Singapore&quot;</td><td>&quot;Discount Stickers&quot;</td><td>&quot;Kaggle Tiers&quot;</td><td>null</td></tr><tr><td>328668</td><td>2019-12-31</td><td>&quot;Singapore&quot;</td><td>&quot;Discount Stickers&quot;</td><td>&quot;Kerneler&quot;</td><td>null</td></tr><tr><td>328669</td><td>2019-12-31</td><td>&quot;Singapore&quot;</td><td>&quot;Discount Stickers&quot;</td><td>&quot;Kerneler Dark Mode&quot;</td><td>null</td></tr><tr><td>328670</td><td>2019-12-31</td><td>&quot;Singapore&quot;</td><td>&quot;Stickers for Less&quot;</td><td>&quot;Holographic Goose&quot;</td><td>null</td></tr><tr><td>328671</td><td>2019-12-31</td><td>&quot;Singapore&quot;</td><td>&quot;Stickers for Less&quot;</td><td>&quot;Kaggle&quot;</td><td>null</td></tr><tr><td>328672</td><td>2019-12-31</td><td>&quot;Singapore&quot;</td><td>&quot;Stickers for Less&quot;</td><td>&quot;Kaggle Tiers&quot;</td><td>null</td></tr><tr><td>328673</td><td>2019-12-31</td><td>&quot;Singapore&quot;</td><td>&quot;Stickers for Less&quot;</td><td>&quot;Kerneler&quot;</td><td>null</td></tr><tr><td>328674</td><td>2019-12-31</td><td>&quot;Singapore&quot;</td><td>&quot;Stickers for Less&quot;</td><td>&quot;Kerneler Dark Mode&quot;</td><td>null</td></tr><tr><td>328675</td><td>2019-12-31</td><td>&quot;Singapore&quot;</td><td>&quot;Premium Sticker Mart&quot;</td><td>&quot;Holographic Goose&quot;</td><td>null</td></tr><tr><td>328676</td><td>2019-12-31</td><td>&quot;Singapore&quot;</td><td>&quot;Premium Sticker Mart&quot;</td><td>&quot;Kaggle&quot;</td><td>null</td></tr><tr><td>328677</td><td>2019-12-31</td><td>&quot;Singapore&quot;</td><td>&quot;Premium Sticker Mart&quot;</td><td>&quot;Kaggle Tiers&quot;</td><td>null</td></tr><tr><td>328678</td><td>2019-12-31</td><td>&quot;Singapore&quot;</td><td>&quot;Premium Sticker Mart&quot;</td><td>&quot;Kerneler&quot;</td><td>null</td></tr><tr><td>328679</td><td>2019-12-31</td><td>&quot;Singapore&quot;</td><td>&quot;Premium Sticker Mart&quot;</td><td>&quot;Kerneler Dark Mode&quot;</td><td>null</td></tr></tbody></table></div>"
      ]
     },
     "execution_count": 12,
     "metadata": {},
     "output_type": "execute_result"
    }
   ],
   "execution_count": 12
  }
 ],
 "metadata": {
  "kernelspec": {
   "display_name": "Python 3 (ipykernel)",
   "language": "python",
   "name": "python3"
  },
  "language_info": {
   "codemirror_mode": {
    "name": "ipython",
    "version": 3
   },
   "file_extension": ".py",
   "mimetype": "text/x-python",
   "name": "python",
   "nbconvert_exporter": "python",
   "pygments_lexer": "ipython3",
   "version": "3.12.2"
  }
 },
 "nbformat": 4,
 "nbformat_minor": 5
}
