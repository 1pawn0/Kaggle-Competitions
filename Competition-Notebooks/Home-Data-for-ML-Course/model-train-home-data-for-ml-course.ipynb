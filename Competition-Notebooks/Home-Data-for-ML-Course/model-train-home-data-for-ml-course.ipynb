{
 "cells": [
  {
   "cell_type": "code",
   "execution_count": 1,
   "metadata": {},
   "outputs": [],
   "source": [
    "import numpy as np\n",
    "import matplotlib.pyplot as plt\n",
    "import polars as pl\n",
    "import sklearn\n",
    "import os, pathlib, shutil\n",
    "import kaggle, kagglehub\n"
   ]
  },
  {
   "cell_type": "code",
   "execution_count": 19,
   "metadata": {},
   "outputs": [],
   "source": [
    "train_df = pl.read_parquet(\"train_df.parquet\")\n",
    "test_df = pl.read_parquet(\"test_df.parquet\")\n",
    "y = train_df.drop_in_place('SalePrice')\n",
    "X = train_df.drop('Id')"
   ]
  },
  {
   "cell_type": "code",
   "execution_count": 21,
   "metadata": {},
   "outputs": [
    {
     "data": {
      "text/plain": [
       "(1460, 79)"
      ]
     },
     "execution_count": 21,
     "metadata": {},
     "output_type": "execute_result"
    }
   ],
   "source": [
    "X.shape"
   ]
  },
  {
   "cell_type": "code",
   "execution_count": 29,
   "metadata": {},
   "outputs": [],
   "source": [
    "model = sklearn.ensemble.HistGradientBoostingRegressor(\n",
    "    loss=\"squared_error\",\n",
    "    learning_rate=0.1,\n",
    "    max_iter=100,\n",
    "    max_leaf_nodes=None,\n",
    "    max_depth=None,\n",
    "    max_features=0.8,\n",
    "    categorical_features=\"from_dtype\",\n",
    "    min_samples_leaf=10,\n",
    "    l2_regularization=2.0,\n",
    "    warm_start=True,\n",
    "    scoring=\"neg_root_mean_squared_error\",\n",
    "    validation_fraction=0.2,\n",
    "    verbose=1,\n",
    "    random_state=42,\n",
    ")"
   ]
  },
  {
   "cell_type": "code",
   "execution_count": 31,
   "metadata": {},
   "outputs": [
    {
     "name": "stdout",
     "output_type": "stream",
     "text": [
      "Binning 0.001 GB of training data: 0.028 s\n",
      "Fitting gradient boosted rounds:\n",
      "Fit 100 trees in 0.079 s, (10797 total leaves)\n",
      "Time spent computing histograms: 0.000s\n",
      "Time spent finding best splits:  0.000s\n",
      "Time spent applying splits:      0.000s\n",
      "Time spent predicting:           0.000s\n"
     ]
    },
    {
     "data": {
      "text/plain": [
       "0.9960801644139587"
      ]
     },
     "execution_count": 31,
     "metadata": {},
     "output_type": "execute_result"
    }
   ],
   "source": [
    "model.fit(X,y)\n",
    "model.score(X,y)\n"
   ]
  },
  {
   "cell_type": "markdown",
   "metadata": {},
   "source": []
  },
  {
   "cell_type": "code",
   "execution_count": 32,
   "metadata": {},
   "outputs": [
    {
     "data": {
      "text/html": [
       "<div><style>\n",
       ".dataframe > thead > tr,\n",
       ".dataframe > tbody > tr {\n",
       "  text-align: right;\n",
       "  white-space: pre-wrap;\n",
       "}\n",
       "</style>\n",
       "<small>shape: (1_459, 81)</small><table border=\"1\" class=\"dataframe\"><thead><tr><th>Id</th><th>MSSubClass</th><th>MSZoning</th><th>LotFrontage</th><th>LotArea</th><th>Street</th><th>Alley</th><th>LotShape</th><th>LandContour</th><th>Utilities</th><th>LotConfig</th><th>LandSlope</th><th>Neighborhood</th><th>Condition1</th><th>Condition2</th><th>BldgType</th><th>HouseStyle</th><th>OverallQual</th><th>OverallCond</th><th>YearBuilt</th><th>YearRemodAdd</th><th>RoofStyle</th><th>RoofMatl</th><th>Exterior1st</th><th>Exterior2nd</th><th>MasVnrType</th><th>MasVnrArea</th><th>ExterQual</th><th>ExterCond</th><th>Foundation</th><th>BsmtQual</th><th>BsmtCond</th><th>BsmtExposure</th><th>BsmtFinType1</th><th>BsmtFinSF1</th><th>BsmtFinType2</th><th>BsmtFinSF2</th><th>&hellip;</th><th>2ndFlrSF</th><th>LowQualFinSF</th><th>GrLivArea</th><th>BsmtFullBath</th><th>BsmtHalfBath</th><th>FullBath</th><th>HalfBath</th><th>BedroomAbvGr</th><th>KitchenAbvGr</th><th>KitchenQual</th><th>TotRmsAbvGrd</th><th>Functional</th><th>Fireplaces</th><th>FireplaceQu</th><th>GarageType</th><th>GarageYrBlt</th><th>GarageFinish</th><th>GarageCars</th><th>GarageArea</th><th>GarageQual</th><th>GarageCond</th><th>PavedDrive</th><th>WoodDeckSF</th><th>OpenPorchSF</th><th>EnclosedPorch</th><th>3SsnPorch</th><th>ScreenPorch</th><th>PoolArea</th><th>PoolQC</th><th>Fence</th><th>MiscFeature</th><th>MiscVal</th><th>MoSold</th><th>YrSold</th><th>SaleType</th><th>SaleCondition</th><th>SalePrice</th></tr><tr><td>i64</td><td>cat</td><td>cat</td><td>f64</td><td>i64</td><td>cat</td><td>cat</td><td>cat</td><td>cat</td><td>cat</td><td>cat</td><td>cat</td><td>cat</td><td>cat</td><td>cat</td><td>cat</td><td>cat</td><td>i64</td><td>i64</td><td>i64</td><td>i64</td><td>cat</td><td>cat</td><td>cat</td><td>cat</td><td>cat</td><td>f64</td><td>cat</td><td>cat</td><td>cat</td><td>cat</td><td>cat</td><td>cat</td><td>cat</td><td>i64</td><td>cat</td><td>i64</td><td>&hellip;</td><td>i64</td><td>i64</td><td>i64</td><td>i64</td><td>i64</td><td>i64</td><td>i64</td><td>i64</td><td>i64</td><td>cat</td><td>i64</td><td>cat</td><td>i64</td><td>cat</td><td>cat</td><td>f64</td><td>cat</td><td>i64</td><td>i64</td><td>cat</td><td>cat</td><td>cat</td><td>i64</td><td>i64</td><td>i64</td><td>i64</td><td>i64</td><td>i64</td><td>cat</td><td>cat</td><td>cat</td><td>i64</td><td>i64</td><td>i64</td><td>cat</td><td>cat</td><td>i64</td></tr></thead><tbody><tr><td>1461</td><td>&quot;20&quot;</td><td>&quot;RH&quot;</td><td>80.0</td><td>11622</td><td>&quot;Pave&quot;</td><td>&quot;NA&quot;</td><td>&quot;Reg&quot;</td><td>&quot;Lvl&quot;</td><td>&quot;AllPub&quot;</td><td>&quot;Inside&quot;</td><td>&quot;Gtl&quot;</td><td>&quot;NAmes&quot;</td><td>&quot;Feedr&quot;</td><td>&quot;Norm&quot;</td><td>&quot;1Fam&quot;</td><td>&quot;1Story&quot;</td><td>5</td><td>6</td><td>1961</td><td>1961</td><td>&quot;Gable&quot;</td><td>&quot;CompShg&quot;</td><td>&quot;VinylSd&quot;</td><td>&quot;VinylSd&quot;</td><td>&quot;None&quot;</td><td>0.0</td><td>&quot;TA&quot;</td><td>&quot;TA&quot;</td><td>&quot;CBlock&quot;</td><td>&quot;TA&quot;</td><td>&quot;TA&quot;</td><td>&quot;No&quot;</td><td>&quot;Rec&quot;</td><td>468</td><td>&quot;LwQ&quot;</td><td>144</td><td>&hellip;</td><td>0</td><td>0</td><td>896</td><td>0</td><td>0</td><td>1</td><td>0</td><td>2</td><td>1</td><td>&quot;TA&quot;</td><td>5</td><td>&quot;Typ&quot;</td><td>0</td><td>&quot;NA&quot;</td><td>&quot;Attchd&quot;</td><td>1961.0</td><td>&quot;Unf&quot;</td><td>1</td><td>730</td><td>&quot;TA&quot;</td><td>&quot;TA&quot;</td><td>&quot;Y&quot;</td><td>140</td><td>0</td><td>0</td><td>0</td><td>120</td><td>0</td><td>&quot;NA&quot;</td><td>&quot;MnPrv&quot;</td><td>&quot;NA&quot;</td><td>0</td><td>6</td><td>2010</td><td>&quot;WD&quot;</td><td>&quot;Normal&quot;</td><td>null</td></tr><tr><td>1462</td><td>&quot;20&quot;</td><td>&quot;RL&quot;</td><td>81.0</td><td>14267</td><td>&quot;Pave&quot;</td><td>&quot;NA&quot;</td><td>&quot;IR1&quot;</td><td>&quot;Lvl&quot;</td><td>&quot;AllPub&quot;</td><td>&quot;Corner&quot;</td><td>&quot;Gtl&quot;</td><td>&quot;NAmes&quot;</td><td>&quot;Norm&quot;</td><td>&quot;Norm&quot;</td><td>&quot;1Fam&quot;</td><td>&quot;1Story&quot;</td><td>6</td><td>6</td><td>1958</td><td>1958</td><td>&quot;Hip&quot;</td><td>&quot;CompShg&quot;</td><td>&quot;Wd Sdng&quot;</td><td>&quot;Wd Sdng&quot;</td><td>&quot;BrkFace&quot;</td><td>108.0</td><td>&quot;TA&quot;</td><td>&quot;TA&quot;</td><td>&quot;CBlock&quot;</td><td>&quot;TA&quot;</td><td>&quot;TA&quot;</td><td>&quot;No&quot;</td><td>&quot;ALQ&quot;</td><td>923</td><td>&quot;Unf&quot;</td><td>0</td><td>&hellip;</td><td>0</td><td>0</td><td>1329</td><td>0</td><td>0</td><td>1</td><td>1</td><td>3</td><td>1</td><td>&quot;Gd&quot;</td><td>6</td><td>&quot;Typ&quot;</td><td>0</td><td>&quot;NA&quot;</td><td>&quot;Attchd&quot;</td><td>1958.0</td><td>&quot;Unf&quot;</td><td>1</td><td>312</td><td>&quot;TA&quot;</td><td>&quot;TA&quot;</td><td>&quot;Y&quot;</td><td>393</td><td>36</td><td>0</td><td>0</td><td>0</td><td>0</td><td>&quot;NA&quot;</td><td>&quot;NA&quot;</td><td>&quot;Gar2&quot;</td><td>12500</td><td>6</td><td>2010</td><td>&quot;WD&quot;</td><td>&quot;Normal&quot;</td><td>null</td></tr><tr><td>1463</td><td>&quot;60&quot;</td><td>&quot;RL&quot;</td><td>74.0</td><td>13830</td><td>&quot;Pave&quot;</td><td>&quot;NA&quot;</td><td>&quot;IR1&quot;</td><td>&quot;Lvl&quot;</td><td>&quot;AllPub&quot;</td><td>&quot;Inside&quot;</td><td>&quot;Gtl&quot;</td><td>&quot;Gilbert&quot;</td><td>&quot;Norm&quot;</td><td>&quot;Norm&quot;</td><td>&quot;1Fam&quot;</td><td>&quot;2Story&quot;</td><td>5</td><td>5</td><td>1997</td><td>1998</td><td>&quot;Gable&quot;</td><td>&quot;CompShg&quot;</td><td>&quot;VinylSd&quot;</td><td>&quot;VinylSd&quot;</td><td>&quot;None&quot;</td><td>0.0</td><td>&quot;TA&quot;</td><td>&quot;TA&quot;</td><td>&quot;PConc&quot;</td><td>&quot;Gd&quot;</td><td>&quot;TA&quot;</td><td>&quot;No&quot;</td><td>&quot;GLQ&quot;</td><td>791</td><td>&quot;Unf&quot;</td><td>0</td><td>&hellip;</td><td>701</td><td>0</td><td>1629</td><td>0</td><td>0</td><td>2</td><td>1</td><td>3</td><td>1</td><td>&quot;TA&quot;</td><td>6</td><td>&quot;Typ&quot;</td><td>1</td><td>&quot;TA&quot;</td><td>&quot;Attchd&quot;</td><td>1997.0</td><td>&quot;Fin&quot;</td><td>2</td><td>482</td><td>&quot;TA&quot;</td><td>&quot;TA&quot;</td><td>&quot;Y&quot;</td><td>212</td><td>34</td><td>0</td><td>0</td><td>0</td><td>0</td><td>&quot;NA&quot;</td><td>&quot;MnPrv&quot;</td><td>&quot;NA&quot;</td><td>0</td><td>3</td><td>2010</td><td>&quot;WD&quot;</td><td>&quot;Normal&quot;</td><td>null</td></tr><tr><td>1464</td><td>&quot;60&quot;</td><td>&quot;RL&quot;</td><td>78.0</td><td>9978</td><td>&quot;Pave&quot;</td><td>&quot;NA&quot;</td><td>&quot;IR1&quot;</td><td>&quot;Lvl&quot;</td><td>&quot;AllPub&quot;</td><td>&quot;Inside&quot;</td><td>&quot;Gtl&quot;</td><td>&quot;Gilbert&quot;</td><td>&quot;Norm&quot;</td><td>&quot;Norm&quot;</td><td>&quot;1Fam&quot;</td><td>&quot;2Story&quot;</td><td>6</td><td>6</td><td>1998</td><td>1998</td><td>&quot;Gable&quot;</td><td>&quot;CompShg&quot;</td><td>&quot;VinylSd&quot;</td><td>&quot;VinylSd&quot;</td><td>&quot;BrkFace&quot;</td><td>20.0</td><td>&quot;TA&quot;</td><td>&quot;TA&quot;</td><td>&quot;PConc&quot;</td><td>&quot;TA&quot;</td><td>&quot;TA&quot;</td><td>&quot;No&quot;</td><td>&quot;GLQ&quot;</td><td>602</td><td>&quot;Unf&quot;</td><td>0</td><td>&hellip;</td><td>678</td><td>0</td><td>1604</td><td>0</td><td>0</td><td>2</td><td>1</td><td>3</td><td>1</td><td>&quot;Gd&quot;</td><td>7</td><td>&quot;Typ&quot;</td><td>1</td><td>&quot;Gd&quot;</td><td>&quot;Attchd&quot;</td><td>1998.0</td><td>&quot;Fin&quot;</td><td>2</td><td>470</td><td>&quot;TA&quot;</td><td>&quot;TA&quot;</td><td>&quot;Y&quot;</td><td>360</td><td>36</td><td>0</td><td>0</td><td>0</td><td>0</td><td>&quot;NA&quot;</td><td>&quot;NA&quot;</td><td>&quot;NA&quot;</td><td>0</td><td>6</td><td>2010</td><td>&quot;WD&quot;</td><td>&quot;Normal&quot;</td><td>null</td></tr><tr><td>1465</td><td>&quot;120&quot;</td><td>&quot;RL&quot;</td><td>43.0</td><td>5005</td><td>&quot;Pave&quot;</td><td>&quot;NA&quot;</td><td>&quot;IR1&quot;</td><td>&quot;HLS&quot;</td><td>&quot;AllPub&quot;</td><td>&quot;Inside&quot;</td><td>&quot;Gtl&quot;</td><td>&quot;StoneBr&quot;</td><td>&quot;Norm&quot;</td><td>&quot;Norm&quot;</td><td>&quot;TwnhsE&quot;</td><td>&quot;1Story&quot;</td><td>8</td><td>5</td><td>1992</td><td>1992</td><td>&quot;Gable&quot;</td><td>&quot;CompShg&quot;</td><td>&quot;HdBoard&quot;</td><td>&quot;HdBoard&quot;</td><td>&quot;None&quot;</td><td>0.0</td><td>&quot;Gd&quot;</td><td>&quot;TA&quot;</td><td>&quot;PConc&quot;</td><td>&quot;Gd&quot;</td><td>&quot;TA&quot;</td><td>&quot;No&quot;</td><td>&quot;ALQ&quot;</td><td>263</td><td>&quot;Unf&quot;</td><td>0</td><td>&hellip;</td><td>0</td><td>0</td><td>1280</td><td>0</td><td>0</td><td>2</td><td>0</td><td>2</td><td>1</td><td>&quot;Gd&quot;</td><td>5</td><td>&quot;Typ&quot;</td><td>0</td><td>&quot;NA&quot;</td><td>&quot;Attchd&quot;</td><td>1992.0</td><td>&quot;RFn&quot;</td><td>2</td><td>506</td><td>&quot;TA&quot;</td><td>&quot;TA&quot;</td><td>&quot;Y&quot;</td><td>0</td><td>82</td><td>0</td><td>0</td><td>144</td><td>0</td><td>&quot;NA&quot;</td><td>&quot;NA&quot;</td><td>&quot;NA&quot;</td><td>0</td><td>1</td><td>2010</td><td>&quot;WD&quot;</td><td>&quot;Normal&quot;</td><td>null</td></tr><tr><td>&hellip;</td><td>&hellip;</td><td>&hellip;</td><td>&hellip;</td><td>&hellip;</td><td>&hellip;</td><td>&hellip;</td><td>&hellip;</td><td>&hellip;</td><td>&hellip;</td><td>&hellip;</td><td>&hellip;</td><td>&hellip;</td><td>&hellip;</td><td>&hellip;</td><td>&hellip;</td><td>&hellip;</td><td>&hellip;</td><td>&hellip;</td><td>&hellip;</td><td>&hellip;</td><td>&hellip;</td><td>&hellip;</td><td>&hellip;</td><td>&hellip;</td><td>&hellip;</td><td>&hellip;</td><td>&hellip;</td><td>&hellip;</td><td>&hellip;</td><td>&hellip;</td><td>&hellip;</td><td>&hellip;</td><td>&hellip;</td><td>&hellip;</td><td>&hellip;</td><td>&hellip;</td><td>&hellip;</td><td>&hellip;</td><td>&hellip;</td><td>&hellip;</td><td>&hellip;</td><td>&hellip;</td><td>&hellip;</td><td>&hellip;</td><td>&hellip;</td><td>&hellip;</td><td>&hellip;</td><td>&hellip;</td><td>&hellip;</td><td>&hellip;</td><td>&hellip;</td><td>&hellip;</td><td>&hellip;</td><td>&hellip;</td><td>&hellip;</td><td>&hellip;</td><td>&hellip;</td><td>&hellip;</td><td>&hellip;</td><td>&hellip;</td><td>&hellip;</td><td>&hellip;</td><td>&hellip;</td><td>&hellip;</td><td>&hellip;</td><td>&hellip;</td><td>&hellip;</td><td>&hellip;</td><td>&hellip;</td><td>&hellip;</td><td>&hellip;</td><td>&hellip;</td><td>&hellip;</td><td>&hellip;</td></tr><tr><td>2915</td><td>&quot;160&quot;</td><td>&quot;RM&quot;</td><td>21.0</td><td>1936</td><td>&quot;Pave&quot;</td><td>&quot;NA&quot;</td><td>&quot;Reg&quot;</td><td>&quot;Lvl&quot;</td><td>&quot;AllPub&quot;</td><td>&quot;Inside&quot;</td><td>&quot;Gtl&quot;</td><td>&quot;MeadowV&quot;</td><td>&quot;Norm&quot;</td><td>&quot;Norm&quot;</td><td>&quot;Twnhs&quot;</td><td>&quot;2Story&quot;</td><td>4</td><td>7</td><td>1970</td><td>1970</td><td>&quot;Gable&quot;</td><td>&quot;CompShg&quot;</td><td>&quot;CemntBd&quot;</td><td>&quot;CmentBd&quot;</td><td>&quot;None&quot;</td><td>0.0</td><td>&quot;TA&quot;</td><td>&quot;TA&quot;</td><td>&quot;CBlock&quot;</td><td>&quot;TA&quot;</td><td>&quot;TA&quot;</td><td>&quot;No&quot;</td><td>&quot;Unf&quot;</td><td>0</td><td>&quot;Unf&quot;</td><td>0</td><td>&hellip;</td><td>546</td><td>0</td><td>1092</td><td>0</td><td>0</td><td>1</td><td>1</td><td>3</td><td>1</td><td>&quot;TA&quot;</td><td>5</td><td>&quot;Typ&quot;</td><td>0</td><td>&quot;NA&quot;</td><td>&quot;NA&quot;</td><td>-1.0</td><td>&quot;NA&quot;</td><td>0</td><td>0</td><td>&quot;NA&quot;</td><td>&quot;NA&quot;</td><td>&quot;Y&quot;</td><td>0</td><td>0</td><td>0</td><td>0</td><td>0</td><td>0</td><td>&quot;NA&quot;</td><td>&quot;NA&quot;</td><td>&quot;NA&quot;</td><td>0</td><td>6</td><td>2006</td><td>&quot;WD&quot;</td><td>&quot;Normal&quot;</td><td>null</td></tr><tr><td>2916</td><td>&quot;160&quot;</td><td>&quot;RM&quot;</td><td>21.0</td><td>1894</td><td>&quot;Pave&quot;</td><td>&quot;NA&quot;</td><td>&quot;Reg&quot;</td><td>&quot;Lvl&quot;</td><td>&quot;AllPub&quot;</td><td>&quot;Inside&quot;</td><td>&quot;Gtl&quot;</td><td>&quot;MeadowV&quot;</td><td>&quot;Norm&quot;</td><td>&quot;Norm&quot;</td><td>&quot;TwnhsE&quot;</td><td>&quot;2Story&quot;</td><td>4</td><td>5</td><td>1970</td><td>1970</td><td>&quot;Gable&quot;</td><td>&quot;CompShg&quot;</td><td>&quot;CemntBd&quot;</td><td>&quot;CmentBd&quot;</td><td>&quot;None&quot;</td><td>0.0</td><td>&quot;TA&quot;</td><td>&quot;TA&quot;</td><td>&quot;CBlock&quot;</td><td>&quot;TA&quot;</td><td>&quot;TA&quot;</td><td>&quot;No&quot;</td><td>&quot;Rec&quot;</td><td>252</td><td>&quot;Unf&quot;</td><td>0</td><td>&hellip;</td><td>546</td><td>0</td><td>1092</td><td>0</td><td>0</td><td>1</td><td>1</td><td>3</td><td>1</td><td>&quot;TA&quot;</td><td>6</td><td>&quot;Typ&quot;</td><td>0</td><td>&quot;NA&quot;</td><td>&quot;CarPort&quot;</td><td>1970.0</td><td>&quot;Unf&quot;</td><td>1</td><td>286</td><td>&quot;TA&quot;</td><td>&quot;TA&quot;</td><td>&quot;Y&quot;</td><td>0</td><td>24</td><td>0</td><td>0</td><td>0</td><td>0</td><td>&quot;NA&quot;</td><td>&quot;NA&quot;</td><td>&quot;NA&quot;</td><td>0</td><td>4</td><td>2006</td><td>&quot;WD&quot;</td><td>&quot;Abnorml&quot;</td><td>null</td></tr><tr><td>2917</td><td>&quot;20&quot;</td><td>&quot;RL&quot;</td><td>160.0</td><td>20000</td><td>&quot;Pave&quot;</td><td>&quot;NA&quot;</td><td>&quot;Reg&quot;</td><td>&quot;Lvl&quot;</td><td>&quot;AllPub&quot;</td><td>&quot;Inside&quot;</td><td>&quot;Gtl&quot;</td><td>&quot;Mitchel&quot;</td><td>&quot;Norm&quot;</td><td>&quot;Norm&quot;</td><td>&quot;1Fam&quot;</td><td>&quot;1Story&quot;</td><td>5</td><td>7</td><td>1960</td><td>1996</td><td>&quot;Gable&quot;</td><td>&quot;CompShg&quot;</td><td>&quot;VinylSd&quot;</td><td>&quot;VinylSd&quot;</td><td>&quot;None&quot;</td><td>0.0</td><td>&quot;TA&quot;</td><td>&quot;TA&quot;</td><td>&quot;CBlock&quot;</td><td>&quot;TA&quot;</td><td>&quot;TA&quot;</td><td>&quot;No&quot;</td><td>&quot;ALQ&quot;</td><td>1224</td><td>&quot;Unf&quot;</td><td>0</td><td>&hellip;</td><td>0</td><td>0</td><td>1224</td><td>1</td><td>0</td><td>1</td><td>0</td><td>4</td><td>1</td><td>&quot;TA&quot;</td><td>7</td><td>&quot;Typ&quot;</td><td>1</td><td>&quot;TA&quot;</td><td>&quot;Detchd&quot;</td><td>1960.0</td><td>&quot;Unf&quot;</td><td>2</td><td>576</td><td>&quot;TA&quot;</td><td>&quot;TA&quot;</td><td>&quot;Y&quot;</td><td>474</td><td>0</td><td>0</td><td>0</td><td>0</td><td>0</td><td>&quot;NA&quot;</td><td>&quot;NA&quot;</td><td>&quot;NA&quot;</td><td>0</td><td>9</td><td>2006</td><td>&quot;WD&quot;</td><td>&quot;Abnorml&quot;</td><td>null</td></tr><tr><td>2918</td><td>&quot;85&quot;</td><td>&quot;RL&quot;</td><td>62.0</td><td>10441</td><td>&quot;Pave&quot;</td><td>&quot;NA&quot;</td><td>&quot;Reg&quot;</td><td>&quot;Lvl&quot;</td><td>&quot;AllPub&quot;</td><td>&quot;Inside&quot;</td><td>&quot;Gtl&quot;</td><td>&quot;Mitchel&quot;</td><td>&quot;Norm&quot;</td><td>&quot;Norm&quot;</td><td>&quot;1Fam&quot;</td><td>&quot;SFoyer&quot;</td><td>5</td><td>5</td><td>1992</td><td>1992</td><td>&quot;Gable&quot;</td><td>&quot;CompShg&quot;</td><td>&quot;HdBoard&quot;</td><td>&quot;Wd Shng&quot;</td><td>&quot;None&quot;</td><td>0.0</td><td>&quot;TA&quot;</td><td>&quot;TA&quot;</td><td>&quot;PConc&quot;</td><td>&quot;Gd&quot;</td><td>&quot;TA&quot;</td><td>&quot;Av&quot;</td><td>&quot;GLQ&quot;</td><td>337</td><td>&quot;Unf&quot;</td><td>0</td><td>&hellip;</td><td>0</td><td>0</td><td>970</td><td>0</td><td>1</td><td>1</td><td>0</td><td>3</td><td>1</td><td>&quot;TA&quot;</td><td>6</td><td>&quot;Typ&quot;</td><td>0</td><td>&quot;NA&quot;</td><td>&quot;NA&quot;</td><td>-1.0</td><td>&quot;NA&quot;</td><td>0</td><td>0</td><td>&quot;NA&quot;</td><td>&quot;NA&quot;</td><td>&quot;Y&quot;</td><td>80</td><td>32</td><td>0</td><td>0</td><td>0</td><td>0</td><td>&quot;NA&quot;</td><td>&quot;MnPrv&quot;</td><td>&quot;Shed&quot;</td><td>700</td><td>7</td><td>2006</td><td>&quot;WD&quot;</td><td>&quot;Normal&quot;</td><td>null</td></tr><tr><td>2919</td><td>&quot;60&quot;</td><td>&quot;RL&quot;</td><td>74.0</td><td>9627</td><td>&quot;Pave&quot;</td><td>&quot;NA&quot;</td><td>&quot;Reg&quot;</td><td>&quot;Lvl&quot;</td><td>&quot;AllPub&quot;</td><td>&quot;Inside&quot;</td><td>&quot;Mod&quot;</td><td>&quot;Mitchel&quot;</td><td>&quot;Norm&quot;</td><td>&quot;Norm&quot;</td><td>&quot;1Fam&quot;</td><td>&quot;2Story&quot;</td><td>7</td><td>5</td><td>1993</td><td>1994</td><td>&quot;Gable&quot;</td><td>&quot;CompShg&quot;</td><td>&quot;HdBoard&quot;</td><td>&quot;HdBoard&quot;</td><td>&quot;BrkFace&quot;</td><td>94.0</td><td>&quot;TA&quot;</td><td>&quot;TA&quot;</td><td>&quot;PConc&quot;</td><td>&quot;Gd&quot;</td><td>&quot;TA&quot;</td><td>&quot;Av&quot;</td><td>&quot;LwQ&quot;</td><td>758</td><td>&quot;Unf&quot;</td><td>0</td><td>&hellip;</td><td>1004</td><td>0</td><td>2000</td><td>0</td><td>0</td><td>2</td><td>1</td><td>3</td><td>1</td><td>&quot;TA&quot;</td><td>9</td><td>&quot;Typ&quot;</td><td>1</td><td>&quot;TA&quot;</td><td>&quot;Attchd&quot;</td><td>1993.0</td><td>&quot;Fin&quot;</td><td>3</td><td>650</td><td>&quot;TA&quot;</td><td>&quot;TA&quot;</td><td>&quot;Y&quot;</td><td>190</td><td>48</td><td>0</td><td>0</td><td>0</td><td>0</td><td>&quot;NA&quot;</td><td>&quot;NA&quot;</td><td>&quot;NA&quot;</td><td>0</td><td>11</td><td>2006</td><td>&quot;WD&quot;</td><td>&quot;Normal&quot;</td><td>null</td></tr></tbody></table></div>"
      ],
      "text/plain": [
       "shape: (1_459, 81)\n",
       "┌──────┬────────────┬──────────┬─────────────┬───┬────────┬──────────┬───────────────┬───────────┐\n",
       "│ Id   ┆ MSSubClass ┆ MSZoning ┆ LotFrontage ┆ … ┆ YrSold ┆ SaleType ┆ SaleCondition ┆ SalePrice │\n",
       "│ ---  ┆ ---        ┆ ---      ┆ ---         ┆   ┆ ---    ┆ ---      ┆ ---           ┆ ---       │\n",
       "│ i64  ┆ cat        ┆ cat      ┆ f64         ┆   ┆ i64    ┆ cat      ┆ cat           ┆ i64       │\n",
       "╞══════╪════════════╪══════════╪═════════════╪═══╪════════╪══════════╪═══════════════╪═══════════╡\n",
       "│ 1461 ┆ 20         ┆ RH       ┆ 80.0        ┆ … ┆ 2010   ┆ WD       ┆ Normal        ┆ null      │\n",
       "│ 1462 ┆ 20         ┆ RL       ┆ 81.0        ┆ … ┆ 2010   ┆ WD       ┆ Normal        ┆ null      │\n",
       "│ 1463 ┆ 60         ┆ RL       ┆ 74.0        ┆ … ┆ 2010   ┆ WD       ┆ Normal        ┆ null      │\n",
       "│ 1464 ┆ 60         ┆ RL       ┆ 78.0        ┆ … ┆ 2010   ┆ WD       ┆ Normal        ┆ null      │\n",
       "│ 1465 ┆ 120        ┆ RL       ┆ 43.0        ┆ … ┆ 2010   ┆ WD       ┆ Normal        ┆ null      │\n",
       "│ …    ┆ …          ┆ …        ┆ …           ┆ … ┆ …      ┆ …        ┆ …             ┆ …         │\n",
       "│ 2915 ┆ 160        ┆ RM       ┆ 21.0        ┆ … ┆ 2006   ┆ WD       ┆ Normal        ┆ null      │\n",
       "│ 2916 ┆ 160        ┆ RM       ┆ 21.0        ┆ … ┆ 2006   ┆ WD       ┆ Abnorml       ┆ null      │\n",
       "│ 2917 ┆ 20         ┆ RL       ┆ 160.0       ┆ … ┆ 2006   ┆ WD       ┆ Abnorml       ┆ null      │\n",
       "│ 2918 ┆ 85         ┆ RL       ┆ 62.0        ┆ … ┆ 2006   ┆ WD       ┆ Normal        ┆ null      │\n",
       "│ 2919 ┆ 60         ┆ RL       ┆ 74.0        ┆ … ┆ 2006   ┆ WD       ┆ Normal        ┆ null      │\n",
       "└──────┴────────────┴──────────┴─────────────┴───┴────────┴──────────┴───────────────┴───────────┘"
      ]
     },
     "execution_count": 32,
     "metadata": {},
     "output_type": "execute_result"
    }
   ],
   "source": [
    "test_df"
   ]
  },
  {
   "cell_type": "code",
   "execution_count": 34,
   "metadata": {},
   "outputs": [],
   "source": [
    "preds = model.predict(test_df.drop('Id', 'SalePrice'))"
   ]
  },
  {
   "cell_type": "code",
   "execution_count": 39,
   "metadata": {},
   "outputs": [
    {
     "data": {
      "text/html": [
       "<div><style>\n",
       ".dataframe > thead > tr,\n",
       ".dataframe > tbody > tr {\n",
       "  text-align: right;\n",
       "  white-space: pre-wrap;\n",
       "}\n",
       "</style>\n",
       "<small>shape: (1_459, 2)</small><table border=\"1\" class=\"dataframe\"><thead><tr><th>Id</th><th>SalePrice</th></tr><tr><td>i64</td><td>f64</td></tr></thead><tbody><tr><td>1461</td><td>169277.052498</td></tr><tr><td>1462</td><td>187758.393989</td></tr><tr><td>1463</td><td>183583.68357</td></tr><tr><td>1464</td><td>179317.477511</td></tr><tr><td>1465</td><td>150730.079977</td></tr><tr><td>&hellip;</td><td>&hellip;</td></tr><tr><td>2915</td><td>167081.220949</td></tr><tr><td>2916</td><td>164788.778231</td></tr><tr><td>2917</td><td>219222.4234</td></tr><tr><td>2918</td><td>184924.279659</td></tr><tr><td>2919</td><td>187741.866657</td></tr></tbody></table></div>"
      ],
      "text/plain": [
       "shape: (1_459, 2)\n",
       "┌──────┬───────────────┐\n",
       "│ Id   ┆ SalePrice     │\n",
       "│ ---  ┆ ---           │\n",
       "│ i64  ┆ f64           │\n",
       "╞══════╪═══════════════╡\n",
       "│ 1461 ┆ 169277.052498 │\n",
       "│ 1462 ┆ 187758.393989 │\n",
       "│ 1463 ┆ 183583.68357  │\n",
       "│ 1464 ┆ 179317.477511 │\n",
       "│ 1465 ┆ 150730.079977 │\n",
       "│ …    ┆ …             │\n",
       "│ 2915 ┆ 167081.220949 │\n",
       "│ 2916 ┆ 164788.778231 │\n",
       "│ 2917 ┆ 219222.4234   │\n",
       "│ 2918 ┆ 184924.279659 │\n",
       "│ 2919 ┆ 187741.866657 │\n",
       "└──────┴───────────────┘"
      ]
     },
     "execution_count": 39,
     "metadata": {},
     "output_type": "execute_result"
    }
   ],
   "source": [
    "pl.read_csv('sample_submission.csv')"
   ]
  },
  {
   "cell_type": "code",
   "execution_count": 37,
   "metadata": {},
   "outputs": [],
   "source": [
    "submission = pl.DataFrame({'Id': test_df['Id'], 'SalePrice': preds})"
   ]
  },
  {
   "cell_type": "code",
   "execution_count": 40,
   "metadata": {},
   "outputs": [],
   "source": [
    "submission.write_csv('submission.csv')"
   ]
  },
  {
   "cell_type": "code",
   "execution_count": 41,
   "metadata": {},
   "outputs": [
    {
     "name": "stdout",
     "output_type": "stream",
     "text": [
      "100%|██████████████████████████████████████| 33.6k/33.6k [00:01<00:00, 23.6kB/s]\n",
      "Successfully submitted to Housing Prices Competition for Kaggle Learn Users"
     ]
    }
   ],
   "source": [
    "!kaggle competitions submit -c home-data-for-ml-course -f submission.csv -m \"submission.csv file for home-data-for-ml-course competition\""
   ]
  },
  {
   "cell_type": "code",
   "execution_count": null,
   "metadata": {},
   "outputs": [],
   "source": []
  }
 ],
 "metadata": {
  "kernelspec": {
   "display_name": "jupyter-env-001",
   "language": "python",
   "name": "python3"
  },
  "language_info": {
   "codemirror_mode": {
    "name": "ipython",
    "version": 3
   },
   "file_extension": ".py",
   "mimetype": "text/x-python",
   "name": "python",
   "nbconvert_exporter": "python",
   "pygments_lexer": "ipython3",
   "version": "3.13.1"
  }
 },
 "nbformat": 4,
 "nbformat_minor": 2
}
