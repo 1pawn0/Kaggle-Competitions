{
 "cells": [
  {
   "cell_type": "code",
   "execution_count": 4,
   "id": "initial_id",
   "metadata": {
    "ExecuteTime": {
     "end_time": "2025-02-02T07:44:02.506585Z",
     "start_time": "2025-02-02T07:44:02.503171Z"
    },
    "collapsed": true
   },
   "outputs": [],
   "source": [
    "import numpy as np\n",
    "import matplotlib.pyplot as plt\n",
    "import polars as pl\n",
    "import sklearn\n",
    "import os, pathlib, shutil\n",
    "import kaggle, kagglehub\n"
   ]
  },
  {
   "cell_type": "markdown",
   "id": "ccd6ad6442af5daa",
   "metadata": {},
   "source": [
    "Download the competition\n"
   ]
  },
  {
   "cell_type": "code",
   "execution_count": 5,
   "id": "b0d64c6c136d930d",
   "metadata": {
    "ExecuteTime": {
     "end_time": "2025-02-02T08:13:04.536911Z",
     "start_time": "2025-02-02T08:13:02.692803Z"
    }
   },
   "outputs": [
    {
     "name": "stdout",
     "output_type": "stream",
     "text": [
      "['data_description.txt', 'sample_submission.csv', 'sample_submission.csv.gz', 'test.csv', 'test.csv.gz', 'train.csv', 'train.csv.gz']\n"
     ]
    },
    {
     "data": {
      "text/plain": [
       "'train.csv'"
      ]
     },
     "execution_count": 5,
     "metadata": {},
     "output_type": "execute_result"
    }
   ],
   "source": [
    "competition_name = \"home-data-for-ml-course\"  # Change this to the competition you want to download\n",
    "competition_path = pathlib.Path(\n",
    "    kagglehub.competition.competition_download(competition_name)\n",
    ")  # Downloads the competition\n",
    "competition_files: list = os.listdir(competition_path)  # List of the files included in the competition\n",
    "\n",
    "print(competition_files)\n",
    "\n",
    "# copy files to the current directory\n",
    "shutil.copyfile(competition_path / \"sample_submission.csv\", \"sample_submission.csv\")\n",
    "shutil.copyfile(competition_path / \"test.csv\", \"test.csv\")\n",
    "shutil.copyfile(competition_path / \"train.csv\", \"train.csv\")"
   ]
  },
  {
   "cell_type": "code",
   "execution_count": 42,
   "id": "fbbc972f1be2279a",
   "metadata": {
    "ExecuteTime": {
     "end_time": "2025-02-02T08:27:46.630352Z",
     "start_time": "2025-02-02T08:27:46.595751Z"
    }
   },
   "outputs": [
    {
     "name": "stdout",
     "output_type": "stream",
     "text": [
      "True\n"
     ]
    }
   ],
   "source": [
    "pl.Config.set_tbl_rows(20)\n",
    "train_df = pl.read_csv(competition_path / \"train.csv\", ignore_errors=True)\n",
    "test_df = pl.read_csv(competition_path / \"test.csv\", ignore_errors=True)\n",
    "sample_submission_df = pl.read_csv(competition_path / \"sample_submission.csv\")\n",
    "\n",
    "target_feature_name: str = (set(train_df.columns) - set(test_df.columns)).pop()\n",
    "target_col = train_df.get_column(target_feature_name)\n",
    "print(train_df.drop(target_feature_name).schema == test_df.schema)\n",
    "df = pl.concat([train_df, test_df.with_columns(pl.lit(-1).cast(pl.Int64).alias(target_feature_name))])"
   ]
  },
  {
   "cell_type": "markdown",
   "id": "526c63a5d8e25f82",
   "metadata": {},
   "source": [
    "### EDA\n"
   ]
  },
  {
   "cell_type": "code",
   "execution_count": 92,
   "id": "ca028d1b",
   "metadata": {},
   "outputs": [
    {
     "data": {
      "text/html": [
       "<div><style>\n",
       ".dataframe > thead > tr,\n",
       ".dataframe > tbody > tr {\n",
       "  text-align: right;\n",
       "  white-space: pre-wrap;\n",
       "}\n",
       "</style>\n",
       "<small>shape: (5, 2)</small><table border=\"1\" class=\"dataframe\"><thead><tr><th>Features</th><th>Correlation</th></tr><tr><td>str</td><td>f64</td></tr></thead><tbody><tr><td>&quot;OverallQual&quot;</td><td>0.790982</td></tr><tr><td>&quot;GrLivArea&quot;</td><td>0.708624</td></tr><tr><td>&quot;GarageCars&quot;</td><td>0.640409</td></tr><tr><td>&quot;GarageArea&quot;</td><td>0.623431</td></tr><tr><td>&quot;TotalBsmtSF&quot;</td><td>0.613581</td></tr></tbody></table></div>"
      ],
      "text/plain": [
       "shape: (5, 2)\n",
       "┌─────────────┬─────────────┐\n",
       "│ Features    ┆ Correlation │\n",
       "│ ---         ┆ ---         │\n",
       "│ str         ┆ f64         │\n",
       "╞═════════════╪═════════════╡\n",
       "│ OverallQual ┆ 0.790982    │\n",
       "│ GrLivArea   ┆ 0.708624    │\n",
       "│ GarageCars  ┆ 0.640409    │\n",
       "│ GarageArea  ┆ 0.623431    │\n",
       "│ TotalBsmtSF ┆ 0.613581    │\n",
       "└─────────────┴─────────────┘"
      ]
     },
     "execution_count": 92,
     "metadata": {},
     "output_type": "execute_result"
    }
   ],
   "source": [
    "numeric_cols_df = train_df.drop(\"Id\", \"SalePrice\").select(pl.selectors.numeric())\n",
    "pearson_correlations = (\n",
    "    numeric_cols_df.select(pl.corr(pl.col(\"*\"), target_col).abs())\n",
    "    .transpose(include_header=True, header_name=\"Features\")\n",
    "    .rename({\"column_0\": \"Correlation\"})\n",
    "    .sort(\"Correlation\", descending=True)\n",
    ")\n",
    "pearson_correlations.head()"
   ]
  },
  {
   "cell_type": "code",
   "execution_count": 93,
   "id": "a069df34",
   "metadata": {},
   "outputs": [
    {
     "data": {
      "text/html": [
       "<div><style>\n",
       ".dataframe > thead > tr,\n",
       ".dataframe > tbody > tr {\n",
       "  text-align: right;\n",
       "  white-space: pre-wrap;\n",
       "}\n",
       "</style>\n",
       "<small>shape: (5, 81)</small><table border=\"1\" class=\"dataframe\"><thead><tr><th>Id</th><th>OverallQual</th><th>GrLivArea</th><th>GarageCars</th><th>GarageArea</th><th>TotalBsmtSF</th><th>1stFlrSF</th><th>FullBath</th><th>TotRmsAbvGrd</th><th>YearBuilt</th><th>YearRemodAdd</th><th>MasVnrArea</th><th>Fireplaces</th><th>BsmtFinSF1</th><th>WoodDeckSF</th><th>2ndFlrSF</th><th>OpenPorchSF</th><th>HalfBath</th><th>LotArea</th><th>BsmtFullBath</th><th>BsmtUnfSF</th><th>BedroomAbvGr</th><th>KitchenAbvGr</th><th>EnclosedPorch</th><th>ScreenPorch</th><th>PoolArea</th><th>MSSubClass</th><th>OverallCond</th><th>MoSold</th><th>3SsnPorch</th><th>YrSold</th><th>LowQualFinSF</th><th>MiscVal</th><th>BsmtHalfBath</th><th>BsmtFinSF2</th><th>SalePrice</th><th>MSZoning</th><th>&hellip;</th><th>LandSlope</th><th>Neighborhood</th><th>Condition1</th><th>Condition2</th><th>BldgType</th><th>HouseStyle</th><th>RoofStyle</th><th>RoofMatl</th><th>Exterior1st</th><th>Exterior2nd</th><th>MasVnrType</th><th>ExterQual</th><th>ExterCond</th><th>Foundation</th><th>BsmtQual</th><th>BsmtCond</th><th>BsmtExposure</th><th>BsmtFinType1</th><th>BsmtFinType2</th><th>Heating</th><th>HeatingQC</th><th>CentralAir</th><th>Electrical</th><th>KitchenQual</th><th>Functional</th><th>FireplaceQu</th><th>GarageType</th><th>GarageYrBlt</th><th>GarageFinish</th><th>GarageQual</th><th>GarageCond</th><th>PavedDrive</th><th>PoolQC</th><th>Fence</th><th>MiscFeature</th><th>SaleType</th><th>SaleCondition</th></tr><tr><td>i64</td><td>i64</td><td>i64</td><td>i64</td><td>i64</td><td>i64</td><td>i64</td><td>i64</td><td>i64</td><td>i64</td><td>i64</td><td>i64</td><td>i64</td><td>i64</td><td>i64</td><td>i64</td><td>i64</td><td>i64</td><td>i64</td><td>i64</td><td>i64</td><td>i64</td><td>i64</td><td>i64</td><td>i64</td><td>i64</td><td>i64</td><td>i64</td><td>i64</td><td>i64</td><td>i64</td><td>i64</td><td>i64</td><td>i64</td><td>i64</td><td>i64</td><td>cat</td><td>&hellip;</td><td>cat</td><td>cat</td><td>cat</td><td>cat</td><td>cat</td><td>cat</td><td>cat</td><td>cat</td><td>cat</td><td>cat</td><td>cat</td><td>cat</td><td>cat</td><td>cat</td><td>cat</td><td>cat</td><td>cat</td><td>cat</td><td>cat</td><td>cat</td><td>cat</td><td>cat</td><td>cat</td><td>cat</td><td>cat</td><td>cat</td><td>cat</td><td>cat</td><td>cat</td><td>cat</td><td>cat</td><td>cat</td><td>cat</td><td>cat</td><td>cat</td><td>cat</td><td>cat</td></tr></thead><tbody><tr><td>1299</td><td>10</td><td>5642</td><td>2</td><td>1418</td><td>6110</td><td>4692</td><td>2</td><td>12</td><td>2008</td><td>2008</td><td>796</td><td>3</td><td>5644</td><td>214</td><td>950</td><td>292</td><td>1</td><td>63887</td><td>2</td><td>466</td><td>3</td><td>1</td><td>0</td><td>0</td><td>480</td><td>60</td><td>5</td><td>1</td><td>0</td><td>2008</td><td>0</td><td>0</td><td>0</td><td>0</td><td>160000</td><td>&quot;RL&quot;</td><td>&hellip;</td><td>&quot;Gtl&quot;</td><td>&quot;Edwards&quot;</td><td>&quot;Feedr&quot;</td><td>&quot;Norm&quot;</td><td>&quot;1Fam&quot;</td><td>&quot;2Story&quot;</td><td>&quot;Hip&quot;</td><td>&quot;ClyTile&quot;</td><td>&quot;Stucco&quot;</td><td>&quot;Stucco&quot;</td><td>&quot;Stone&quot;</td><td>&quot;Ex&quot;</td><td>&quot;TA&quot;</td><td>&quot;PConc&quot;</td><td>&quot;Ex&quot;</td><td>&quot;TA&quot;</td><td>&quot;Gd&quot;</td><td>&quot;GLQ&quot;</td><td>&quot;Unf&quot;</td><td>&quot;GasA&quot;</td><td>&quot;Ex&quot;</td><td>&quot;Y&quot;</td><td>&quot;SBrkr&quot;</td><td>&quot;Ex&quot;</td><td>&quot;Typ&quot;</td><td>&quot;Gd&quot;</td><td>&quot;Attchd&quot;</td><td>&quot;2008&quot;</td><td>&quot;Fin&quot;</td><td>&quot;TA&quot;</td><td>&quot;TA&quot;</td><td>&quot;Y&quot;</td><td>&quot;Gd&quot;</td><td>&quot;NA&quot;</td><td>&quot;NA&quot;</td><td>&quot;New&quot;</td><td>&quot;Partial&quot;</td></tr><tr><td>2550</td><td>10</td><td>5095</td><td>3</td><td>1154</td><td>5095</td><td>5095</td><td>2</td><td>15</td><td>2008</td><td>2009</td><td>1224</td><td>2</td><td>4010</td><td>546</td><td>0</td><td>484</td><td>1</td><td>39290</td><td>1</td><td>1085</td><td>2</td><td>1</td><td>0</td><td>0</td><td>0</td><td>20</td><td>5</td><td>10</td><td>0</td><td>2007</td><td>0</td><td>17000</td><td>1</td><td>0</td><td>-1</td><td>&quot;RL&quot;</td><td>&hellip;</td><td>&quot;Gtl&quot;</td><td>&quot;Edwards&quot;</td><td>&quot;Norm&quot;</td><td>&quot;Norm&quot;</td><td>&quot;1Fam&quot;</td><td>&quot;1Story&quot;</td><td>&quot;Hip&quot;</td><td>&quot;CompShg&quot;</td><td>&quot;CemntBd&quot;</td><td>&quot;CmentBd&quot;</td><td>&quot;Stone&quot;</td><td>&quot;Ex&quot;</td><td>&quot;TA&quot;</td><td>&quot;PConc&quot;</td><td>&quot;Ex&quot;</td><td>&quot;TA&quot;</td><td>&quot;Gd&quot;</td><td>&quot;GLQ&quot;</td><td>&quot;Unf&quot;</td><td>&quot;GasA&quot;</td><td>&quot;Ex&quot;</td><td>&quot;Y&quot;</td><td>&quot;SBrkr&quot;</td><td>&quot;Ex&quot;</td><td>&quot;Typ&quot;</td><td>&quot;Gd&quot;</td><td>&quot;Attchd&quot;</td><td>&quot;2008&quot;</td><td>&quot;Fin&quot;</td><td>&quot;TA&quot;</td><td>&quot;TA&quot;</td><td>&quot;Y&quot;</td><td>&quot;NA&quot;</td><td>&quot;NA&quot;</td><td>&quot;NA&quot;</td><td>&quot;New&quot;</td><td>&quot;Partial&quot;</td></tr><tr><td>524</td><td>10</td><td>4676</td><td>3</td><td>884</td><td>3138</td><td>3138</td><td>3</td><td>11</td><td>2007</td><td>2008</td><td>762</td><td>1</td><td>2260</td><td>208</td><td>1538</td><td>406</td><td>1</td><td>40094</td><td>1</td><td>878</td><td>3</td><td>1</td><td>0</td><td>0</td><td>0</td><td>60</td><td>5</td><td>10</td><td>0</td><td>2007</td><td>0</td><td>0</td><td>0</td><td>0</td><td>184750</td><td>&quot;RL&quot;</td><td>&hellip;</td><td>&quot;Gtl&quot;</td><td>&quot;Edwards&quot;</td><td>&quot;PosN&quot;</td><td>&quot;PosN&quot;</td><td>&quot;1Fam&quot;</td><td>&quot;2Story&quot;</td><td>&quot;Hip&quot;</td><td>&quot;CompShg&quot;</td><td>&quot;CemntBd&quot;</td><td>&quot;CmentBd&quot;</td><td>&quot;Stone&quot;</td><td>&quot;Ex&quot;</td><td>&quot;TA&quot;</td><td>&quot;PConc&quot;</td><td>&quot;Ex&quot;</td><td>&quot;TA&quot;</td><td>&quot;Gd&quot;</td><td>&quot;GLQ&quot;</td><td>&quot;Unf&quot;</td><td>&quot;GasA&quot;</td><td>&quot;Ex&quot;</td><td>&quot;Y&quot;</td><td>&quot;SBrkr&quot;</td><td>&quot;Ex&quot;</td><td>&quot;Typ&quot;</td><td>&quot;Gd&quot;</td><td>&quot;BuiltIn&quot;</td><td>&quot;2007&quot;</td><td>&quot;Fin&quot;</td><td>&quot;TA&quot;</td><td>&quot;TA&quot;</td><td>&quot;Y&quot;</td><td>&quot;NA&quot;</td><td>&quot;NA&quot;</td><td>&quot;NA&quot;</td><td>&quot;New&quot;</td><td>&quot;Partial&quot;</td></tr><tr><td>1183</td><td>10</td><td>4476</td><td>3</td><td>813</td><td>2396</td><td>2411</td><td>3</td><td>10</td><td>1996</td><td>1996</td><td>0</td><td>2</td><td>2096</td><td>171</td><td>2065</td><td>78</td><td>1</td><td>15623</td><td>1</td><td>300</td><td>4</td><td>1</td><td>0</td><td>0</td><td>555</td><td>60</td><td>5</td><td>7</td><td>0</td><td>2007</td><td>0</td><td>0</td><td>0</td><td>0</td><td>745000</td><td>&quot;RL&quot;</td><td>&hellip;</td><td>&quot;Gtl&quot;</td><td>&quot;NoRidge&quot;</td><td>&quot;Norm&quot;</td><td>&quot;Norm&quot;</td><td>&quot;1Fam&quot;</td><td>&quot;2Story&quot;</td><td>&quot;Hip&quot;</td><td>&quot;CompShg&quot;</td><td>&quot;Wd Sdng&quot;</td><td>&quot;ImStucc&quot;</td><td>&quot;None&quot;</td><td>&quot;Gd&quot;</td><td>&quot;TA&quot;</td><td>&quot;PConc&quot;</td><td>&quot;Ex&quot;</td><td>&quot;TA&quot;</td><td>&quot;Av&quot;</td><td>&quot;GLQ&quot;</td><td>&quot;Unf&quot;</td><td>&quot;GasA&quot;</td><td>&quot;Ex&quot;</td><td>&quot;Y&quot;</td><td>&quot;SBrkr&quot;</td><td>&quot;Ex&quot;</td><td>&quot;Typ&quot;</td><td>&quot;TA&quot;</td><td>&quot;Attchd&quot;</td><td>&quot;1996&quot;</td><td>&quot;Fin&quot;</td><td>&quot;TA&quot;</td><td>&quot;TA&quot;</td><td>&quot;Y&quot;</td><td>&quot;Ex&quot;</td><td>&quot;MnPrv&quot;</td><td>&quot;NA&quot;</td><td>&quot;WD&quot;</td><td>&quot;Abnorml&quot;</td></tr><tr><td>692</td><td>10</td><td>4316</td><td>3</td><td>832</td><td>2444</td><td>2444</td><td>3</td><td>10</td><td>1994</td><td>1995</td><td>1170</td><td>2</td><td>1455</td><td>382</td><td>1872</td><td>50</td><td>1</td><td>21535</td><td>0</td><td>989</td><td>4</td><td>1</td><td>0</td><td>0</td><td>0</td><td>60</td><td>6</td><td>1</td><td>0</td><td>2007</td><td>0</td><td>0</td><td>1</td><td>0</td><td>755000</td><td>&quot;RL&quot;</td><td>&hellip;</td><td>&quot;Gtl&quot;</td><td>&quot;NoRidge&quot;</td><td>&quot;Norm&quot;</td><td>&quot;Norm&quot;</td><td>&quot;1Fam&quot;</td><td>&quot;2Story&quot;</td><td>&quot;Gable&quot;</td><td>&quot;WdShngl&quot;</td><td>&quot;HdBoard&quot;</td><td>&quot;HdBoard&quot;</td><td>&quot;BrkFace&quot;</td><td>&quot;Ex&quot;</td><td>&quot;TA&quot;</td><td>&quot;PConc&quot;</td><td>&quot;Ex&quot;</td><td>&quot;TA&quot;</td><td>&quot;Gd&quot;</td><td>&quot;GLQ&quot;</td><td>&quot;Unf&quot;</td><td>&quot;GasA&quot;</td><td>&quot;Ex&quot;</td><td>&quot;Y&quot;</td><td>&quot;SBrkr&quot;</td><td>&quot;Ex&quot;</td><td>&quot;Typ&quot;</td><td>&quot;Ex&quot;</td><td>&quot;Attchd&quot;</td><td>&quot;1994&quot;</td><td>&quot;Fin&quot;</td><td>&quot;TA&quot;</td><td>&quot;TA&quot;</td><td>&quot;Y&quot;</td><td>&quot;NA&quot;</td><td>&quot;NA&quot;</td><td>&quot;NA&quot;</td><td>&quot;WD&quot;</td><td>&quot;Normal&quot;</td></tr></tbody></table></div>"
      ],
      "text/plain": [
       "shape: (5, 81)\n",
       "┌──────┬─────────────┬───────────┬────────────┬───┬───────┬─────────────┬──────────┬───────────────┐\n",
       "│ Id   ┆ OverallQual ┆ GrLivArea ┆ GarageCars ┆ … ┆ Fence ┆ MiscFeature ┆ SaleType ┆ SaleCondition │\n",
       "│ ---  ┆ ---         ┆ ---       ┆ ---        ┆   ┆ ---   ┆ ---         ┆ ---      ┆ ---           │\n",
       "│ i64  ┆ i64         ┆ i64       ┆ i64        ┆   ┆ cat   ┆ cat         ┆ cat      ┆ cat           │\n",
       "╞══════╪═════════════╪═══════════╪════════════╪═══╪═══════╪═════════════╪══════════╪═══════════════╡\n",
       "│ 1299 ┆ 10          ┆ 5642      ┆ 2          ┆ … ┆ NA    ┆ NA          ┆ New      ┆ Partial       │\n",
       "│ 2550 ┆ 10          ┆ 5095      ┆ 3          ┆ … ┆ NA    ┆ NA          ┆ New      ┆ Partial       │\n",
       "│ 524  ┆ 10          ┆ 4676      ┆ 3          ┆ … ┆ NA    ┆ NA          ┆ New      ┆ Partial       │\n",
       "│ 1183 ┆ 10          ┆ 4476      ┆ 3          ┆ … ┆ MnPrv ┆ NA          ┆ WD       ┆ Abnorml       │\n",
       "│ 692  ┆ 10          ┆ 4316      ┆ 3          ┆ … ┆ NA    ┆ NA          ┆ WD       ┆ Normal        │\n",
       "└──────┴─────────────┴───────────┴────────────┴───┴───────┴─────────────┴──────────┴───────────────┘"
      ]
     },
     "execution_count": 93,
     "metadata": {},
     "output_type": "execute_result"
    }
   ],
   "source": [
    "numeric_col_names_sorted = pearson_correlations.get_column(\"Features\").to_numpy()\n",
    "sorted_df = df.sort(by=[\"OverallQual\", \"GrLivArea\"], descending=True)\n",
    "numeric_cols_df = sorted_df.select(\"Id\", *numeric_col_names_sorted, \"SalePrice\")\n",
    "str_cols_df = sorted_df.select(pl.selectors.string()).cast(pl.Categorical)\n",
    "sorted_df = numeric_cols_df.hstack(str_cols_df)\n",
    "sorted_df.head()\n"
   ]
  },
  {
   "cell_type": "code",
   "execution_count": null,
   "id": "6df6bbe2",
   "metadata": {},
   "outputs": [],
   "source": []
  },
  {
   "cell_type": "code",
   "execution_count": null,
   "id": "8c1c9127",
   "metadata": {},
   "outputs": [],
   "source": []
  }
 ],
 "metadata": {
  "kernelspec": {
   "display_name": "jupyter-env-001",
   "language": "python",
   "name": "python3"
  },
  "language_info": {
   "codemirror_mode": {
    "name": "ipython",
    "version": 3
   },
   "file_extension": ".py",
   "mimetype": "text/x-python",
   "name": "python",
   "nbconvert_exporter": "python",
   "pygments_lexer": "ipython3",
   "version": "3.13.1"
  }
 },
 "nbformat": 4,
 "nbformat_minor": 5
}
