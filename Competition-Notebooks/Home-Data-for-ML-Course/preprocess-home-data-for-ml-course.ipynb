{
 "cells": [
  {
   "cell_type": "code",
   "execution_count": null,
   "id": "initial_id",
   "metadata": {
    "collapsed": true
   },
   "outputs": [],
   "source": [
    "import numpy as np\n",
    "import matplotlib.pyplot as plt\n",
    "import polars as pl\n",
    "import sklearn\n",
    "import os, pathlib, shutil\n",
    "import kaggle, kagglehub"
   ]
  },
  {
   "metadata": {},
   "cell_type": "markdown",
   "source": "Download the competition",
   "id": "ccd6ad6442af5daa"
  },
  {
   "metadata": {},
   "cell_type": "code",
   "outputs": [],
   "execution_count": null,
   "source": [
    "competition_name = 'home-data-for-ml-course'  # Change this to the competition you want to download\n",
    "competition_path = pathlib.Path(\n",
    "    kagglehub.competition.competition_download(competition_name))  # Downloads the competition\n",
    "competition_files: list = os.listdir(competition_path)  # List of the files included in the competition\n",
    "\n",
    "print(competition_files)\n",
    "\n",
    "# copy files to the current directory\n",
    "shutil.copyfile(competition_path / \"sample_submission.csv\", \"sample_submission.csv\")\n",
    "shutil.copyfile(competition_path / \"test.csv\", \"test.csv\")\n",
    "shutil.copyfile(competition_path / \"train.csv\", \"train.csv\")"
   ],
   "id": "b0d64c6c136d930d"
  }
 ],
 "metadata": {
  "kernelspec": {
   "display_name": "Python 3",
   "language": "python",
   "name": "python3"
  },
  "language_info": {
   "codemirror_mode": {
    "name": "ipython",
    "version": 2
   },
   "file_extension": ".py",
   "mimetype": "text/x-python",
   "name": "python",
   "nbconvert_exporter": "python",
   "pygments_lexer": "ipython2",
   "version": "2.7.6"
  }
 },
 "nbformat": 4,
 "nbformat_minor": 5
}
