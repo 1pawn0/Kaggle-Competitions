{
 "cells": [
  {
   "cell_type": "code",
   "execution_count": 56,
   "id": "initial_id",
   "metadata": {
    "ExecuteTime": {
     "end_time": "2025-02-02T07:44:02.506585Z",
     "start_time": "2025-02-02T07:44:02.503171Z"
    },
    "collapsed": true,
    "jupyter": {
     "outputs_hidden": true
    }
   },
   "outputs": [],
   "source": [
    "import numpy as np\n",
    "import matplotlib.pyplot as plt\n",
    "import polars as pl\n",
    "import sklearn\n",
    "import os, pathlib, shutil\n",
    "import kaggle, kagglehub\n"
   ]
  },
  {
   "cell_type": "markdown",
   "id": "ccd6ad6442af5daa",
   "metadata": {},
   "source": [
    "Download the competition\n"
   ]
  },
  {
   "cell_type": "code",
   "execution_count": 57,
   "id": "b0d64c6c136d930d",
   "metadata": {
    "ExecuteTime": {
     "end_time": "2025-02-02T08:13:04.536911Z",
     "start_time": "2025-02-02T08:13:02.692803Z"
    }
   },
   "outputs": [
    {
     "name": "stdout",
     "output_type": "stream",
     "text": [
      "['data_description.txt', 'sample_submission.csv', 'sample_submission.csv.gz', 'test.csv', 'test.csv.gz', 'train.csv', 'train.csv.gz']\n"
     ]
    },
    {
     "data": {
      "text/plain": [
       "'data_description.txt'"
      ]
     },
     "execution_count": 57,
     "metadata": {},
     "output_type": "execute_result"
    }
   ],
   "source": [
    "competition_name = \"home-data-for-ml-course\"  # Change this to the competition you want to download\n",
    "competition_path = pathlib.Path(\n",
    "    kagglehub.competition.competition_download(competition_name)\n",
    ")  # Downloads the competition\n",
    "competition_files: list = os.listdir(\n",
    "    competition_path\n",
    ")  # List of the files included in the competition\n",
    "\n",
    "print(competition_files)\n",
    "\n",
    "# copy files to the current directory\n",
    "shutil.copyfile(\n",
    "    competition_path / \"sample_submission.csv\", \"sample_submission.csv\"\n",
    ")\n",
    "shutil.copyfile(competition_path / \"test.csv\", \"test.csv\")\n",
    "shutil.copyfile(competition_path / \"train.csv\", \"train.csv\")\n",
    "shutil.copyfile(\n",
    "    competition_path / \"data_description.txt\", \"data_description.txt\"\n",
    ")"
   ]
  },
  {
   "cell_type": "markdown",
   "id": "ae5c927a",
   "metadata": {},
   "source": [
    "### Extract feature types according to the `data_description.txt` file"
   ]
  },
  {
   "cell_type": "code",
   "execution_count": 58,
   "id": "8566a35e",
   "metadata": {},
   "outputs": [
    {
     "name": "stdout",
     "output_type": "stream",
     "text": [
      "shape: (9, 2)\n",
      "┌────────────┬───────────┐\n",
      "│ statistic  ┆ value     │\n",
      "│ ---        ┆ ---       │\n",
      "│ str        ┆ f64       │\n",
      "╞════════════╪═══════════╡\n",
      "│ count      ┆ 2433.0    │\n",
      "│ null_count ┆ 486.0     │\n",
      "│ mean       ┆ 69.305795 │\n",
      "│ std        ┆ 23.344905 │\n",
      "│ min        ┆ 21.0      │\n",
      "│ 25%        ┆ 59.0      │\n",
      "│ 50%        ┆ 68.0      │\n",
      "│ 75%        ┆ 80.0      │\n",
      "│ max        ┆ 313.0     │\n",
      "└────────────┴───────────┘ shape: (9, 2)\n",
      "┌────────────┬─────────────┐\n",
      "│ statistic  ┆ value       │\n",
      "│ ---        ┆ ---         │\n",
      "│ str        ┆ f64         │\n",
      "╞════════════╪═════════════╡\n",
      "│ count      ┆ 2760.0      │\n",
      "│ null_count ┆ 159.0       │\n",
      "│ mean       ┆ 1978.113406 │\n",
      "│ std        ┆ 25.574285   │\n",
      "│ min        ┆ 1895.0      │\n",
      "│ 25%        ┆ 1960.0      │\n",
      "│ 50%        ┆ 1979.0      │\n",
      "│ 75%        ┆ 2002.0      │\n",
      "│ max        ┆ 2207.0      │\n",
      "└────────────┴─────────────┘ shape: (9, 2)\n",
      "┌────────────┬────────────┐\n",
      "│ statistic  ┆ value      │\n",
      "│ ---        ┆ ---        │\n",
      "│ str        ┆ f64        │\n",
      "╞════════════╪════════════╡\n",
      "│ count      ┆ 2896.0     │\n",
      "│ null_count ┆ 23.0       │\n",
      "│ mean       ┆ 102.201312 │\n",
      "│ std        ┆ 179.334253 │\n",
      "│ min        ┆ 0.0        │\n",
      "│ 25%        ┆ 0.0        │\n",
      "│ 50%        ┆ 0.0        │\n",
      "│ 75%        ┆ 164.0      │\n",
      "│ max        ┆ 1600.0     │\n",
      "└────────────┴────────────┘\n"
     ]
    }
   ],
   "source": [
    "# Define the schema for Polars DataFrame\n",
    "schema = {\n",
    "    \"Id\": pl.Int64,\n",
    "    \"LotFrontage\": pl.Float64,  # Missing values → float\n",
    "    \"LotArea\": pl.Int64,\n",
    "    \"MasVnrArea\": pl.Float64,  # Missing values → float\n",
    "    \"BsmtFinSF1\": pl.Int64,\n",
    "    \"BsmtFinSF2\": pl.Int64,\n",
    "    \"BsmtUnfSF\": pl.Int64,\n",
    "    \"TotalBsmtSF\": pl.Int64,\n",
    "    \"1stFlrSF\": pl.Int64,\n",
    "    \"2ndFlrSF\": pl.Int64,\n",
    "    \"LowQualFinSF\": pl.Int64,\n",
    "    \"GrLivArea\": pl.Int64,\n",
    "    \"BsmtFullBath\": pl.Int64,\n",
    "    \"BsmtHalfBath\": pl.Int64,\n",
    "    \"FullBath\": pl.Int64,\n",
    "    \"HalfBath\": pl.Int64,\n",
    "    \"BedroomAbvGr\": pl.Int64,\n",
    "    \"KitchenAbvGr\": pl.Int64,\n",
    "    \"TotRmsAbvGrd\": pl.Int64,\n",
    "    \"Fireplaces\": pl.Int64,\n",
    "    \"GarageYrBlt\": pl.Float64,  # Missing values → float\n",
    "    \"GarageCars\": pl.Int64,\n",
    "    \"GarageArea\": pl.Int64,\n",
    "    \"WoodDeckSF\": pl.Int64,\n",
    "    \"OpenPorchSF\": pl.Int64,\n",
    "    \"EnclosedPorch\": pl.Int64,\n",
    "    \"3SsnPorch\": pl.Int64,\n",
    "    \"ScreenPorch\": pl.Int64,\n",
    "    \"PoolArea\": pl.Int64,\n",
    "    \"MiscVal\": pl.Int64,\n",
    "    \"MoSold\": pl.Int64,\n",
    "    \"YrSold\": pl.Int64,\n",
    "    \"SalePrice\": pl.Int64,\n",
    "    # Ordinal Categorical Features\n",
    "    \"OverallQual\": pl.Int64,\n",
    "    \"OverallCond\": pl.Int64,\n",
    "    \"ExterQual\": pl.Categorical,\n",
    "    \"ExterCond\": pl.Categorical,\n",
    "    \"BsmtQual\": pl.Categorical,\n",
    "    \"BsmtCond\": pl.Categorical,\n",
    "    \"BsmtExposure\": pl.Categorical,\n",
    "    \"BsmtFinType1\": pl.Categorical,\n",
    "    \"BsmtFinType2\": pl.Categorical,\n",
    "    \"HeatingQC\": pl.Categorical,\n",
    "    \"KitchenQual\": pl.Categorical,\n",
    "    \"FireplaceQu\": pl.Categorical,\n",
    "    \"GarageFinish\": pl.Categorical,\n",
    "    \"GarageQual\": pl.Categorical,\n",
    "    \"GarageCond\": pl.Categorical,\n",
    "    \"PoolQC\": pl.Categorical,\n",
    "    \"Fence\": pl.Categorical,\n",
    "    \"Functional\": pl.Categorical,\n",
    "    # Binary Features\n",
    "    \"CentralAir\": pl.Categorical,\n",
    "    # Nominal Categorical Features\n",
    "    \"MSSubClass\": pl.Categorical,\n",
    "    \"MSZoning\": pl.Categorical,\n",
    "    \"Street\": pl.Categorical,\n",
    "    \"Alley\": pl.Categorical,\n",
    "    \"LotShape\": pl.Categorical,\n",
    "    \"LandContour\": pl.Categorical,\n",
    "    \"Utilities\": pl.Categorical,\n",
    "    \"LotConfig\": pl.Categorical,\n",
    "    \"LandSlope\": pl.Categorical,\n",
    "    \"Neighborhood\": pl.Categorical,\n",
    "    \"Condition1\": pl.Categorical,\n",
    "    \"Condition2\": pl.Categorical,\n",
    "    \"BldgType\": pl.Categorical,\n",
    "    \"HouseStyle\": pl.Categorical,\n",
    "    \"RoofStyle\": pl.Categorical,\n",
    "    \"RoofMatl\": pl.Categorical,\n",
    "    \"Exterior1st\": pl.Categorical,\n",
    "    \"Exterior2nd\": pl.Categorical,\n",
    "    \"MasVnrType\": pl.Categorical,\n",
    "    \"Foundation\": pl.Categorical,\n",
    "    \"Heating\": pl.Categorical,\n",
    "    \"Electrical\": pl.Categorical,\n",
    "    \"GarageType\": pl.Categorical,\n",
    "    \"PavedDrive\": pl.Categorical,\n",
    "    \"MiscFeature\": pl.Categorical,\n",
    "    \"SaleType\": pl.Categorical,\n",
    "    \"SaleCondition\": pl.Categorical,\n",
    "}\n",
    "# pl.enable_string_cache()\n",
    "# Load CSV with schema\n",
    "with pl.StringCache():\n",
    "    train_df = pl.read_csv(\n",
    "        \"train.csv\",\n",
    "        schema_overrides=schema,\n",
    "        infer_schema_length=None,\n",
    "        ignore_errors=True,\n",
    "    )\n",
    "    test_df = pl.read_csv(\n",
    "        \"test.csv\",\n",
    "        schema_overrides=schema,\n",
    "        infer_schema_length=None,\n",
    "        ignore_errors=True,\n",
    "    )\n",
    "split_num = train_df.height\n",
    "df = pl.concat(\n",
    "    [\n",
    "        train_df,\n",
    "        test_df.with_columns(pl.Series(\"SalePrice\", [None] * test_df.height)),\n",
    "    ]\n",
    ")\n",
    "print(df.get_column('LotFrontage').describe(),\n",
    "df.get_column('GarageYrBlt').describe(),\n",
    "df.get_column('MasVnrArea').describe()\n",
    ")\n"
   ]
  },
  {
   "cell_type": "code",
   "execution_count": 59,
   "id": "75220f56",
   "metadata": {},
   "outputs": [
    {
     "name": "stdout",
     "output_type": "stream",
     "text": [
      "shape: (9, 2)\n",
      "┌────────────┬───────────┐\n",
      "│ statistic  ┆ value     │\n",
      "│ ---        ┆ ---       │\n",
      "│ str        ┆ f64       │\n",
      "╞════════════╪═══════════╡\n",
      "│ count      ┆ 2919.0    │\n",
      "│ null_count ┆ 0.0       │\n",
      "│ mean       ┆ 57.766701 │\n",
      "│ std        ┆ 33.481636 │\n",
      "│ min        ┆ 0.0       │\n",
      "│ 25%        ┆ 43.0      │\n",
      "│ 50%        ┆ 63.0      │\n",
      "│ 75%        ┆ 78.0      │\n",
      "│ max        ┆ 313.0     │\n",
      "└────────────┴───────────┘ shape: (9, 2)\n",
      "┌────────────┬─────────────┐\n",
      "│ statistic  ┆ value       │\n",
      "│ ---        ┆ ---         │\n",
      "│ str        ┆ f64         │\n",
      "╞════════════╪═════════════╡\n",
      "│ count      ┆ 2919.0      │\n",
      "│ null_count ┆ 0.0         │\n",
      "│ mean       ┆ 1870.309695 │\n",
      "│ std        ┆ 449.912957  │\n",
      "│ min        ┆ -1.0        │\n",
      "│ 25%        ┆ 1957.0      │\n",
      "│ 50%        ┆ 1977.0      │\n",
      "│ 75%        ┆ 2001.0      │\n",
      "│ max        ┆ 2207.0      │\n",
      "└────────────┴─────────────┘ shape: (9, 2)\n",
      "┌────────────┬────────────┐\n",
      "│ statistic  ┆ value      │\n",
      "│ ---        ┆ ---        │\n",
      "│ str        ┆ f64        │\n",
      "╞════════════╪════════════╡\n",
      "│ count      ┆ 2919.0     │\n",
      "│ null_count ┆ 0.0        │\n",
      "│ mean       ┆ 101.396026 │\n",
      "│ std        ┆ 178.854579 │\n",
      "│ min        ┆ 0.0        │\n",
      "│ 25%        ┆ 0.0        │\n",
      "│ 50%        ┆ 0.0        │\n",
      "│ 75%        ┆ 164.0      │\n",
      "│ max        ┆ 1600.0     │\n",
      "└────────────┴────────────┘\n"
     ]
    }
   ],
   "source": [
    "df = df.with_columns(\n",
    "        [\n",
    "            pl.when(pl.col(\"MasVnrArea\").is_null())\n",
    "            .then(0)\n",
    "            .otherwise(pl.col(\"MasVnrArea\"))\n",
    "            .alias(\"MasVnrArea\"),\n",
    "            pl.when(pl.col(\"LotFrontage\").is_null())\n",
    "            .then(0)\n",
    "            .otherwise(pl.col(\"LotFrontage\"))\n",
    "            .alias(\"LotFrontage\"),\n",
    "            pl.when(pl.col(\"GarageYrBlt\").is_null())\n",
    "            .then(-1)\n",
    "            .otherwise(pl.col(\"GarageYrBlt\"))\n",
    "            .alias(\"GarageYrBlt\"),\n",
    "        ]\n",
    "    )\n",
    "print(df.get_column('LotFrontage').describe(),\n",
    "df.get_column('GarageYrBlt').describe(),\n",
    "df.get_column('MasVnrArea').describe()\n",
    ")"
   ]
  },
  {
   "cell_type": "code",
   "execution_count": 24,
   "id": "0e360ae7",
   "metadata": {},
   "outputs": [],
   "source": []
  },
  {
   "cell_type": "code",
   "execution_count": null,
   "id": "868078f2",
   "metadata": {},
   "outputs": [],
   "source": [
    "\n"
   ]
  },
  {
   "cell_type": "markdown",
   "id": "c4b9d433",
   "metadata": {},
   "source": [
    "### Compute pearson correlations"
   ]
  },
  {
   "cell_type": "code",
   "execution_count": 60,
   "id": "ca028d1b",
   "metadata": {},
   "outputs": [
    {
     "name": "stdout",
     "output_type": "stream",
     "text": [
      "shape: (5, 2)\n",
      "┌─────────────┬─────────────┐\n",
      "│ Features    ┆ Correlation │\n",
      "│ ---         ┆ ---         │\n",
      "│ str         ┆ f64         │\n",
      "╞═════════════╪═════════════╡\n",
      "│ OverallQual ┆ 0.790982    │\n",
      "│ GrLivArea   ┆ 0.708624    │\n",
      "│ GarageCars  ┆ 0.640409    │\n",
      "│ GarageArea  ┆ 0.623431    │\n",
      "│ TotalBsmtSF ┆ 0.613581    │\n",
      "└─────────────┴─────────────┘\n"
     ]
    }
   ],
   "source": [
    "numeric_cols_df = df.drop(\"Id\", \"SalePrice\").select(pl.selectors.numeric())\n",
    "pearson_correlations = (\n",
    "    numeric_cols_df.select(\n",
    "        pl.corr(pl.col(\"*\"), df.get_column(\"SalePrice\")).abs()\n",
    "    )\n",
    "    .transpose(include_header=True, header_name=\"Features\")\n",
    "    .rename({\"column_0\": \"Correlation\"})\n",
    "    .sort(\"Correlation\", descending=True)\n",
    ")\n",
    "print(pearson_correlations.head())"
   ]
  },
  {
   "cell_type": "code",
   "execution_count": 61,
   "id": "1a2993d8",
   "metadata": {},
   "outputs": [
    {
     "data": {
      "text/plain": [
       "{Categorical(ordering='physical'), Float64, Int64}"
      ]
     },
     "execution_count": 61,
     "metadata": {},
     "output_type": "execute_result"
    }
   ],
   "source": [
    "set(df.dtypes)"
   ]
  },
  {
   "cell_type": "code",
   "execution_count": 62,
   "id": "df28df74",
   "metadata": {},
   "outputs": [],
   "source": [
    "cat_cols_df = df.select(pl.selectors.categorical())\n",
    "num_cols_df = df.select(pl.selectors.numeric())"
   ]
  },
  {
   "cell_type": "code",
   "execution_count": 63,
   "id": "cc4639bb",
   "metadata": {},
   "outputs": [
    {
     "name": "stdout",
     "output_type": "stream",
     "text": [
      "['BsmtFinSF1', 1]\n",
      "['BsmtFinSF2', 1]\n",
      "['BsmtUnfSF', 1]\n",
      "['TotalBsmtSF', 1]\n",
      "['BsmtFullBath', 2]\n",
      "['BsmtHalfBath', 2]\n",
      "['GarageCars', 1]\n",
      "['GarageArea', 1]\n",
      "['SalePrice', 1459]\n"
     ]
    }
   ],
   "source": [
    "cat_cols_df_unique_vals = cat_cols_df.select(pl.all().n_unique()).to_numpy()\n",
    "df_null_count = df.select(pl.col(\"*\").null_count()).to_dicts()[0]\n",
    "features_null_count = [[k, v] for k, v in df_null_count.items() if v > 0]\n",
    "print(*features_null_count, sep=\"\\n\")\n",
    "null_included_feature_names = [i[0] for i in features_null_count]\n",
    "null_included_cols: pl.DataFrame = df.select(\"Id\").hstack(\n",
    "    df.select(null_included_feature_names).drop(\"SalePrice\")\n",
    ")"
   ]
  },
  {
   "cell_type": "code",
   "execution_count": 64,
   "id": "c2459e47",
   "metadata": {},
   "outputs": [],
   "source": [
    "train_df = df.limit(split_num)\n",
    "test_df = df.slice(split_num)"
   ]
  },
  {
   "cell_type": "code",
   "execution_count": 65,
   "id": "dea7514b",
   "metadata": {},
   "outputs": [],
   "source": [
    "train_df.write_parquet('train_df.parquet', statistics='full')\n",
    "test_df.write_parquet('test_df.parquet', statistics='full')"
   ]
  }
 ],
 "metadata": {
  "kernelspec": {
   "display_name": "jupyter-env-001",
   "language": "python",
   "name": "python3"
  },
  "language_info": {
   "codemirror_mode": {
    "name": "ipython",
    "version": 3
   },
   "file_extension": ".py",
   "mimetype": "text/x-python",
   "name": "python",
   "nbconvert_exporter": "python",
   "pygments_lexer": "ipython3",
   "version": "3.13.1"
  }
 },
 "nbformat": 4,
 "nbformat_minor": 5
}
