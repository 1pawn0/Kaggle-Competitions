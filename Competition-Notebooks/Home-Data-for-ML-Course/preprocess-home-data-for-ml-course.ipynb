{
 "cells": [
  {
   "cell_type": "code",
   "execution_count": 4,
   "id": "initial_id",
   "metadata": {
    "ExecuteTime": {
     "end_time": "2025-02-02T07:44:02.506585Z",
     "start_time": "2025-02-02T07:44:02.503171Z"
    },
    "collapsed": true
   },
   "outputs": [],
   "source": [
    "import numpy as np\n",
    "import matplotlib.pyplot as plt\n",
    "import polars as pl\n",
    "import sklearn\n",
    "import os, pathlib, shutil\n",
    "import kaggle, kagglehub\n"
   ]
  },
  {
   "cell_type": "markdown",
   "id": "ccd6ad6442af5daa",
   "metadata": {},
   "source": [
    "Download the competition\n"
   ]
  },
  {
   "cell_type": "code",
   "execution_count": 5,
   "id": "b0d64c6c136d930d",
   "metadata": {
    "ExecuteTime": {
     "end_time": "2025-02-02T08:13:04.536911Z",
     "start_time": "2025-02-02T08:13:02.692803Z"
    }
   },
   "outputs": [
    {
     "name": "stdout",
     "output_type": "stream",
     "text": [
      "['data_description.txt', 'sample_submission.csv', 'sample_submission.csv.gz', 'test.csv', 'test.csv.gz', 'train.csv', 'train.csv.gz']\n"
     ]
    },
    {
     "data": {
      "text/plain": [
       "'train.csv'"
      ]
     },
     "execution_count": 5,
     "metadata": {},
     "output_type": "execute_result"
    }
   ],
   "source": [
    "competition_name = \"home-data-for-ml-course\"  # Change this to the competition you want to download\n",
    "competition_path = pathlib.Path(\n",
    "    kagglehub.competition.competition_download(competition_name)\n",
    ")  # Downloads the competition\n",
    "competition_files: list = os.listdir(competition_path)  # List of the files included in the competition\n",
    "\n",
    "print(competition_files)\n",
    "\n",
    "# copy files to the current directory\n",
    "shutil.copyfile(competition_path / \"sample_submission.csv\", \"sample_submission.csv\")\n",
    "shutil.copyfile(competition_path / \"test.csv\", \"test.csv\")\n",
    "shutil.copyfile(competition_path / \"train.csv\", \"train.csv\")"
   ]
  },
  {
   "cell_type": "code",
   "execution_count": 10,
   "id": "fbbc972f1be2279a",
   "metadata": {
    "ExecuteTime": {
     "end_time": "2025-02-02T08:27:46.630352Z",
     "start_time": "2025-02-02T08:27:46.595751Z"
    }
   },
   "outputs": [
    {
     "name": "stdout",
     "output_type": "stream",
     "text": [
      "True\n"
     ]
    }
   ],
   "source": [
    "pl.Config.set_tbl_rows(50)\n",
    "train_df = pl.read_csv(competition_path / \"train.csv\", ignore_errors=True)\n",
    "test_df = pl.read_csv(competition_path / \"test.csv\", ignore_errors=True)\n",
    "sample_submission_df = pl.read_csv(competition_path / \"sample_submission.csv\")\n",
    "\n",
    "target_feature_name: str = (set(train_df.columns) - set(test_df.columns)).pop()\n",
    "target_col = train_df.get_column(target_feature_name)\n",
    "print(train_df.drop(target_feature_name).schema == test_df.schema)\n",
    "df = pl.concat([train_df.drop(target_feature_name), test_df])"
   ]
  },
  {
   "cell_type": "markdown",
   "id": "526c63a5d8e25f82",
   "metadata": {},
   "source": [
    "### EDA\n"
   ]
  },
  {
   "cell_type": "code",
   "execution_count": 12,
   "id": "ca028d1b",
   "metadata": {},
   "outputs": [
    {
     "name": "stdout",
     "output_type": "stream",
     "text": [
      "shape: (35, 2)\n",
      "┌───────────────┬──────────┐\n",
      "│ column        ┆ column_0 │\n",
      "│ ---           ┆ ---      │\n",
      "│ str           ┆ f64      │\n",
      "╞═══════════════╪══════════╡\n",
      "│ SalePrice     ┆ 1.0      │\n",
      "│ OverallQual   ┆ 0.790982 │\n",
      "│ GrLivArea     ┆ 0.708624 │\n",
      "│ GarageCars    ┆ 0.640409 │\n",
      "│ GarageArea    ┆ 0.623431 │\n",
      "│ TotalBsmtSF   ┆ 0.613581 │\n",
      "│ 1stFlrSF      ┆ 0.605852 │\n",
      "│ FullBath      ┆ 0.560664 │\n",
      "│ TotRmsAbvGrd  ┆ 0.533723 │\n",
      "│ YearBuilt     ┆ 0.522897 │\n",
      "│ YearRemodAdd  ┆ 0.507101 │\n",
      "│ MasVnrArea    ┆ 0.477493 │\n",
      "│ Fireplaces    ┆ 0.466929 │\n",
      "│ BsmtFinSF1    ┆ 0.38642  │\n",
      "│ WoodDeckSF    ┆ 0.324413 │\n",
      "│ 2ndFlrSF      ┆ 0.319334 │\n",
      "│ OpenPorchSF   ┆ 0.315856 │\n",
      "│ HalfBath      ┆ 0.284108 │\n",
      "│ LotArea       ┆ 0.263843 │\n",
      "│ BsmtFullBath  ┆ 0.227122 │\n",
      "│ BsmtUnfSF     ┆ 0.214479 │\n",
      "│ BedroomAbvGr  ┆ 0.168213 │\n",
      "│ KitchenAbvGr  ┆ 0.135907 │\n",
      "│ EnclosedPorch ┆ 0.128578 │\n",
      "│ ScreenPorch   ┆ 0.111447 │\n",
      "│ PoolArea      ┆ 0.092404 │\n",
      "│ MSSubClass    ┆ 0.084284 │\n",
      "│ OverallCond   ┆ 0.077856 │\n",
      "│ MoSold        ┆ 0.046432 │\n",
      "│ 3SsnPorch     ┆ 0.044584 │\n",
      "│ YrSold        ┆ 0.028923 │\n",
      "│ LowQualFinSF  ┆ 0.025606 │\n",
      "│ MiscVal       ┆ 0.02119  │\n",
      "│ BsmtHalfBath  ┆ 0.016844 │\n",
      "│ BsmtFinSF2    ┆ 0.011378 │\n",
      "└───────────────┴──────────┘\n"
     ]
    }
   ],
   "source": [
    "numeric_cols_df = train_df.drop(\"Id\").select(pl.selectors.numeric())\n",
    "pearson_correlations = (\n",
    "    numeric_cols_df.select(pl.corr(pl.col(\"*\"), target_feature_name).abs())\n",
    "    .transpose(include_header=True)\n",
    "    .sort(\"column_0\", descending=True)\n",
    ")\n",
    "print(pearson_correlations)"
   ]
  }
 ],
 "metadata": {
  "kernelspec": {
   "display_name": "jupyter-env-001",
   "language": "python",
   "name": "python3"
  },
  "language_info": {
   "codemirror_mode": {
    "name": "ipython",
    "version": 3
   },
   "file_extension": ".py",
   "mimetype": "text/x-python",
   "name": "python",
   "nbconvert_exporter": "python",
   "pygments_lexer": "ipython3",
   "version": "3.13.1"
  }
 },
 "nbformat": 4,
 "nbformat_minor": 5
}
