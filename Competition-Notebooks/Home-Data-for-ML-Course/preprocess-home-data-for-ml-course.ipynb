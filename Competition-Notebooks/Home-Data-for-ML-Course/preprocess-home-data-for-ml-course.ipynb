{
 "cells": [
  {
   "cell_type": "code",
   "execution_count": 1,
   "id": "initial_id",
   "metadata": {
    "ExecuteTime": {
     "end_time": "2025-02-02T07:44:02.506585Z",
     "start_time": "2025-02-02T07:44:02.503171Z"
    },
    "collapsed": true
   },
   "outputs": [],
   "source": [
    "import numpy as np\n",
    "import matplotlib.pyplot as plt\n",
    "import polars as pl\n",
    "import sklearn\n",
    "import os, pathlib, shutil\n",
    "import kaggle, kagglehub\n"
   ]
  },
  {
   "cell_type": "markdown",
   "id": "ccd6ad6442af5daa",
   "metadata": {},
   "source": [
    "Download the competition\n"
   ]
  },
  {
   "cell_type": "code",
   "execution_count": 2,
   "id": "b0d64c6c136d930d",
   "metadata": {
    "ExecuteTime": {
     "end_time": "2025-02-02T08:13:04.536911Z",
     "start_time": "2025-02-02T08:13:02.692803Z"
    }
   },
   "outputs": [
    {
     "name": "stdout",
     "output_type": "stream",
     "text": [
      "['data_description.txt', 'sample_submission.csv', 'sample_submission.csv.gz', 'test.csv', 'test.csv.gz', 'train.csv', 'train.csv.gz']\n"
     ]
    },
    {
     "data": {
      "text/plain": [
       "'train.csv'"
      ]
     },
     "execution_count": 2,
     "metadata": {},
     "output_type": "execute_result"
    }
   ],
   "source": [
    "competition_name = \"home-data-for-ml-course\"  # Change this to the competition you want to download\n",
    "competition_path = pathlib.Path(\n",
    "    kagglehub.competition.competition_download(competition_name)\n",
    ")  # Downloads the competition\n",
    "competition_files: list = os.listdir(competition_path)  # List of the files included in the competition\n",
    "\n",
    "print(competition_files)\n",
    "\n",
    "# copy files to the current directory\n",
    "shutil.copyfile(competition_path / \"sample_submission.csv\", \"sample_submission.csv\")\n",
    "shutil.copyfile(competition_path / \"test.csv\", \"test.csv\")\n",
    "shutil.copyfile(competition_path / \"train.csv\", \"train.csv\")"
   ]
  },
  {
   "cell_type": "code",
   "execution_count": 3,
   "id": "fbbc972f1be2279a",
   "metadata": {
    "ExecuteTime": {
     "end_time": "2025-02-02T08:27:46.630352Z",
     "start_time": "2025-02-02T08:27:46.595751Z"
    }
   },
   "outputs": [],
   "source": [
    "pl.Config.set_tbl_rows(50)\n",
    "train_df = pl.read_csv(competition_path / \"train.csv\", infer_schema_length=None)\n",
    "test_df = pl.read_csv(competition_path / \"test.csv\", infer_schema_length=None)\n",
    "sample_submission_df = pl.read_csv(competition_path / \"sample_submission.csv\")\n",
    "\n",
    "target_feature_name: str = (set(train_df.columns) - set(test_df.columns)).pop()\n",
    "target_col = train_df.select(pl.col(target_feature_name))\n",
    "# print(train_df.schema == test_df.schema)\n",
    "# df = pl.concat([train_df, test_df])"
   ]
  },
  {
   "cell_type": "markdown",
   "id": "526c63a5d8e25f82",
   "metadata": {},
   "source": [
    "### EDA\n"
   ]
  },
  {
   "cell_type": "code",
   "execution_count": 55,
   "id": "ca028d1b",
   "metadata": {},
   "outputs": [
    {
     "data": {
      "text/html": [
       "<div><style>\n",
       ".dataframe > thead > tr,\n",
       ".dataframe > tbody > tr {\n",
       "  text-align: right;\n",
       "  white-space: pre-wrap;\n",
       "}\n",
       "</style>\n",
       "<small>shape: (34, 2)</small><table border=\"1\" class=\"dataframe\"><thead><tr><th>column</th><th>column_0</th></tr><tr><td>str</td><td>f64</td></tr></thead><tbody><tr><td>&quot;SalePrice&quot;</td><td>1.0</td></tr><tr><td>&quot;OverallQual&quot;</td><td>0.790982</td></tr><tr><td>&quot;GrLivArea&quot;</td><td>0.708624</td></tr><tr><td>&quot;GarageCars&quot;</td><td>0.640409</td></tr><tr><td>&quot;GarageArea&quot;</td><td>0.623431</td></tr><tr><td>&hellip;</td><td>&hellip;</td></tr><tr><td>&quot;YrSold&quot;</td><td>0.028923</td></tr><tr><td>&quot;LowQualFinSF&quot;</td><td>0.025606</td></tr><tr><td>&quot;MiscVal&quot;</td><td>0.02119</td></tr><tr><td>&quot;BsmtHalfBath&quot;</td><td>0.016844</td></tr><tr><td>&quot;BsmtFinSF2&quot;</td><td>0.011378</td></tr></tbody></table></div>"
      ],
      "text/plain": [
       "shape: (34, 2)\n",
       "┌──────────────┬──────────┐\n",
       "│ column       ┆ column_0 │\n",
       "│ ---          ┆ ---      │\n",
       "│ str          ┆ f64      │\n",
       "╞══════════════╪══════════╡\n",
       "│ SalePrice    ┆ 1.0      │\n",
       "│ OverallQual  ┆ 0.790982 │\n",
       "│ GrLivArea    ┆ 0.708624 │\n",
       "│ GarageCars   ┆ 0.640409 │\n",
       "│ GarageArea   ┆ 0.623431 │\n",
       "│ …            ┆ …        │\n",
       "│ YrSold       ┆ 0.028923 │\n",
       "│ LowQualFinSF ┆ 0.025606 │\n",
       "│ MiscVal      ┆ 0.02119  │\n",
       "│ BsmtHalfBath ┆ 0.016844 │\n",
       "│ BsmtFinSF2   ┆ 0.011378 │\n",
       "└──────────────┴──────────┘"
      ]
     },
     "execution_count": 55,
     "metadata": {},
     "output_type": "execute_result"
    }
   ],
   "source": [
    "numeric_cols_df = train_df.drop(\"Id\").select(pl.selectors.numeric())\n",
    "numeric_cols_df.select(pl.corr(pl.col(\"*\"), target_feature_name).abs()).transpose(include_header=True).sort(\n",
    "    \"column_0\", descending=True\n",
    ")"
   ]
  }
 ],
 "metadata": {
  "kernelspec": {
   "display_name": "jupyter-env-001",
   "language": "python",
   "name": "python3"
  },
  "language_info": {
   "codemirror_mode": {
    "name": "ipython",
    "version": 3
   },
   "file_extension": ".py",
   "mimetype": "text/x-python",
   "name": "python",
   "nbconvert_exporter": "python",
   "pygments_lexer": "ipython3",
   "version": "3.13.1"
  }
 },
 "nbformat": 4,
 "nbformat_minor": 5
}
