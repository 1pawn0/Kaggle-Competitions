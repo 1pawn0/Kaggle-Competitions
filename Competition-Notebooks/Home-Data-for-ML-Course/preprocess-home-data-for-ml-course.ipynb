{
 "cells": [
  {
   "cell_type": "code",
   "execution_count": 171,
   "id": "initial_id",
   "metadata": {
    "ExecuteTime": {
     "end_time": "2025-02-02T07:44:02.506585Z",
     "start_time": "2025-02-02T07:44:02.503171Z"
    },
    "collapsed": true
   },
   "outputs": [],
   "source": [
    "import numpy as np\n",
    "import matplotlib.pyplot as plt\n",
    "import polars as pl\n",
    "import sklearn\n",
    "import os, pathlib, shutil\n",
    "import kaggle, kagglehub\n"
   ]
  },
  {
   "cell_type": "markdown",
   "id": "ccd6ad6442af5daa",
   "metadata": {},
   "source": [
    "Download the competition\n"
   ]
  },
  {
   "cell_type": "code",
   "execution_count": 172,
   "id": "b0d64c6c136d930d",
   "metadata": {
    "ExecuteTime": {
     "end_time": "2025-02-02T08:13:04.536911Z",
     "start_time": "2025-02-02T08:13:02.692803Z"
    }
   },
   "outputs": [
    {
     "name": "stdout",
     "output_type": "stream",
     "text": [
      "['data_description.txt', 'sample_submission.csv', 'sample_submission.csv.gz', 'test.csv', 'test.csv.gz', 'train.csv', 'train.csv.gz']\n"
     ]
    },
    {
     "data": {
      "text/plain": [
       "'data_description.txt'"
      ]
     },
     "execution_count": 172,
     "metadata": {},
     "output_type": "execute_result"
    }
   ],
   "source": [
    "competition_name = \"home-data-for-ml-course\"  # Change this to the competition you want to download\n",
    "competition_path = pathlib.Path(\n",
    "    kagglehub.competition.competition_download(competition_name)\n",
    ")  # Downloads the competition\n",
    "competition_files: list = os.listdir(competition_path)  # List of the files included in the competition\n",
    "\n",
    "print(competition_files)\n",
    "\n",
    "# copy files to the current directory\n",
    "shutil.copyfile(competition_path / \"sample_submission.csv\", \"sample_submission.csv\")\n",
    "shutil.copyfile(competition_path / \"test.csv\", \"test.csv\")\n",
    "shutil.copyfile(competition_path / \"train.csv\", \"train.csv\")\n",
    "shutil.copyfile(competition_path / \"data_description.txt\", \"data_description.txt\")"
   ]
  },
  {
   "cell_type": "code",
   "execution_count": 173,
   "id": "fbbc972f1be2279a",
   "metadata": {
    "ExecuteTime": {
     "end_time": "2025-02-02T08:27:46.630352Z",
     "start_time": "2025-02-02T08:27:46.595751Z"
    }
   },
   "outputs": [
    {
     "name": "stdout",
     "output_type": "stream",
     "text": [
      "True\n"
     ]
    }
   ],
   "source": [
    "pl.Config.set_tbl_rows(20)\n",
    "train_df = pl.read_csv(competition_path / \"train.csv\", ignore_errors=True)\n",
    "test_df = pl.read_csv(competition_path / \"test.csv\", ignore_errors=True)\n",
    "sample_submission_df = pl.read_csv(competition_path / \"sample_submission.csv\")\n",
    "\n",
    "target_feature_name: str = (set(train_df.columns) - set(test_df.columns)).pop()\n",
    "target_col = train_df.get_column(target_feature_name)\n",
    "print(train_df.drop(target_feature_name).schema == test_df.schema)\n",
    "df = pl.concat([train_df, test_df.with_columns(pl.lit(-1).cast(pl.Int64).alias(target_feature_name))])"
   ]
  },
  {
   "cell_type": "markdown",
   "id": "526c63a5d8e25f82",
   "metadata": {},
   "source": [
    "### EDA\n"
   ]
  },
  {
   "cell_type": "markdown",
   "id": "ae5c927a",
   "metadata": {},
   "source": [
    "### Extract feature types according to the `data_description.txt` file"
   ]
  },
  {
   "cell_type": "code",
   "execution_count": 174,
   "id": "1cec389d",
   "metadata": {},
   "outputs": [],
   "source": [
    "# Nominal Features (Categorical, Unordered)\n",
    "nominal_features = [\n",
    "    \"MSSubClass\",  # Coded type of dwelling (treated as categorical)\n",
    "    \"MSZoning\",\n",
    "    \"Street\",\n",
    "    \"Alley\",\n",
    "    \"LotShape\",\n",
    "    \"LandContour\",\n",
    "    \"Utilities\",\n",
    "    \"LotConfig\",\n",
    "    \"LandSlope\",\n",
    "    \"Neighborhood\",\n",
    "    \"Condition1\",\n",
    "    \"Condition2\",\n",
    "    \"BldgType\",\n",
    "    \"HouseStyle\",\n",
    "    \"RoofStyle\",\n",
    "    \"RoofMatl\",\n",
    "    \"Exterior1st\",\n",
    "    \"Exterior2nd\",\n",
    "    \"MasVnrType\",\n",
    "    \"Foundation\",\n",
    "    \"Heating\",\n",
    "    \"Electrical\",\n",
    "    \"GarageType\",\n",
    "    \"MiscFeature\",\n",
    "    \"SaleType\",\n",
    "    \"SaleCondition\",\n",
    "    \"PavedDrive\",  # Although it has 3 values (Y, P, N), we treat it as nominal here.\n",
    "]\n",
    "\n",
    "# Ordinal Features (Categorical, with inherent order)\n",
    "ordinal_features = [\n",
    "    \"OverallQual\",  # Quality ratings 10 to 1\n",
    "    \"OverallCond\",  # Condition ratings 10 to 1\n",
    "    \"ExterQual\",  # Exterior quality: Ex > Gd > TA > Fa > Po\n",
    "    \"ExterCond\",  # Exterior condition: Ex > Gd > TA > Fa > Po\n",
    "    \"BsmtQual\",  # Basement quality: Ex > Gd > TA > Fa > Po > NA\n",
    "    \"BsmtCond\",  # Basement condition: Ex > Gd > TA > Fa > Po > NA\n",
    "    \"BsmtExposure\",  # Basement exposure: Gd > Av > Mn > No > NA\n",
    "    \"BsmtFinType1\",  # Rating of basement finished area\n",
    "    \"BsmtFinType2\",  # Rating of basement finished area (if multiple)\n",
    "    \"HeatingQC\",  # Heating quality and condition: Ex > Gd > TA > Fa > Po\n",
    "    \"KitchenQual\",  # Kitchen quality: Ex > Gd > TA > Fa > Po\n",
    "    \"FireplaceQu\",  # Fireplace quality: Ex > Gd > TA > Fa > Po > NA\n",
    "    \"GarageFinish\",  # Interior finish of the garage: Fin > RFn > Unf > NA\n",
    "    \"GarageQual\",  # Garage quality: Ex > Gd > TA > Fa > Po > NA\n",
    "    \"GarageCond\",  # Garage condition: Ex > Gd > TA > Fa > Po > NA\n",
    "    \"PoolQC\",  # Pool quality: Ex > Gd > TA > Fa > NA\n",
    "    \"Fence\",  # Fence quality: GdPrv > MnPrv / GdWo > MnWw (quality ranking implied)\n",
    "    \"Functional\",  # Home functionality: Typ, Min1, Min2, Mod, Maj1, Maj2, Sev, Sal (ordered from best to worst)\n",
    "]\n",
    "\n",
    "# Binary Features (Exactly two distinct values)\n",
    "binary_features = [\n",
    "    \"CentralAir\"  # 'Y' or 'N'\n",
    "]\n",
    "\n",
    "# Numerical Features (Continuous or discrete numerical measurements)\n",
    "numerical_features = [\n",
    "    \"LotFrontage\",  # Linear feet of street connected to property\n",
    "    \"LotArea\",  # Lot size in square feet\n",
    "    \"MasVnrArea\",  # Masonry veneer area in square feet\n",
    "    \"BsmtFinSF1\",  # Type 1 finished basement square feet\n",
    "    \"BsmtFinSF2\",  # Type 2 finished basement square feet\n",
    "    \"BsmtUnfSF\",  # Unfinished basement square feet\n",
    "    \"TotalBsmtSF\",  # Total basement square feet\n",
    "    \"1stFlrSF\",  # First Floor square feet\n",
    "    \"2ndFlrSF\",  # Second Floor square feet\n",
    "    \"LowQualFinSF\",  # Low quality finished square feet\n",
    "    \"GrLivArea\",  # Above grade living area square feet\n",
    "    \"BsmtFullBath\",  # Number of basement full bathrooms\n",
    "    \"BsmtHalfBath\",  # Number of basement half bathrooms\n",
    "    \"FullBath\",  # Number of full bathrooms above grade\n",
    "    \"HalfBath\",  # Number of half baths above grade\n",
    "    \"Bedroom\",  # Number of bedrooms above grade\n",
    "    \"Kitchen\",  # Number of kitchens above grade\n",
    "    \"TotRmsAbvGrd\",  # Total rooms above grade\n",
    "    \"Fireplaces\",  # Number of fireplaces\n",
    "    \"GarageYrBlt\",  # Year garage was built\n",
    "    \"GarageCars\",  # Garage capacity (number of cars)\n",
    "    \"GarageArea\",  # Garage area in square feet\n",
    "    \"WoodDeckSF\",  # Wood deck area in square feet\n",
    "    \"OpenPorchSF\",  # Open porch area in square feet\n",
    "    \"EnclosedPorch\",  # Enclosed porch area in square feet\n",
    "    \"3SsnPorch\",  # Three season porch area in square feet\n",
    "    \"ScreenPorch\",  # Screen porch area in square feet\n",
    "    \"PoolArea\",  # Pool area in square feet\n",
    "    \"MiscVal\",  # Miscellaneous feature value\n",
    "    \"MoSold\",  # Month Sold\n",
    "    \"YrSold\",  # Year Sold\n",
    "]\n"
   ]
  },
  {
   "cell_type": "code",
   "execution_count": 175,
   "id": "8566a35e",
   "metadata": {},
   "outputs": [],
   "source": [
    "# Define the schema for Polars DataFrame\n",
    "schema = {\n",
    "    \"Id\": pl.Int64,\n",
    "    \"LotFrontage\": pl.Float64,  # Missing values → float\n",
    "    \"LotArea\": pl.Int64,\n",
    "    \"MasVnrArea\": pl.Float64,  # Missing values → float\n",
    "    \"BsmtFinSF1\": pl.Int64,\n",
    "    \"BsmtFinSF2\": pl.Int64,\n",
    "    \"BsmtUnfSF\": pl.Int64,\n",
    "    \"TotalBsmtSF\": pl.Int64,\n",
    "    \"1stFlrSF\": pl.Int64,\n",
    "    \"2ndFlrSF\": pl.Int64,\n",
    "    \"LowQualFinSF\": pl.Int64,\n",
    "    \"GrLivArea\": pl.Int64,\n",
    "    \"BsmtFullBath\": pl.Int64,\n",
    "    \"BsmtHalfBath\": pl.Int64,\n",
    "    \"FullBath\": pl.Int64,\n",
    "    \"HalfBath\": pl.Int64,\n",
    "    \"BedroomAbvGr\": pl.Int64,\n",
    "    \"KitchenAbvGr\": pl.Int64,\n",
    "    \"TotRmsAbvGrd\": pl.Int64,\n",
    "    \"Fireplaces\": pl.Int64,\n",
    "    \"GarageYrBlt\": pl.Float64,  # Missing values → float\n",
    "    \"GarageCars\": pl.Int64,\n",
    "    \"GarageArea\": pl.Int64,\n",
    "    \"WoodDeckSF\": pl.Int64,\n",
    "    \"OpenPorchSF\": pl.Int64,\n",
    "    \"EnclosedPorch\": pl.Int64,\n",
    "    \"3SsnPorch\": pl.Int64,\n",
    "    \"ScreenPorch\": pl.Int64,\n",
    "    \"PoolArea\": pl.Int64,\n",
    "    \"MiscVal\": pl.Int64,\n",
    "    \"MoSold\": pl.Int64,\n",
    "    \"YrSold\": pl.Int64,\n",
    "    \"SalePrice\": pl.Int64,\n",
    "    # Ordinal Categorical Features\n",
    "    \"OverallQual\": pl.Int64,\n",
    "    \"OverallCond\": pl.Int64,\n",
    "    \"ExterQual\": pl.Categorical,\n",
    "    \"ExterCond\": pl.Categorical,\n",
    "    \"BsmtQual\": pl.Categorical,\n",
    "    \"BsmtCond\": pl.Categorical,\n",
    "    \"BsmtExposure\": pl.Categorical,\n",
    "    \"BsmtFinType1\": pl.Categorical,\n",
    "    \"BsmtFinType2\": pl.Categorical,\n",
    "    \"HeatingQC\": pl.Categorical,\n",
    "    \"KitchenQual\": pl.Categorical,\n",
    "    \"FireplaceQu\": pl.Categorical,\n",
    "    \"GarageFinish\": pl.Categorical,\n",
    "    \"GarageQual\": pl.Categorical,\n",
    "    \"GarageCond\": pl.Categorical,\n",
    "    \"PoolQC\": pl.Categorical,\n",
    "    \"Fence\": pl.Categorical,\n",
    "    \"Functional\": pl.Categorical,\n",
    "    # Binary Features\n",
    "    \"CentralAir\": pl.Categorical,\n",
    "    # Nominal Categorical Features\n",
    "    \"MSSubClass\": pl.Categorical,\n",
    "    \"MSZoning\": pl.Categorical,\n",
    "    \"Street\": pl.Categorical,\n",
    "    \"Alley\": pl.Categorical,\n",
    "    \"LotShape\": pl.Categorical,\n",
    "    \"LandContour\": pl.Categorical,\n",
    "    \"Utilities\": pl.Categorical,\n",
    "    \"LotConfig\": pl.Categorical,\n",
    "    \"LandSlope\": pl.Categorical,\n",
    "    \"Neighborhood\": pl.Categorical,\n",
    "    \"Condition1\": pl.Categorical,\n",
    "    \"Condition2\": pl.Categorical,\n",
    "    \"BldgType\": pl.Categorical,\n",
    "    \"HouseStyle\": pl.Categorical,\n",
    "    \"RoofStyle\": pl.Categorical,\n",
    "    \"RoofMatl\": pl.Categorical,\n",
    "    \"Exterior1st\": pl.Categorical,\n",
    "    \"Exterior2nd\": pl.Categorical,\n",
    "    \"MasVnrType\": pl.Categorical,\n",
    "    \"Foundation\": pl.Categorical,\n",
    "    \"Heating\": pl.Categorical,\n",
    "    \"Electrical\": pl.Categorical,\n",
    "    \"GarageType\": pl.Categorical,\n",
    "    \"PavedDrive\": pl.Categorical,\n",
    "    \"MiscFeature\": pl.Categorical,\n",
    "    \"SaleType\": pl.Categorical,\n",
    "    \"SaleCondition\": pl.Categorical,\n",
    "}\n",
    "# pl.enable_string_cache()\n",
    "# Load CSV with schema\n",
    "with pl.StringCache():\n",
    "    train_df = pl.read_csv(\"train.csv\", schema_overrides=schema, infer_schema_length=None, ignore_errors=True)\n",
    "    test_df = pl.read_csv(\"test.csv\", schema_overrides=schema, infer_schema_length=None, ignore_errors=True)\n",
    "\n",
    "df = pl.concat([train_df, test_df.with_columns(pl.Series(\"SalePrice\", [None] * test_df.height))])"
   ]
  },
  {
   "cell_type": "code",
   "execution_count": 176,
   "id": "c7070769",
   "metadata": {},
   "outputs": [],
   "source": [
    "df.write_parquet(\"train_test_merged_df_bak.parquet\", statistics=\"full\")"
   ]
  },
  {
   "cell_type": "code",
   "execution_count": null,
   "id": "27652d71",
   "metadata": {},
   "outputs": [],
   "source": []
  },
  {
   "cell_type": "code",
   "execution_count": null,
   "id": "868078f2",
   "metadata": {},
   "outputs": [],
   "source": [
    "\n"
   ]
  },
  {
   "cell_type": "markdown",
   "id": "c4b9d433",
   "metadata": {},
   "source": [
    "### Compute pearson correlations"
   ]
  },
  {
   "cell_type": "code",
   "execution_count": 177,
   "id": "ca028d1b",
   "metadata": {},
   "outputs": [
    {
     "name": "stdout",
     "output_type": "stream",
     "text": [
      "shape: (5, 2)\n",
      "┌─────────────┬─────────────┐\n",
      "│ Features    ┆ Correlation │\n",
      "│ ---         ┆ ---         │\n",
      "│ str         ┆ f64         │\n",
      "╞═════════════╪═════════════╡\n",
      "│ OverallQual ┆ 0.790982    │\n",
      "│ GrLivArea   ┆ 0.708624    │\n",
      "│ GarageCars  ┆ 0.640409    │\n",
      "│ GarageArea  ┆ 0.623431    │\n",
      "│ TotalBsmtSF ┆ 0.613581    │\n",
      "└─────────────┴─────────────┘\n"
     ]
    }
   ],
   "source": [
    "numeric_cols_df = train_df.drop(\"Id\", \"SalePrice\").select(pl.selectors.numeric())\n",
    "pearson_correlations = (\n",
    "    numeric_cols_df.select(pl.corr(pl.col(\"*\"), target_col).abs())\n",
    "    .transpose(include_header=True, header_name=\"Features\")\n",
    "    .rename({\"column_0\": \"Correlation\"})\n",
    "    .sort(\"Correlation\", descending=True)\n",
    ")\n",
    "print(pearson_correlations.head())"
   ]
  },
  {
   "cell_type": "code",
   "execution_count": null,
   "id": "1a2993d8",
   "metadata": {},
   "outputs": [],
   "source": []
  }
 ],
 "metadata": {
  "kernelspec": {
   "display_name": "jupyter-env-001",
   "language": "python",
   "name": "python3"
  },
  "language_info": {
   "codemirror_mode": {
    "name": "ipython",
    "version": 3
   },
   "file_extension": ".py",
   "mimetype": "text/x-python",
   "name": "python",
   "nbconvert_exporter": "python",
   "pygments_lexer": "ipython3",
   "version": "3.13.1"
  }
 },
 "nbformat": 4,
 "nbformat_minor": 5
}
