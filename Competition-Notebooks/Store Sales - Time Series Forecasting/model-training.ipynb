{
 "cells": [
  {
   "cell_type": "code",
   "execution_count": null,
   "id": "initial_id",
   "metadata": {
    "ExecuteTime": {
     "end_time": "2025-02-02T06:08:14.766915Z",
     "start_time": "2025-02-02T06:08:10.972366Z"
    },
    "collapsed": true
   },
   "outputs": [],
   "source": [
    "import numpy as np\n",
    "import matplotlib.pyplot as plt\n",
    "import polars as pl\n",
    "import sklearn\n",
    "import tensorflow as tf\n",
    "import os, pathlib, shutil\n",
    "import kaggle, kagglehub"
   ]
  },
  {
   "cell_type": "markdown",
   "id": "332a4db4bb703473",
   "metadata": {},
   "source": [
    "### Read Parquet Data\n"
   ]
  },
  {
   "cell_type": "code",
   "execution_count": null,
   "id": "870fe43f",
   "metadata": {},
   "outputs": [],
   "source": []
  }
 ],
 "metadata": {
  "kernelspec": {
   "display_name": "jupyter-env-002",
   "language": "python",
   "name": "python3"
  },
  "language_info": {
   "codemirror_mode": {
    "name": "ipython",
    "version": 3
   },
   "file_extension": ".py",
   "mimetype": "text/x-python",
   "name": "python",
   "nbconvert_exporter": "python",
   "pygments_lexer": "ipython3",
   "version": "3.13.1"
  }
 },
 "nbformat": 4,
 "nbformat_minor": 5
}
