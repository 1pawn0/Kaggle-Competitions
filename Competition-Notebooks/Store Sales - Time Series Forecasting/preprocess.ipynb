{
 "cells": [
  {
   "cell_type": "code",
   "execution_count": 1,
   "id": "initial_id",
   "metadata": {
    "ExecuteTime": {
     "end_time": "2025-02-02T06:08:14.766915Z",
     "start_time": "2025-02-02T06:08:10.972366Z"
    },
    "collapsed": true
   },
   "outputs": [
    {
     "name": "stdout",
     "output_type": "stream",
     "text": [
      "python 3.13.1\n",
      "numpy 2.2.2\n",
      "polars 1.21.0\n",
      "scikit-learn 1.6.1\n"
     ]
    }
   ],
   "source": [
    "import numpy as np\n",
    "import matplotlib.pyplot as plt\n",
    "import polars as pl\n",
    "import sklearn\n",
    "import os, pathlib, shutil, sys\n",
    "import kaggle, kagglehub\n",
    "\n",
    "print(\n",
    "    \"python \" + sys.version.split()[0],\n",
    "    \"numpy \" + np.__version__,\n",
    "    \"polars \" + pl.__version__,\n",
    "    \"scikit-learn \" + sklearn.__version__,\n",
    "    sep=\"\\n\",\n",
    ")"
   ]
  },
  {
   "cell_type": "markdown",
   "id": "332a4db4bb703473",
   "metadata": {},
   "source": [
    "### Downloading the competition"
   ]
  },
  {
   "cell_type": "code",
   "execution_count": 2,
   "id": "ba62f517427262cd",
   "metadata": {
    "ExecuteTime": {
     "end_time": "2025-01-27T06:32:20.036380Z",
     "start_time": "2025-01-27T06:32:13.741759Z"
    }
   },
   "outputs": [
    {
     "name": "stdout",
     "output_type": "stream",
     "text": [
      "['holidays_events.csv', 'oil.csv', 'sample_submission.csv', 'stores.csv', 'test.csv', 'train.csv', 'transactions.csv']\n"
     ]
    },
    {
     "data": {
      "text/plain": [
       "'./data'"
      ]
     },
     "execution_count": 2,
     "metadata": {},
     "output_type": "execute_result"
    }
   ],
   "source": [
    "competition_name = \"store-sales-time-series-forecasting\"\n",
    "competition_path = pathlib.Path(\n",
    "    kagglehub.competition.competition_download(competition_name)\n",
    ")\n",
    "competition_files: list = os.listdir(competition_path)\n",
    "\n",
    "print(competition_files)\n",
    "\n",
    "shutil.copytree(competition_path, \"./data\", dirs_exist_ok=True)"
   ]
  },
  {
   "cell_type": "markdown",
   "id": "1e1d399d",
   "metadata": {},
   "source": [
    "Load all csv files of the competition into polars dataframes"
   ]
  },
  {
   "cell_type": "code",
   "execution_count": 3,
   "id": "933b0dac",
   "metadata": {},
   "outputs": [],
   "source": [
    "# Load the csv files `['holidays_events.csv', 'oil.csv', 'sample_submission.csv', 'stores.csv', 'test.csv', 'train.csv', 'transactions.csv']` into polars dataframes\n",
    "train_df = pl.read_csv(\"./data/train.csv\")\n",
    "test_df = pl.read_csv(\"./data/test.csv\")\n",
    "sample_submission_df = pl.read_csv(\"./data/sample_submission.csv\")\n",
    "holidays_events_df = pl.read_csv(\"./data/holidays_events.csv\")\n",
    "oil_df = pl.read_csv(\"./data/oil.csv\")\n",
    "stores_df = pl.read_csv(\"./data/stores.csv\")\n",
    "transactions_df = pl.read_csv(\"./data/transactions.csv\")\n"
   ]
  },
  {
   "cell_type": "markdown",
   "id": "4f4db335",
   "metadata": {},
   "source": [
    "Cast the dtype of date cols to `pl.Date`"
   ]
  },
  {
   "cell_type": "code",
   "execution_count": 4,
   "id": "ad9f55d4",
   "metadata": {},
   "outputs": [],
   "source": [
    "# date included dfs list:\n",
    "dfs: list[pl.DataFrame] = [\n",
    "    train_df,\n",
    "    test_df,\n",
    "    holidays_events_df,\n",
    "    oil_df,\n",
    "    transactions_df,\n",
    "]\n",
    "dfs = [df.with_columns(pl.col(\"date\").cast(pl.Date)) for df in dfs]\n",
    "train_df, test_df, holidays_events_df, oil_df, transactions_df = dfs"
   ]
  },
  {
   "cell_type": "code",
   "execution_count": 5,
   "id": "bd3eacad",
   "metadata": {},
   "outputs": [
    {
     "name": "stdout",
     "output_type": "stream",
     "text": [
      "train_df unique values: \n",
      " shape: (1, 6)\n",
      "┌─────────┬──────┬───────────┬────────┬────────┬─────────────┐\n",
      "│ id      ┆ date ┆ store_nbr ┆ family ┆ sales  ┆ onpromotion │\n",
      "│ ---     ┆ ---  ┆ ---       ┆ ---    ┆ ---    ┆ ---         │\n",
      "│ u32     ┆ u32  ┆ u32       ┆ u32    ┆ u32    ┆ u32         │\n",
      "╞═════════╪══════╪═══════════╪════════╪════════╪═════════════╡\n",
      "│ 3000888 ┆ 1684 ┆ 54        ┆ 33     ┆ 379610 ┆ 362         │\n",
      "└─────────┴──────┴───────────┴────────┴────────┴─────────────┘\n",
      "test_df unique values: \n",
      " shape: (1, 5)\n",
      "┌───────┬──────┬───────────┬────────┬─────────────┐\n",
      "│ id    ┆ date ┆ store_nbr ┆ family ┆ onpromotion │\n",
      "│ ---   ┆ ---  ┆ ---       ┆ ---    ┆ ---         │\n",
      "│ u32   ┆ u32  ┆ u32       ┆ u32    ┆ u32         │\n",
      "╞═══════╪══════╪═══════════╪════════╪═════════════╡\n",
      "│ 28512 ┆ 16   ┆ 54        ┆ 33     ┆ 212         │\n",
      "└───────┴──────┴───────────┴────────┴─────────────┘\n",
      "holidays_events_df unique values: \n",
      " shape: (1, 6)\n",
      "┌──────┬──────┬────────┬─────────────┬─────────────┬─────────────┐\n",
      "│ date ┆ type ┆ locale ┆ locale_name ┆ description ┆ transferred │\n",
      "│ ---  ┆ ---  ┆ ---    ┆ ---         ┆ ---         ┆ ---         │\n",
      "│ u32  ┆ u32  ┆ u32    ┆ u32         ┆ u32         ┆ u32         │\n",
      "╞══════╪══════╪════════╪═════════════╪═════════════╪═════════════╡\n",
      "│ 312  ┆ 6    ┆ 3      ┆ 24          ┆ 103         ┆ 2           │\n",
      "└──────┴──────┴────────┴─────────────┴─────────────┴─────────────┘\n",
      "oil_df unique values: \n",
      " shape: (1, 2)\n",
      "┌──────┬────────────┐\n",
      "│ date ┆ dcoilwtico │\n",
      "│ ---  ┆ ---        │\n",
      "│ u32  ┆ u32        │\n",
      "╞══════╪════════════╡\n",
      "│ 1218 ┆ 999        │\n",
      "└──────┴────────────┘\n",
      "transactions_df unique values: \n",
      " shape: (1, 3)\n",
      "┌──────┬───────────┬──────────────┐\n",
      "│ date ┆ store_nbr ┆ transactions │\n",
      "│ ---  ┆ ---       ┆ ---          │\n",
      "│ u32  ┆ u32       ┆ u32          │\n",
      "╞══════╪═══════════╪══════════════╡\n",
      "│ 1682 ┆ 54        ┆ 4993         │\n",
      "└──────┴───────────┴──────────────┘\n",
      "stores_df unique values: \n",
      " shape: (1, 5)\n",
      "┌───────────┬──────┬───────┬──────┬─────────┐\n",
      "│ store_nbr ┆ city ┆ state ┆ type ┆ cluster │\n",
      "│ ---       ┆ ---  ┆ ---   ┆ ---  ┆ ---     │\n",
      "│ u32       ┆ u32  ┆ u32   ┆ u32  ┆ u32     │\n",
      "╞═══════════╪══════╪═══════╪══════╪═════════╡\n",
      "│ 54        ┆ 22   ┆ 16    ┆ 5    ┆ 17      │\n",
      "└───────────┴──────┴───────┴──────┴─────────┘\n"
     ]
    }
   ],
   "source": [
    "# number of unique values\n",
    "print(\"train_df unique values: \\n\", train_df.select(pl.col(\"*\").n_unique()))\n",
    "print(\"test_df unique values: \\n\", test_df.select(pl.col(\"*\").n_unique()))\n",
    "print(\n",
    "    \"holidays_events_df unique values: \\n\",\n",
    "    holidays_events_df.select(pl.col(\"*\").n_unique()),\n",
    ")\n",
    "print(\"oil_df unique values: \\n\", oil_df.select(pl.col(\"*\").n_unique()))\n",
    "print(\n",
    "    \"transactions_df unique values: \\n\",\n",
    "    transactions_df.select(pl.col(\"*\").n_unique()),\n",
    ")\n",
    "print(\"stores_df unique values: \\n\", stores_df.select(pl.col(\"*\").n_unique()))\n"
   ]
  },
  {
   "cell_type": "code",
   "execution_count": 6,
   "id": "e664c726",
   "metadata": {},
   "outputs": [
    {
     "name": "stdout",
     "output_type": "stream",
     "text": [
      "Rows: 3000888\n",
      "Columns: 6\n",
      "$ id           <i64> \n",
      "$ date        <date> \n",
      "$ store_nbr    <i64> \n",
      "$ family       <str> \n",
      "$ sales        <f64> \n",
      "$ onpromotion  <i64> \n",
      "\n",
      "Rows: 28512\n",
      "Columns: 5\n",
      "$ id           <i64> \n",
      "$ date        <date> \n",
      "$ store_nbr    <i64> \n",
      "$ family       <str> \n",
      "$ onpromotion  <i64> \n",
      "\n",
      "Rows: 350\n",
      "Columns: 6\n",
      "$ date        <date> \n",
      "$ type         <str> \n",
      "$ locale       <str> \n",
      "$ locale_name  <str> \n",
      "$ description  <str> \n",
      "$ transferred <bool> \n",
      "\n",
      "Rows: 1218\n",
      "Columns: 2\n",
      "$ date       <date> \n",
      "$ dcoilwtico  <f64> \n",
      "\n",
      "Rows: 83488\n",
      "Columns: 3\n",
      "$ date         <date> \n",
      "$ store_nbr     <i64> \n",
      "$ transactions  <i64> \n",
      "\n",
      "Rows: 54\n",
      "Columns: 5\n",
      "$ store_nbr <i64> \n",
      "$ city      <str> \n",
      "$ state     <str> \n",
      "$ type      <str> \n",
      "$ cluster   <i64> \n",
      "\n"
     ]
    },
    {
     "data": {
      "text/plain": [
       "[None, None, None, None, None, None]"
      ]
     },
     "execution_count": 6,
     "metadata": {},
     "output_type": "execute_result"
    }
   ],
   "source": [
    "all_dfs: list[pl.DataFrame] = [\n",
    "    train_df,\n",
    "    test_df,\n",
    "    holidays_events_df,\n",
    "    oil_df,\n",
    "    transactions_df,\n",
    "    stores_df,\n",
    "]\n",
    "\n",
    "[df.glimpse(max_items_per_column=0) for df in all_dfs]"
   ]
  },
  {
   "cell_type": "code",
   "execution_count": 36,
   "id": "99a8a8e5",
   "metadata": {},
   "outputs": [
    {
     "name": "stdout",
     "output_type": "stream",
     "text": [
      "[('date', 5), ('store_nbr', 4), ('onpromotion', 2), ('family', 2), ('id', 2), ('type', 2)]\n"
     ]
    }
   ],
   "source": [
    "import polars as pl\n",
    "from functools import reduce\n",
    "from collections import Counter\n",
    "\n",
    "# List your dataframes\n",
    "all_dfs: list[pl.DataFrame] = [\n",
    "    train_df,\n",
    "    test_df,\n",
    "    holidays_events_df,\n",
    "    oil_df,\n",
    "    transactions_df,\n",
    "    stores_df,\n",
    "]\n",
    "\n",
    "# Get the set of columns for each dataframe\n",
    "df_cols = [set(df.columns) for df in all_dfs]\n",
    "\n",
    "# Count how many times each column appears\n",
    "col_counts = Counter(col for cols in df_cols for col in cols)\n",
    "\n",
    "print(col_counts.most_common(6))\n"
   ]
  },
  {
   "cell_type": "code",
   "execution_count": 11,
   "id": "764aaea7",
   "metadata": {},
   "outputs": [],
   "source": [
    "date_included_dfs: list[pl.DataFrame] = [\n",
    "    train_df,\n",
    "    holidays_events_df,\n",
    "    oil_df,\n",
    "    transactions_df,\n",
    "]"
   ]
  }
 ],
 "metadata": {
  "kernelspec": {
   "display_name": "jupyter-env-002",
   "language": "python",
   "name": "python3"
  },
  "language_info": {
   "codemirror_mode": {
    "name": "ipython",
    "version": 3
   },
   "file_extension": ".py",
   "mimetype": "text/x-python",
   "name": "python",
   "nbconvert_exporter": "python",
   "pygments_lexer": "ipython3",
   "version": "3.13.1"
  }
 },
 "nbformat": 4,
 "nbformat_minor": 5
}
