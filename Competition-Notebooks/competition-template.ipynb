{
 "cells": [
  {
   "cell_type": "code",
   "execution_count": null,
   "id": "initial_id",
   "metadata": {
    "ExecuteTime": {
     "end_time": "2025-02-02T06:08:14.766915Z",
     "start_time": "2025-02-02T06:08:10.972366Z"
    },
    "collapsed": true
   },
   "outputs": [],
   "source": [
    "import numpy as np\n",
    "import matplotlib.pyplot as plt\n",
    "import polars as pl\n",
    "import sklearn\n",
    "import os, pathlib, shutil, sys\n",
    "import kaggle, kagglehub\n",
    "\n",
    "print(\n",
    "    \"python \" + sys.version.split()[0],\n",
    "    \"numpy \" + np.__version__,\n",
    "    \"polars \" + pl.__version__,\n",
    "    \"scikit-learn \" + sklearn.__version__,\n",
    "    sep=\"\\n\",\n",
    ")"
   ]
  },
  {
   "cell_type": "markdown",
   "id": "332a4db4bb703473",
   "metadata": {},
   "source": [
    "Downloading the competition"
   ]
  },
  {
   "cell_type": "code",
   "execution_count": null,
   "id": "ba62f517427262cd",
   "metadata": {
    "ExecuteTime": {
     "end_time": "2025-01-27T06:32:20.036380Z",
     "start_time": "2025-01-27T06:32:13.741759Z"
    }
   },
   "outputs": [],
   "source": [
    "competition_name = \"store-sales-time-series-forecasting\"\n",
    "competition_path = pathlib.Path(\n",
    "    kagglehub.competition.competition_download(competition_name)\n",
    ")  # Downloads the competition\n",
    "competition_files: list = os.listdir(competition_path)\n",
    "\n",
    "print(competition_files)\n",
    "\n",
    "shutil.copytree(competition_path, \"./data\", dirs_exist_ok=True)"
   ]
  },
  {
   "cell_type": "markdown",
   "id": "1e1d399d",
   "metadata": {},
   "source": [
    "Load all csv files of the competition into polars dataframes"
   ]
  },
  {
   "cell_type": "code",
   "execution_count": 13,
   "id": "933b0dac",
   "metadata": {},
   "outputs": [],
   "source": [
    "# Load the csv files `['holidays_events.csv', 'oil.csv', 'sample_submission.csv', 'stores.csv', 'test.csv', 'train.csv', 'transactions.csv']` into polars dataframes\n",
    "train_df = pl.read_csv(\"./data/train.csv\")\n",
    "test_df = pl.read_csv(\"./data/test.csv\")\n",
    "sample_submission_df = pl.read_csv(\"./data/sample_submission.csv\")\n",
    "holidays_events_df = pl.read_csv(\"./data/holidays_events.csv\")\n",
    "oil_df = pl.read_csv(\"./data/oil.csv\")\n",
    "stores_df = pl.read_csv(\"./data/stores.csv\")\n",
    "transactions_df = pl.read_csv(\"./data/transactions.csv\")\n"
   ]
  },
  {
   "cell_type": "markdown",
   "id": "64b39bd7",
   "metadata": {},
   "source": [
    "Perform EDA on the loaded dataframes"
   ]
  },
  {
   "cell_type": "code",
   "execution_count": null,
   "id": "ad9f55d4",
   "metadata": {},
   "outputs": [],
   "source": []
  }
 ],
 "metadata": {
  "kernelspec": {
   "display_name": "tf-env-0019",
   "language": "python",
   "name": "python3"
  },
  "language_info": {
   "codemirror_mode": {
    "name": "ipython",
    "version": 3
   },
   "file_extension": ".py",
   "mimetype": "text/x-python",
   "name": "python",
   "nbconvert_exporter": "python",
   "pygments_lexer": "ipython3",
   "version": "3.12.8"
  }
 },
 "nbformat": 4,
 "nbformat_minor": 5
}
