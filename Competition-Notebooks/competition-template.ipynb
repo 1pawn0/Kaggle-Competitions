{
  "cells": [
    {
      "cell_type": "markdown",
      "metadata": {
        "id": "view-in-github",
        "colab_type": "text"
      },
      "source": [
        "<a href=\"https://colab.research.google.com/github/1pawn0/Kaggle-Competitions/blob/main/Competition-Notebooks/competition-template.ipynb\" target=\"_parent\"><img src=\"https://colab.research.google.com/assets/colab-badge.svg\" alt=\"Open In Colab\"/></a>"
      ]
    },
    {
      "cell_type": "code",
      "execution_count": 13,
      "id": "initial_id",
      "metadata": {
        "ExecuteTime": {
          "end_time": "2025-02-02T06:08:14.766915Z",
          "start_time": "2025-02-02T06:08:10.972366Z"
        },
        "collapsed": true,
        "id": "initial_id",
        "colab": {
          "base_uri": "https://localhost:8080/"
        },
        "outputId": "5644e5b7-a67e-4e28-b829-89db3f919aad"
      },
      "outputs": [
        {
          "output_type": "stream",
          "name": "stdout",
          "text": [
            "python 3.12.11\n",
            "numpy 2.0.2\n",
            "polars 1.25.2\n",
            "kagglehub 0.3.13\n"
          ]
        }
      ],
      "source": [
        "import numpy as np\n",
        "import polars as pl\n",
        "import plotly.express as px\n",
        "import plotly.graph_objects as go\n",
        "import os, shutil, sys\n",
        "from pathlib import Path\n",
        "from google.colab import userdata\n",
        "os.environ['KAGGLE_KEY'] = userdata.get('KAGGLE_KEY')\n",
        "os.environ['KAGGLE_USERNAME'] = userdata.get('KAGGLE_USERNAME')\n",
        "import kagglehub\n",
        "\n",
        "print(\n",
        "    \"python \" + sys.version.split()[0],\n",
        "    \"numpy \" + np.__version__,\n",
        "    \"polars \" + pl.__version__,\n",
        "    \"kagglehub \" + kagglehub.__version__,\n",
        "    sep=\"\\n\",\n",
        ")"
      ]
    },
    {
      "cell_type": "markdown",
      "id": "332a4db4bb703473",
      "metadata": {
        "id": "332a4db4bb703473"
      },
      "source": [
        "Downloading the competition"
      ]
    },
    {
      "cell_type": "code",
      "execution_count": 14,
      "id": "ba62f517427262cd",
      "metadata": {
        "ExecuteTime": {
          "end_time": "2025-01-27T06:32:20.036380Z",
          "start_time": "2025-01-27T06:32:13.741759Z"
        },
        "id": "ba62f517427262cd",
        "colab": {
          "base_uri": "https://localhost:8080/"
        },
        "outputId": "befccffe-dca1-4094-e753-6145819ed10f"
      },
      "outputs": [
        {
          "output_type": "stream",
          "name": "stdout",
          "text": [
            "Downloading from https://www.kaggle.com/api/v1/competitions/data/download-all/contradictory-my-dear-watson...\n"
          ]
        },
        {
          "output_type": "stream",
          "name": "stderr",
          "text": [
            "100%|██████████| 1.78M/1.78M [00:00<00:00, 115MB/s]"
          ]
        },
        {
          "output_type": "stream",
          "name": "stdout",
          "text": [
            "Extracting files...\n",
            "['train.csv', 'test.csv', 'sample_submission.csv']\n",
            "data/contradictory-my-dear-watson\n"
          ]
        },
        {
          "output_type": "stream",
          "name": "stderr",
          "text": [
            "\n"
          ]
        }
      ],
      "source": [
        "competition_name = \"contradictory-my-dear-watson\"\n",
        "competition_path: Path = Path(kagglehub.competition.competition_download(competition_name))\n",
        "competition_files: list = os.listdir(competition_path)\n",
        "print(competition_files)\n",
        "competition_data_path: Path = Path(f\"./data/{competition_name}\")\n",
        "shutil.copytree(competition_path, competition_data_path, dirs_exist_ok=True)\n",
        "print(competition_data_path)"
      ]
    },
    {
      "cell_type": "markdown",
      "id": "1e1d399d",
      "metadata": {
        "id": "1e1d399d"
      },
      "source": [
        "Load all csv files of the competition into polars dataframes"
      ]
    },
    {
      "cell_type": "code",
      "execution_count": 15,
      "id": "933b0dac",
      "metadata": {
        "id": "933b0dac"
      },
      "outputs": [],
      "source": [
        "train_df = pl.read_csv(competition_data_path / \"train.csv\")\n",
        "test_df = pl.read_csv(competition_data_path / \"test.csv\")\n",
        "sample_submission_df = pl.read_csv(competition_data_path / \"sample_submission.csv\")\n"
      ]
    },
    {
      "cell_type": "markdown",
      "id": "64b39bd7",
      "metadata": {
        "id": "64b39bd7"
      },
      "source": [
        "Perform EDA on the loaded dataframes"
      ]
    },
    {
      "cell_type": "code",
      "execution_count": null,
      "id": "ad9f55d4",
      "metadata": {
        "id": "ad9f55d4"
      },
      "outputs": [],
      "source": []
    }
  ],
  "metadata": {
    "kernelspec": {
      "display_name": "tf-env-0019",
      "language": "python",
      "name": "python3"
    },
    "language_info": {
      "codemirror_mode": {
        "name": "ipython",
        "version": 3
      },
      "file_extension": ".py",
      "mimetype": "text/x-python",
      "name": "python",
      "nbconvert_exporter": "python",
      "pygments_lexer": "ipython3",
      "version": "3.12.8"
    },
    "colab": {
      "provenance": [],
      "include_colab_link": true
    }
  },
  "nbformat": 4,
  "nbformat_minor": 5
}