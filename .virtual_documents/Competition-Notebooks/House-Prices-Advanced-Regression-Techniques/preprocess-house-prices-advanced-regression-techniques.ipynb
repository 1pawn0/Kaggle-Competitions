import os
import pathlib
import shutil 

import jupyter
import kaggle
import kagglehub
import matplotlib.pyplot as plt
import numpy as np
import polars as pl
import sklearn
import tensorflow as tf





competition_name = "house-prices-advanced-regression-techniques"  # Change this to the competition you want to download
competition_path = pathlib.Path(
    kagglehub.competition.competition_download(competition_name)
)  # Downloads the competition
competition_files: list = os.listdir(
    competition_path
)  # List of the files included in the competition

print(competition_files)

# copy files to the current directory
shutil.copyfile(competition_path / "sample_submission.csv", "sample_submission.csv")
shutil.copyfile(competition_path / "test.csv", "test.csv")
shutil.copyfile(competition_path / "train.csv", "train.csv")
shutil.copyfile(competition_path / "sample_submission.csv", "sample_submission.csv")
shutil.copyfile(competition_path / "data_description.txt", "data_description.txt")

# hey codeium
#


train_df = pl.read_csv("train.csv", infer_schema_length=None)
test_df = pl.read_csv("test.csv", infer_schema_length=None)


train_df.shape


train_df



